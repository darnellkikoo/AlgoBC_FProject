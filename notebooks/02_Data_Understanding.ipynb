{
  "nbformat": 4,
  "nbformat_minor": 0,
  "metadata": {
    "colab": {
      "name": "02_Data_Understanding",
      "provenance": []
    },
    "kernelspec": {
      "name": "python3",
      "display_name": "Python 3"
    },
    "language_info": {
      "name": "python"
    }
  },
  "cells": [
    {
      "cell_type": "markdown",
      "metadata": {
        "id": "KLVMCw4H3SWh"
      },
      "source": [
        "# Data Understanding\n",
        "\n",
        "It's important to have health insurance as a safety backup, especially when we get sick or injured in the most unwanted or unexpected times. Health insurance, will cover the unfortunate cost that we likely will not be able to afford on our own, as health care charges increase from time to time.\n",
        "\n",
        "In addition, there are also vehicle insurance. Generally, whoever is the titled owner of a car needs to be the one to insure it. Many insurance company provide vehicle insurance for the policyholders, who would be interested in insuring their car vehicle to prevent any massive unexpected expenses caused by accident. Any possible expenses caused by the damage vehicle will be fully covered by the insurance company until it reach a\n",
        "\n",
        "This dataset can be downloaded from Kaggle, with the title **\"Health Insurance Cross Prediction Dataset\"**"
      ]
    },
    {
      "cell_type": "markdown",
      "metadata": {
        "id": "tTuvE4m76fhx"
      },
      "source": [
        "# Data Overview\n",
        "\n",
        "Dataset Statistics   | Count\n",
        "---------------------|--------\n",
        "Number of Variables | 12\n",
        "Number of used observations | 304887\n",
        "Missing cells | 0\n",
        "Missing cells (%) | 0.0%\n",
        "Duplicate rows | 0\n",
        "\n",
        "Data Types\n",
        "\n",
        "Variable Types | Count\n",
        "---------------|-------\n",
        "Numeric | 6\n",
        "Categorical | 5\n",
        "Boolean | 1\n",
        "\n"
      ]
    },
    {
      "cell_type": "markdown",
      "metadata": {
        "id": "kHwtP1ZQOS0H"
      },
      "source": [
        "# Columns Explanation\n",
        "\n",
        "No | Feature | Data Type | Distinct | Missing (%) | Description\n",
        "--|---|---|---|---|---\n",
        "1|id|int64|304887|0.0%|Unique ID for the customer\n",
        "2|Gender|object|2|0.0%|Gender of the Customer\n",
        "3|Age|int64|66|0.0%|Age of the customer\n",
        "4|Driving_License|int64|2|0.0%|0:Customer does not have DL, 1:Customer already has DL\n",
        "5|Region_Code|float64|53|0.0%|Unique code for the region of the customer\n",
        "6|Previously_Insured|int64|2|0.0%|1:Customer already has Vehicle Insurance, 0:Customer doesn't have Vehicle Insurance\n",
        "7|Vehicle_Age|object|3|0.0%|Age of the Vehicle\n",
        "8|Vehicle_Damage|int64|2|0.0%|1:Customer got his/her vehicle damaged in the past. 0: Customer didn't get his/her vehicle damaged in the past\n",
        "9|Annual_Premium|float64|46366|0.0%|The amount customer needs to pay as premium in the year\n",
        "10|Policy_Sales_Channel|float64|152|0.0%|Anonymized Code for the channel of outreaching to the customer ie. Different Agents, Over Mail, Over Phone, In Person, etc.\n",
        "11|Vintage|int64|290|0.0%|Number of Days, Customer has been associated with the company\n",
        "12|Response|int64|2|0.0%|1:Customer is interested. 0:Customer is not interested"
      ]
    }
  ]
}