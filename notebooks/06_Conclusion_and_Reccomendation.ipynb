{
  "nbformat": 4,
  "nbformat_minor": 0,
  "metadata": {
    "colab": {
      "name": "06_Conclusion_and_Reccomendation",
      "provenance": []
    },
    "kernelspec": {
      "name": "python3",
      "display_name": "Python 3"
    },
    "language_info": {
      "name": "python"
    }
  },
  "cells": [
    {
      "cell_type": "markdown",
      "metadata": {
        "id": "DftBjZNHhEWW"
      },
      "source": [
        "# Conclusion and Reccommendation"
      ]
    },
    {
      "cell_type": "markdown",
      "metadata": {
        "id": "vdA_5o_4ckcH"
      },
      "source": [
        "**Conclusion**\n",
        "\n",
        "By using a machine learning model, our insurance company can save up to 62% in marketing expenses. Hence, it is really recommended to use a machine learning model in determining customers who would be interested in insuring their vehicle\n",
        "\n",
        "**Reccommendation**\n",
        "\n",
        "- Our recommendation might be to get a domain knowledge regarding the policy_sales_channel feature, so that we could get a better result on our model.\n",
        "- Add more rows and features to the model, so to reduce underfitting and improve model variation\n",
        "- Another recommendation is to reach customers who have had their vehicle damaged."
      ]
    }
  ]
}