{
  "nbformat": 4,
  "nbformat_minor": 0,
  "metadata": {
    "colab": {
      "name": "01_Problem_Statement",
      "provenance": []
    },
    "kernelspec": {
      "name": "python3",
      "display_name": "Python 3"
    },
    "language_info": {
      "name": "python"
    }
  },
  "cells": [
    {
      "cell_type": "markdown",
      "metadata": {
        "id": "WF1ZHte68VxB"
      },
      "source": [
        "# **Problem Statement**"
      ]
    },
    {
      "cell_type": "markdown",
      "metadata": {
        "id": "sAbhEvQB8dT8"
      },
      "source": [
        "**Context**\n",
        "\n",
        "Most insurance companies generate revenue by Charging premiums in exchange for insurance coverage towards the customers. As time passes by, more and more insurance company tried to innovate by providing a Vehicle Insurance for their policyholders.\n",
        "\n",
        "An insurance policy is an arrangement by which a company will provide a guarantee of compensation for unwanted and unexpected loss, such as damage, illness or even death with a return for some specified premium amount.\n",
        "\n",
        "Usually people know only medical insurance, but there is also vehicle insurance where the insurance company will provide compensations in case some unfortunate accident happen to the vehicle.\n",
        "\n",
        "While people are still unfamiliar with this type of insurance, making a model to predict whether a customer would be interested in buying vehicle insurance will be extremely helpful for the company. If the models are predictive, the company can plan its communication strategy to reach out customers who are likely to be interested towards the vehicle insurance\n",
        "\n",
        "The aim of this project is to create a model which is able to make a prediction whether a customer would be interested in buying vehicle insurance.\n",
        "\n",
        "**Business Objective**\n",
        "\n",
        "The business objective of this project is to help the insurance company to select specific number of customers who are likely to be interested in buying vehicle insurance, to increase the insurance sales.\n",
        "\n",
        "**Output**\n",
        "\n",
        "The output of this project is the predicted response of the customer reaction, whether they are interested or not, given the features such as age, vehicle age, etc.\n",
        "\n",
        "**Machine Learning Type**\n",
        "\n",
        "This project will use a supervised learning, because we have already known the label of the data, which is the Response of the customers.\n",
        "\n",
        "**Performance Measure**\n",
        "\n",
        "To measure the performance of classification model, we will precision-recall, accuracy and AUC ROC(main metric), because we want to know the best threshold for our model.\n"
      ]
    }
  ]
}