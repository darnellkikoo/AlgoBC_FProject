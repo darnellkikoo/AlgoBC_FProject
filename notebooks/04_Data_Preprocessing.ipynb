{
  "nbformat": 4,
  "nbformat_minor": 0,
  "metadata": {
    "colab": {
      "name": "04_Data_Preprocessing",
      "provenance": []
    },
    "kernelspec": {
      "name": "python3",
      "display_name": "Python 3"
    },
    "language_info": {
      "name": "python"
    }
  },
  "cells": [
    {
      "cell_type": "code",
      "metadata": {
        "id": "dwcggHL9srwh"
      },
      "source": [
        "import pandas as pd\n",
        "from pandas_profiling import ProfileReport\n",
        "import numpy as np\n",
        "import matplotlib.pyplot as plt\n",
        "%matplotlib inline\n",
        "import seaborn as sns\n",
        "import cufflinks as cf\n",
        "from scipy import stats\n",
        "\n",
        "sns.set_style(\"whitegrid\")\n",
        "plt.style.use(\"fivethirtyeight\")\n",
        "\n",
        "from sklearn.preprocessing import OneHotEncoder\n",
        "\n",
        "# Disable warnings \n",
        "import warnings\n",
        "warnings.filterwarnings('ignore')"
      ],
      "execution_count": 8,
      "outputs": []
    },
    {
      "cell_type": "code",
      "metadata": {
        "id": "xriNnencarZc"
      },
      "source": [
        "#Setting up Visualization functions\n",
        "def without_hue(data,feature,ax):\n",
        "    total=(len(data))\n",
        "    bars_plot=ax.patches\n",
        "    for bars in bars_plot:\n",
        "        percentage = '{:.1f}%'.format(100 * bars.get_height()/total)\n",
        "        x = bars.get_x() + bars.get_width()/2.0\n",
        "        y = bars.get_height()-5\n",
        "        ax.text(x, y,(percentage,bars.get_height()),ha='center')"
      ],
      "execution_count": 9,
      "outputs": []
    },
    {
      "cell_type": "code",
      "metadata": {
        "id": "3jVXWCRhHj7A"
      },
      "source": [
        "train_file_path = 'https://raw.githubusercontent.com/darnellkikoo/AlgoBC_FProject/main/assets/dev.csv'\n",
        "df = pd.read_csv(train_file_path)"
      ],
      "execution_count": 10,
      "outputs": []
    },
    {
      "cell_type": "code",
      "metadata": {
        "colab": {
          "base_uri": "https://localhost:8080/",
          "height": 203
        },
        "id": "-bEMxmNcH6ti",
        "outputId": "3c6eef2b-a558-4caf-f773-a4366c2c5361"
      },
      "source": [
        "df.head()"
      ],
      "execution_count": 11,
      "outputs": [
        {
          "output_type": "execute_result",
          "data": {
            "text/html": [
              "<div>\n",
              "<style scoped>\n",
              "    .dataframe tbody tr th:only-of-type {\n",
              "        vertical-align: middle;\n",
              "    }\n",
              "\n",
              "    .dataframe tbody tr th {\n",
              "        vertical-align: top;\n",
              "    }\n",
              "\n",
              "    .dataframe thead th {\n",
              "        text-align: right;\n",
              "    }\n",
              "</style>\n",
              "<table border=\"1\" class=\"dataframe\">\n",
              "  <thead>\n",
              "    <tr style=\"text-align: right;\">\n",
              "      <th></th>\n",
              "      <th>id</th>\n",
              "      <th>Gender</th>\n",
              "      <th>Age</th>\n",
              "      <th>Driving_License</th>\n",
              "      <th>Region_Code</th>\n",
              "      <th>Previously_Insured</th>\n",
              "      <th>Vehicle_Age</th>\n",
              "      <th>Vehicle_Damage</th>\n",
              "      <th>Annual_Premium</th>\n",
              "      <th>Policy_Sales_Channel</th>\n",
              "      <th>Vintage</th>\n",
              "      <th>Response</th>\n",
              "    </tr>\n",
              "  </thead>\n",
              "  <tbody>\n",
              "    <tr>\n",
              "      <th>0</th>\n",
              "      <td>138389</td>\n",
              "      <td>Male</td>\n",
              "      <td>47</td>\n",
              "      <td>1</td>\n",
              "      <td>28.0</td>\n",
              "      <td>0</td>\n",
              "      <td>1-2 Year</td>\n",
              "      <td>Yes</td>\n",
              "      <td>33823.0</td>\n",
              "      <td>26.0</td>\n",
              "      <td>172</td>\n",
              "      <td>0</td>\n",
              "    </tr>\n",
              "    <tr>\n",
              "      <th>1</th>\n",
              "      <td>149691</td>\n",
              "      <td>Male</td>\n",
              "      <td>45</td>\n",
              "      <td>1</td>\n",
              "      <td>28.0</td>\n",
              "      <td>0</td>\n",
              "      <td>1-2 Year</td>\n",
              "      <td>Yes</td>\n",
              "      <td>2630.0</td>\n",
              "      <td>124.0</td>\n",
              "      <td>17</td>\n",
              "      <td>0</td>\n",
              "    </tr>\n",
              "    <tr>\n",
              "      <th>2</th>\n",
              "      <td>213565</td>\n",
              "      <td>Male</td>\n",
              "      <td>23</td>\n",
              "      <td>1</td>\n",
              "      <td>7.0</td>\n",
              "      <td>1</td>\n",
              "      <td>&lt; 1 Year</td>\n",
              "      <td>No</td>\n",
              "      <td>34669.0</td>\n",
              "      <td>152.0</td>\n",
              "      <td>126</td>\n",
              "      <td>0</td>\n",
              "    </tr>\n",
              "    <tr>\n",
              "      <th>3</th>\n",
              "      <td>278877</td>\n",
              "      <td>Male</td>\n",
              "      <td>23</td>\n",
              "      <td>1</td>\n",
              "      <td>8.0</td>\n",
              "      <td>1</td>\n",
              "      <td>&lt; 1 Year</td>\n",
              "      <td>No</td>\n",
              "      <td>29887.0</td>\n",
              "      <td>152.0</td>\n",
              "      <td>67</td>\n",
              "      <td>0</td>\n",
              "    </tr>\n",
              "    <tr>\n",
              "      <th>4</th>\n",
              "      <td>181394</td>\n",
              "      <td>Female</td>\n",
              "      <td>39</td>\n",
              "      <td>1</td>\n",
              "      <td>41.0</td>\n",
              "      <td>0</td>\n",
              "      <td>1-2 Year</td>\n",
              "      <td>Yes</td>\n",
              "      <td>35636.0</td>\n",
              "      <td>124.0</td>\n",
              "      <td>16</td>\n",
              "      <td>0</td>\n",
              "    </tr>\n",
              "  </tbody>\n",
              "</table>\n",
              "</div>"
            ],
            "text/plain": [
              "       id  Gender  Age  ...  Policy_Sales_Channel  Vintage  Response\n",
              "0  138389    Male   47  ...                  26.0      172         0\n",
              "1  149691    Male   45  ...                 124.0       17         0\n",
              "2  213565    Male   23  ...                 152.0      126         0\n",
              "3  278877    Male   23  ...                 152.0       67         0\n",
              "4  181394  Female   39  ...                 124.0       16         0\n",
              "\n",
              "[5 rows x 12 columns]"
            ]
          },
          "metadata": {
            "tags": []
          },
          "execution_count": 11
        }
      ]
    },
    {
      "cell_type": "code",
      "metadata": {
        "colab": {
          "base_uri": "https://localhost:8080/"
        },
        "id": "WYTvpwrDJREn",
        "outputId": "749bdddc-fa5b-455b-90b8-cee52b777050"
      },
      "source": [
        "df.info()"
      ],
      "execution_count": 12,
      "outputs": [
        {
          "output_type": "stream",
          "text": [
            "<class 'pandas.core.frame.DataFrame'>\n",
            "RangeIndex: 304887 entries, 0 to 304886\n",
            "Data columns (total 12 columns):\n",
            " #   Column                Non-Null Count   Dtype  \n",
            "---  ------                --------------   -----  \n",
            " 0   id                    304887 non-null  int64  \n",
            " 1   Gender                304887 non-null  object \n",
            " 2   Age                   304887 non-null  int64  \n",
            " 3   Driving_License       304887 non-null  int64  \n",
            " 4   Region_Code           304887 non-null  float64\n",
            " 5   Previously_Insured    304887 non-null  int64  \n",
            " 6   Vehicle_Age           304887 non-null  object \n",
            " 7   Vehicle_Damage        304887 non-null  object \n",
            " 8   Annual_Premium        304887 non-null  float64\n",
            " 9   Policy_Sales_Channel  304887 non-null  float64\n",
            " 10  Vintage               304887 non-null  int64  \n",
            " 11  Response              304887 non-null  int64  \n",
            "dtypes: float64(3), int64(6), object(3)\n",
            "memory usage: 27.9+ MB\n"
          ],
          "name": "stdout"
        }
      ]
    },
    {
      "cell_type": "markdown",
      "metadata": {
        "id": "7zaOUMwYHnVV"
      },
      "source": [
        "# 1. Casting"
      ]
    },
    {
      "cell_type": "code",
      "metadata": {
        "id": "rZ8ypVaSH4T6"
      },
      "source": [
        "def casting(df):\n",
        "  df['Gender'] = df['Gender'].astype('category')\n",
        "  df['Age'] = df['Age'].astype(pd.Int64Dtype())\n",
        "  df['Previously_Insured'] = df['Previously_Insured'].astype(pd.Int64Dtype()).astype('category')\n",
        "  df['Annual_Premium'] = df['Annual_Premium'].astype(float)\n",
        "  df['Vintage'] = df['Vintage'].astype(pd.Int64Dtype())\n",
        "  df['Response'] = df['Response'].astype(pd.Int64Dtype()).astype('category')\n",
        "\n",
        "  return df"
      ],
      "execution_count": 13,
      "outputs": []
    },
    {
      "cell_type": "code",
      "metadata": {
        "id": "ce8vSts8I-y6"
      },
      "source": [
        "df1 = casting(df)"
      ],
      "execution_count": 14,
      "outputs": []
    },
    {
      "cell_type": "code",
      "metadata": {
        "colab": {
          "base_uri": "https://localhost:8080/"
        },
        "id": "P86I4OILOzGs",
        "outputId": "a143c3d5-0e92-4bb3-d2e9-2d41329c4a0d"
      },
      "source": [
        "df1.shape"
      ],
      "execution_count": 15,
      "outputs": [
        {
          "output_type": "execute_result",
          "data": {
            "text/plain": [
              "(304887, 12)"
            ]
          },
          "metadata": {
            "tags": []
          },
          "execution_count": 15
        }
      ]
    },
    {
      "cell_type": "markdown",
      "metadata": {
        "id": "aIxjEHojJ4n9"
      },
      "source": [
        "# 2. Unclear Features"
      ]
    },
    {
      "cell_type": "markdown",
      "metadata": {
        "id": "PSIHYSEDJ9Kk"
      },
      "source": [
        "The feature Policy_Sales_Channel and Region_Code are not relevant to real world applications. \n",
        "\n",
        "Policy_Sales_Channel are anonymized saling code of the insurance company. Hence, we can't use it as we don't know what was the meaning of the values behind the feature.\n",
        "\n",
        "On the other hand, Region_Code represents 53++ distinct values, whereas [Office of the Registrar General & Census Commissioner, India](https://censusindia.gov.in/Census_Data_2001/PLCN/plcn.html) mentioned that there are only 35 region codes. So we decided to just drop this column because of the unexplained excess codes.\n",
        "\n"
      ]
    },
    {
      "cell_type": "code",
      "metadata": {
        "id": "r2OebUmvJ35N"
      },
      "source": [
        "def removeUnwantedFeature(df):\n",
        "  df = df.drop(['Policy_Sales_Channel', 'Region_Code'], axis = 1)\n",
        "  \n",
        "  return df"
      ],
      "execution_count": 16,
      "outputs": []
    },
    {
      "cell_type": "code",
      "metadata": {
        "id": "etngp1zHK_43"
      },
      "source": [
        "df2 = removeUnwantedFeature(df1)"
      ],
      "execution_count": 17,
      "outputs": []
    },
    {
      "cell_type": "code",
      "metadata": {
        "colab": {
          "base_uri": "https://localhost:8080/"
        },
        "id": "uwSR8hONLDDd",
        "outputId": "df1ae45e-b041-4a7d-b415-0fb03368c250"
      },
      "source": [
        "df2.columns"
      ],
      "execution_count": 18,
      "outputs": [
        {
          "output_type": "execute_result",
          "data": {
            "text/plain": [
              "Index(['id', 'Gender', 'Age', 'Driving_License', 'Previously_Insured',\n",
              "       'Vehicle_Age', 'Vehicle_Damage', 'Annual_Premium', 'Vintage',\n",
              "       'Response'],\n",
              "      dtype='object')"
            ]
          },
          "metadata": {
            "tags": []
          },
          "execution_count": 18
        }
      ]
    },
    {
      "cell_type": "markdown",
      "metadata": {
        "id": "85IsszP8aKlQ"
      },
      "source": [
        "# 3. Remove Insignificant Data"
      ]
    },
    {
      "cell_type": "code",
      "metadata": {
        "colab": {
          "base_uri": "https://localhost:8080/",
          "height": 321
        },
        "id": "omBjbq24ajDA",
        "outputId": "8dc5d7a3-a96c-4222-ec5e-638ebc14ef38"
      },
      "source": [
        "plt.figure(figsize=(8,4))\n",
        "a=sns.countplot(x = \"Driving_License\", data = df2)\n",
        "without_hue(df2, 'Vehicle_Age', a)\n",
        "plt.xlabel(\"Driving License\")"
      ],
      "execution_count": 19,
      "outputs": [
        {
          "output_type": "execute_result",
          "data": {
            "text/plain": [
              "Text(0.5, 0, 'Driving License')"
            ]
          },
          "metadata": {
            "tags": []
          },
          "execution_count": 19
        },
        {
          "output_type": "display_data",
          "data": {
            "image/png": "[encoded data removed]",
            "text/plain": [
              "<Figure size 576x288 with 1 Axes>"
            ]
          },
          "metadata": {
            "tags": []
          }
        }
      ]
    },
    {
      "cell_type": "markdown",
      "metadata": {
        "id": "TBAagPZ5aikL"
      },
      "source": [
        "The countplot shows that the number of people with no Driving License is really small, with a 6.2%. Hence, we decide to delete the row of customer without any Driving license, assuming that all of the customers who buy insurance vehicle must have a driving license."
      ]
    },
    {
      "cell_type": "code",
      "metadata": {
        "id": "SBpW7JzGbE4B"
      },
      "source": [
        "def removeDrivingLicense(df):\n",
        "  df = df[df['Driving_License'] == 1]\n",
        "  df = df.drop('Driving_License', axis = 1)\n",
        "  return df"
      ],
      "execution_count": 20,
      "outputs": []
    },
    {
      "cell_type": "code",
      "metadata": {
        "id": "FhLanpj1bTET"
      },
      "source": [
        "df3 = removeDrivingLicense(df2)"
      ],
      "execution_count": 21,
      "outputs": []
    },
    {
      "cell_type": "code",
      "metadata": {
        "colab": {
          "base_uri": "https://localhost:8080/"
        },
        "id": "A-5P8_Dhbo7Q",
        "outputId": "42547f20-1278-4bfe-bcce-9cc98a031a76"
      },
      "source": [
        "df3.shape"
      ],
      "execution_count": 22,
      "outputs": [
        {
          "output_type": "execute_result",
          "data": {
            "text/plain": [
              "(304265, 9)"
            ]
          },
          "metadata": {
            "tags": []
          },
          "execution_count": 22
        }
      ]
    },
    {
      "cell_type": "markdown",
      "metadata": {
        "id": "0psiZxt7aEaS"
      },
      "source": [
        "# 4. Encode Categorical Data"
      ]
    },
    {
      "cell_type": "markdown",
      "metadata": {
        "id": "CQlLZtRDdIV2"
      },
      "source": [
        "First, we will do ordinal encoding to the Vehicle_Age feature, as the category is related to each other with a hierarchy"
      ]
    },
    {
      "cell_type": "code",
      "metadata": {
        "id": "nw8b80STdQxc"
      },
      "source": [
        "def OrdinalEncode(df):\n",
        "  #Vehicle_Age feature\n",
        "  df.loc[df['Vehicle_Age'] == '< 1 Year', 'Vehicle_Age'] = 0\n",
        "  df.loc[df['Vehicle_Age'] == '1-2 Year', 'Vehicle_Age'] = 1\n",
        "  df.loc[df['Vehicle_Age'] == '> 2 Years', 'Vehicle_Age'] = 2\n",
        "\n",
        "  #Vehicle_Damage feature\n",
        "  df.loc[df['Vehicle_Damage'] == 'Yes', 'Vehicle_Damage'] = 1\n",
        "  df.loc[df['Vehicle_Damage'] == 'No', 'Vehicle_Damage'] = 0\n",
        "\n",
        "  return df"
      ],
      "execution_count": 23,
      "outputs": []
    },
    {
      "cell_type": "code",
      "metadata": {
        "id": "uwaIk7EheQ9x"
      },
      "source": [
        "df4 = OrdinalEncode(df3)"
      ],
      "execution_count": 24,
      "outputs": []
    },
    {
      "cell_type": "code",
      "metadata": {
        "id": "sCEWOOEqO60J"
      },
      "source": [
        "def EncodeCategoricalData(df, col_list):\n",
        "  OH_encoder = OneHotEncoder(handle_unknown='ignore', sparse=False)\n",
        "  OH_cols = pd.DataFrame(OH_encoder.fit_transform(df[col_list]))\n",
        "\n",
        "  #Replace index\n",
        "  OH_cols.index = df.index\n",
        "\n",
        "  #Drop categorical column from numerical dataframe\n",
        "  num_X_train = df.drop(col_list, axis=1)\n",
        "\n",
        "  #combine back dataframe\n",
        "  df_last = pd.concat([num_X_train, OH_cols], axis=1)\n",
        "  return df_last\n"
      ],
      "execution_count": 25,
      "outputs": []
    },
    {
      "cell_type": "code",
      "metadata": {
        "id": "yXvF9sdiYNfW"
      },
      "source": [
        "col_list = ['Gender']\n",
        "df5 = EncodeCategoricalData(df4, col_list)"
      ],
      "execution_count": 26,
      "outputs": []
    },
    {
      "cell_type": "code",
      "metadata": {
        "colab": {
          "base_uri": "https://localhost:8080/",
          "height": 203
        },
        "id": "nsXjywoQilPs",
        "outputId": "c52b8464-744a-4d56-d61c-8fb96d7df404"
      },
      "source": [
        "df5.head()"
      ],
      "execution_count": 27,
      "outputs": [
        {
          "output_type": "execute_result",
          "data": {
            "text/html": [
              "<div>\n",
              "<style scoped>\n",
              "    .dataframe tbody tr th:only-of-type {\n",
              "        vertical-align: middle;\n",
              "    }\n",
              "\n",
              "    .dataframe tbody tr th {\n",
              "        vertical-align: top;\n",
              "    }\n",
              "\n",
              "    .dataframe thead th {\n",
              "        text-align: right;\n",
              "    }\n",
              "</style>\n",
              "<table border=\"1\" class=\"dataframe\">\n",
              "  <thead>\n",
              "    <tr style=\"text-align: right;\">\n",
              "      <th></th>\n",
              "      <th>id</th>\n",
              "      <th>Age</th>\n",
              "      <th>Previously_Insured</th>\n",
              "      <th>Vehicle_Age</th>\n",
              "      <th>Vehicle_Damage</th>\n",
              "      <th>Annual_Premium</th>\n",
              "      <th>Vintage</th>\n",
              "      <th>Response</th>\n",
              "      <th>0</th>\n",
              "      <th>1</th>\n",
              "    </tr>\n",
              "  </thead>\n",
              "  <tbody>\n",
              "    <tr>\n",
              "      <th>0</th>\n",
              "      <td>138389</td>\n",
              "      <td>47</td>\n",
              "      <td>0</td>\n",
              "      <td>1</td>\n",
              "      <td>1</td>\n",
              "      <td>33823.0</td>\n",
              "      <td>172</td>\n",
              "      <td>0</td>\n",
              "      <td>0.0</td>\n",
              "      <td>1.0</td>\n",
              "    </tr>\n",
              "    <tr>\n",
              "      <th>1</th>\n",
              "      <td>149691</td>\n",
              "      <td>45</td>\n",
              "      <td>0</td>\n",
              "      <td>1</td>\n",
              "      <td>1</td>\n",
              "      <td>2630.0</td>\n",
              "      <td>17</td>\n",
              "      <td>0</td>\n",
              "      <td>0.0</td>\n",
              "      <td>1.0</td>\n",
              "    </tr>\n",
              "    <tr>\n",
              "      <th>2</th>\n",
              "      <td>213565</td>\n",
              "      <td>23</td>\n",
              "      <td>1</td>\n",
              "      <td>0</td>\n",
              "      <td>0</td>\n",
              "      <td>34669.0</td>\n",
              "      <td>126</td>\n",
              "      <td>0</td>\n",
              "      <td>0.0</td>\n",
              "      <td>1.0</td>\n",
              "    </tr>\n",
              "    <tr>\n",
              "      <th>3</th>\n",
              "      <td>278877</td>\n",
              "      <td>23</td>\n",
              "      <td>1</td>\n",
              "      <td>0</td>\n",
              "      <td>0</td>\n",
              "      <td>29887.0</td>\n",
              "      <td>67</td>\n",
              "      <td>0</td>\n",
              "      <td>0.0</td>\n",
              "      <td>1.0</td>\n",
              "    </tr>\n",
              "    <tr>\n",
              "      <th>4</th>\n",
              "      <td>181394</td>\n",
              "      <td>39</td>\n",
              "      <td>0</td>\n",
              "      <td>1</td>\n",
              "      <td>1</td>\n",
              "      <td>35636.0</td>\n",
              "      <td>16</td>\n",
              "      <td>0</td>\n",
              "      <td>1.0</td>\n",
              "      <td>0.0</td>\n",
              "    </tr>\n",
              "  </tbody>\n",
              "</table>\n",
              "</div>"
            ],
            "text/plain": [
              "       id  Age Previously_Insured Vehicle_Age  ... Vintage  Response    0    1\n",
              "0  138389   47                  0           1  ...     172         0  0.0  1.0\n",
              "1  149691   45                  0           1  ...      17         0  0.0  1.0\n",
              "2  213565   23                  1           0  ...     126         0  0.0  1.0\n",
              "3  278877   23                  1           0  ...      67         0  0.0  1.0\n",
              "4  181394   39                  0           1  ...      16         0  1.0  0.0\n",
              "\n",
              "[5 rows x 10 columns]"
            ]
          },
          "metadata": {
            "tags": []
          },
          "execution_count": 27
        }
      ]
    },
    {
      "cell_type": "markdown",
      "metadata": {
        "id": "3JBOf8mElc4t"
      },
      "source": [
        "# 5. Remove Outlier in Annual_Premium"
      ]
    },
    {
      "cell_type": "code",
      "metadata": {
        "id": "rHXXwVYzlj5j"
      },
      "source": [
        "def makeBoxplot(df, columnName):\n",
        "  sns.catplot(x = \"Response\", y = columnName, data = df, kind =\"box\")"
      ],
      "execution_count": 28,
      "outputs": []
    },
    {
      "cell_type": "code",
      "metadata": {
        "colab": {
          "base_uri": "https://localhost:8080/",
          "height": 383
        },
        "id": "p97HJ7jwlk40",
        "outputId": "54e81559-55a0-429a-cda5-1dcf5a74a8c3"
      },
      "source": [
        "makeBoxplot(df5, 'Annual_Premium')"
      ],
      "execution_count": 29,
      "outputs": [
        {
          "output_type": "display_data",
          "data": {
            "image/png": "[encoded data removed]",
            "text/plain": [
              "<Figure size 360x360 with 1 Axes>"
            ]
          },
          "metadata": {
            "tags": []
          }
        }
      ]
    },
    {
      "cell_type": "markdown",
      "metadata": {
        "id": "Xdn9m36OmC5u"
      },
      "source": [
        "We can see that there is an outlier from our data. Hence, we decided to remove the outlier using the IQR method"
      ]
    },
    {
      "cell_type": "code",
      "metadata": {
        "id": "5wNLxGneo5aR"
      },
      "source": [
        "def removeAnnualOutlier(df):\n",
        "    Q1=df['Annual_Premium'].quantile(0.25)\n",
        "    Q3=df['Annual_Premium'].quantile(0.75)\n",
        "    IQR=Q3-Q1\n",
        "    df_final=df[~((df['Annual_Premium']<(Q1-1.5*IQR)) | (df['Annual_Premium']>(Q3+1.5*IQR)))]\n",
        "    return df_final"
      ],
      "execution_count": 30,
      "outputs": []
    },
    {
      "cell_type": "code",
      "metadata": {
        "colab": {
          "base_uri": "https://localhost:8080/",
          "height": 383
        },
        "id": "ltF4lbS_pNeS",
        "outputId": "3efc9e7b-7f61-42a9-ca1f-fadb4a8ad8a7"
      },
      "source": [
        "df6 = removeAnnualOutlier(df5)\n",
        "makeBoxplot(df6, 'Annual_Premium')"
      ],
      "execution_count": 31,
      "outputs": [
        {
          "output_type": "display_data",
          "data": {
            "image/png": "[encoded data removed]",
            "text/plain": [
              "<Figure size 360x360 with 1 Axes>"
            ]
          },
          "metadata": {
            "tags": []
          }
        }
      ]
    },
    {
      "cell_type": "markdown",
      "metadata": {
        "id": "u1g8Sjlmi9Vl"
      },
      "source": [
        "# 6. Standardization"
      ]
    },
    {
      "cell_type": "markdown",
      "metadata": {
        "id": "D089dy2r7JJg"
      },
      "source": [
        "We will try to standardize our numerical data, so that it can remove any outliers. It has proven to increase our model evaluation score, where our baseline model increased 23.7% on **ROC_AUC**"
      ]
    },
    {
      "cell_type": "code",
      "metadata": {
        "id": "8b_HuqNP7EqI"
      },
      "source": [
        "from sklearn.preprocessing import MinMaxScaler\n",
        "mm = MinMaxScaler()"
      ],
      "execution_count": 36,
      "outputs": []
    },
    {
      "cell_type": "code",
      "metadata": {
        "id": "IDard5Ih7sPj"
      },
      "source": [
        "def scaleNumericalColumn(df):\n",
        "  for i in ['Age', 'Annual_Premium', 'Vintage', 'Vehicle_Age', 'Vehicle_Damage']:\n",
        "    df[i] = mm.fit_transform(df[[i]])\n",
        "  return df"
      ],
      "execution_count": 37,
      "outputs": []
    },
    {
      "cell_type": "code",
      "metadata": {
        "id": "asa3vyz672Hs"
      },
      "source": [
        "df7 = scaleNumericalColumn(df6)"
      ],
      "execution_count": 38,
      "outputs": []
    },
    {
      "cell_type": "code",
      "metadata": {
        "id": "vfn8JSc6-QKC",
        "colab": {
          "base_uri": "https://localhost:8080/",
          "height": 203
        },
        "outputId": "231b06c0-09ed-4e58-f47f-11b99d8f0bed"
      },
      "source": [
        "df7.head()"
      ],
      "execution_count": 39,
      "outputs": [
        {
          "output_type": "execute_result",
          "data": {
            "text/html": [
              "<div>\n",
              "<style scoped>\n",
              "    .dataframe tbody tr th:only-of-type {\n",
              "        vertical-align: middle;\n",
              "    }\n",
              "\n",
              "    .dataframe tbody tr th {\n",
              "        vertical-align: top;\n",
              "    }\n",
              "\n",
              "    .dataframe thead th {\n",
              "        text-align: right;\n",
              "    }\n",
              "</style>\n",
              "<table border=\"1\" class=\"dataframe\">\n",
              "  <thead>\n",
              "    <tr style=\"text-align: right;\">\n",
              "      <th></th>\n",
              "      <th>id</th>\n",
              "      <th>Age</th>\n",
              "      <th>Previously_Insured</th>\n",
              "      <th>Vehicle_Age</th>\n",
              "      <th>Vehicle_Damage</th>\n",
              "      <th>Annual_Premium</th>\n",
              "      <th>Vintage</th>\n",
              "      <th>Response</th>\n",
              "      <th>0</th>\n",
              "      <th>1</th>\n",
              "    </tr>\n",
              "  </thead>\n",
              "  <tbody>\n",
              "    <tr>\n",
              "      <th>0</th>\n",
              "      <td>138389</td>\n",
              "      <td>0.415385</td>\n",
              "      <td>0</td>\n",
              "      <td>0.5</td>\n",
              "      <td>1.0</td>\n",
              "      <td>0.526802</td>\n",
              "      <td>0.560554</td>\n",
              "      <td>0</td>\n",
              "      <td>0.0</td>\n",
              "      <td>1.0</td>\n",
              "    </tr>\n",
              "    <tr>\n",
              "      <th>1</th>\n",
              "      <td>149691</td>\n",
              "      <td>0.384615</td>\n",
              "      <td>0</td>\n",
              "      <td>0.5</td>\n",
              "      <td>1.0</td>\n",
              "      <td>0.000000</td>\n",
              "      <td>0.024221</td>\n",
              "      <td>0</td>\n",
              "      <td>0.0</td>\n",
              "      <td>1.0</td>\n",
              "    </tr>\n",
              "    <tr>\n",
              "      <th>2</th>\n",
              "      <td>213565</td>\n",
              "      <td>0.046154</td>\n",
              "      <td>1</td>\n",
              "      <td>0.0</td>\n",
              "      <td>0.0</td>\n",
              "      <td>0.541090</td>\n",
              "      <td>0.401384</td>\n",
              "      <td>0</td>\n",
              "      <td>0.0</td>\n",
              "      <td>1.0</td>\n",
              "    </tr>\n",
              "    <tr>\n",
              "      <th>3</th>\n",
              "      <td>278877</td>\n",
              "      <td>0.046154</td>\n",
              "      <td>1</td>\n",
              "      <td>0.0</td>\n",
              "      <td>0.0</td>\n",
              "      <td>0.460329</td>\n",
              "      <td>0.197232</td>\n",
              "      <td>0</td>\n",
              "      <td>0.0</td>\n",
              "      <td>1.0</td>\n",
              "    </tr>\n",
              "    <tr>\n",
              "      <th>4</th>\n",
              "      <td>181394</td>\n",
              "      <td>0.292308</td>\n",
              "      <td>0</td>\n",
              "      <td>0.5</td>\n",
              "      <td>1.0</td>\n",
              "      <td>0.557421</td>\n",
              "      <td>0.020761</td>\n",
              "      <td>0</td>\n",
              "      <td>1.0</td>\n",
              "      <td>0.0</td>\n",
              "    </tr>\n",
              "  </tbody>\n",
              "</table>\n",
              "</div>"
            ],
            "text/plain": [
              "       id       Age Previously_Insured  ...  Response    0    1\n",
              "0  138389  0.415385                  0  ...         0  0.0  1.0\n",
              "1  149691  0.384615                  0  ...         0  0.0  1.0\n",
              "2  213565  0.046154                  1  ...         0  0.0  1.0\n",
              "3  278877  0.046154                  1  ...         0  0.0  1.0\n",
              "4  181394  0.292308                  0  ...         0  1.0  0.0\n",
              "\n",
              "[5 rows x 10 columns]"
            ]
          },
          "metadata": {
            "tags": []
          },
          "execution_count": 39
        }
      ]
    },
    {
      "cell_type": "markdown",
      "metadata": {
        "id": "CnaBZoE2GNoe"
      },
      "source": [
        "# Converting the test dataset using the used function on dev dataset"
      ]
    },
    {
      "cell_type": "code",
      "metadata": {
        "id": "8QrgsphRi7wR"
      },
      "source": [
        "test_file_path = 'https://raw.githubusercontent.com/darnellkikoo/AlgoBC_FProject/main/assets/test.csv'\n",
        "df_test = pd.read_csv(test_file_path)"
      ],
      "execution_count": 40,
      "outputs": []
    },
    {
      "cell_type": "code",
      "metadata": {
        "id": "UzzBYPK2tX-E",
        "colab": {
          "base_uri": "https://localhost:8080/",
          "height": 203
        },
        "outputId": "94200300-5932-4f87-f4a2-3e641d742351"
      },
      "source": [
        "df_test.head()"
      ],
      "execution_count": 41,
      "outputs": [
        {
          "output_type": "execute_result",
          "data": {
            "text/html": [
              "<div>\n",
              "<style scoped>\n",
              "    .dataframe tbody tr th:only-of-type {\n",
              "        vertical-align: middle;\n",
              "    }\n",
              "\n",
              "    .dataframe tbody tr th {\n",
              "        vertical-align: top;\n",
              "    }\n",
              "\n",
              "    .dataframe thead th {\n",
              "        text-align: right;\n",
              "    }\n",
              "</style>\n",
              "<table border=\"1\" class=\"dataframe\">\n",
              "  <thead>\n",
              "    <tr style=\"text-align: right;\">\n",
              "      <th></th>\n",
              "      <th>id</th>\n",
              "      <th>Gender</th>\n",
              "      <th>Age</th>\n",
              "      <th>Driving_License</th>\n",
              "      <th>Region_Code</th>\n",
              "      <th>Previously_Insured</th>\n",
              "      <th>Vehicle_Age</th>\n",
              "      <th>Vehicle_Damage</th>\n",
              "      <th>Annual_Premium</th>\n",
              "      <th>Policy_Sales_Channel</th>\n",
              "      <th>Vintage</th>\n",
              "      <th>Response</th>\n",
              "    </tr>\n",
              "  </thead>\n",
              "  <tbody>\n",
              "    <tr>\n",
              "      <th>0</th>\n",
              "      <td>208442</td>\n",
              "      <td>Female</td>\n",
              "      <td>23</td>\n",
              "      <td>1</td>\n",
              "      <td>22.0</td>\n",
              "      <td>1</td>\n",
              "      <td>&lt; 1 Year</td>\n",
              "      <td>No</td>\n",
              "      <td>48084.0</td>\n",
              "      <td>152.0</td>\n",
              "      <td>220</td>\n",
              "      <td>0</td>\n",
              "    </tr>\n",
              "    <tr>\n",
              "      <th>1</th>\n",
              "      <td>93685</td>\n",
              "      <td>Female</td>\n",
              "      <td>60</td>\n",
              "      <td>1</td>\n",
              "      <td>28.0</td>\n",
              "      <td>0</td>\n",
              "      <td>1-2 Year</td>\n",
              "      <td>Yes</td>\n",
              "      <td>34198.0</td>\n",
              "      <td>122.0</td>\n",
              "      <td>251</td>\n",
              "      <td>1</td>\n",
              "    </tr>\n",
              "    <tr>\n",
              "      <th>2</th>\n",
              "      <td>290052</td>\n",
              "      <td>Female</td>\n",
              "      <td>38</td>\n",
              "      <td>1</td>\n",
              "      <td>7.0</td>\n",
              "      <td>1</td>\n",
              "      <td>1-2 Year</td>\n",
              "      <td>No</td>\n",
              "      <td>41134.0</td>\n",
              "      <td>124.0</td>\n",
              "      <td>76</td>\n",
              "      <td>0</td>\n",
              "    </tr>\n",
              "    <tr>\n",
              "      <th>3</th>\n",
              "      <td>110028</td>\n",
              "      <td>Male</td>\n",
              "      <td>56</td>\n",
              "      <td>0</td>\n",
              "      <td>2.0</td>\n",
              "      <td>0</td>\n",
              "      <td>1-2 Year</td>\n",
              "      <td>Yes</td>\n",
              "      <td>32158.0</td>\n",
              "      <td>26.0</td>\n",
              "      <td>145</td>\n",
              "      <td>1</td>\n",
              "    </tr>\n",
              "    <tr>\n",
              "      <th>4</th>\n",
              "      <td>186246</td>\n",
              "      <td>Male</td>\n",
              "      <td>24</td>\n",
              "      <td>1</td>\n",
              "      <td>29.0</td>\n",
              "      <td>1</td>\n",
              "      <td>&lt; 1 Year</td>\n",
              "      <td>Yes</td>\n",
              "      <td>43912.0</td>\n",
              "      <td>152.0</td>\n",
              "      <td>165</td>\n",
              "      <td>0</td>\n",
              "    </tr>\n",
              "  </tbody>\n",
              "</table>\n",
              "</div>"
            ],
            "text/plain": [
              "       id  Gender  Age  ...  Policy_Sales_Channel  Vintage  Response\n",
              "0  208442  Female   23  ...                 152.0      220         0\n",
              "1   93685  Female   60  ...                 122.0      251         1\n",
              "2  290052  Female   38  ...                 124.0       76         0\n",
              "3  110028    Male   56  ...                  26.0      145         1\n",
              "4  186246    Male   24  ...                 152.0      165         0\n",
              "\n",
              "[5 rows x 12 columns]"
            ]
          },
          "metadata": {
            "tags": []
          },
          "execution_count": 41
        }
      ]
    },
    {
      "cell_type": "code",
      "metadata": {
        "id": "9pZiDhy1tgva"
      },
      "source": [
        "df_test1 = casting(df_test)\n",
        "df_test2 = removeUnwantedFeature(df_test1)\n",
        "df_test3 = removeDrivingLicense(df_test2)\n",
        "df_test4 = OrdinalEncode(df_test3)\n",
        "df_test5 = EncodeCategoricalData(df_test4, col_list)\n",
        "df_test6 = removeAnnualOutlier(df_test5)\n",
        "df_test7 = scaleNumericalColumn(df_test6)"
      ],
      "execution_count": 42,
      "outputs": []
    },
    {
      "cell_type": "code",
      "metadata": {
        "id": "2u_gvTJYvzkK",
        "colab": {
          "base_uri": "https://localhost:8080/",
          "height": 203
        },
        "outputId": "9e12eacc-6e3f-4cab-d542-30db5150c321"
      },
      "source": [
        "df_test7.head()"
      ],
      "execution_count": 43,
      "outputs": [
        {
          "output_type": "execute_result",
          "data": {
            "text/html": [
              "<div>\n",
              "<style scoped>\n",
              "    .dataframe tbody tr th:only-of-type {\n",
              "        vertical-align: middle;\n",
              "    }\n",
              "\n",
              "    .dataframe tbody tr th {\n",
              "        vertical-align: top;\n",
              "    }\n",
              "\n",
              "    .dataframe thead th {\n",
              "        text-align: right;\n",
              "    }\n",
              "</style>\n",
              "<table border=\"1\" class=\"dataframe\">\n",
              "  <thead>\n",
              "    <tr style=\"text-align: right;\">\n",
              "      <th></th>\n",
              "      <th>id</th>\n",
              "      <th>Age</th>\n",
              "      <th>Previously_Insured</th>\n",
              "      <th>Vehicle_Age</th>\n",
              "      <th>Vehicle_Damage</th>\n",
              "      <th>Annual_Premium</th>\n",
              "      <th>Vintage</th>\n",
              "      <th>Response</th>\n",
              "      <th>0</th>\n",
              "      <th>1</th>\n",
              "    </tr>\n",
              "  </thead>\n",
              "  <tbody>\n",
              "    <tr>\n",
              "      <th>0</th>\n",
              "      <td>208442</td>\n",
              "      <td>0.046154</td>\n",
              "      <td>1</td>\n",
              "      <td>0.0</td>\n",
              "      <td>0.0</td>\n",
              "      <td>0.766160</td>\n",
              "      <td>0.726644</td>\n",
              "      <td>0</td>\n",
              "      <td>1.0</td>\n",
              "      <td>0.0</td>\n",
              "    </tr>\n",
              "    <tr>\n",
              "      <th>1</th>\n",
              "      <td>93685</td>\n",
              "      <td>0.615385</td>\n",
              "      <td>0</td>\n",
              "      <td>0.5</td>\n",
              "      <td>1.0</td>\n",
              "      <td>0.532102</td>\n",
              "      <td>0.833910</td>\n",
              "      <td>1</td>\n",
              "      <td>1.0</td>\n",
              "      <td>0.0</td>\n",
              "    </tr>\n",
              "    <tr>\n",
              "      <th>2</th>\n",
              "      <td>290052</td>\n",
              "      <td>0.276923</td>\n",
              "      <td>1</td>\n",
              "      <td>0.5</td>\n",
              "      <td>0.0</td>\n",
              "      <td>0.649013</td>\n",
              "      <td>0.228374</td>\n",
              "      <td>0</td>\n",
              "      <td>1.0</td>\n",
              "      <td>0.0</td>\n",
              "    </tr>\n",
              "    <tr>\n",
              "      <th>4</th>\n",
              "      <td>186246</td>\n",
              "      <td>0.061538</td>\n",
              "      <td>1</td>\n",
              "      <td>0.0</td>\n",
              "      <td>1.0</td>\n",
              "      <td>0.695838</td>\n",
              "      <td>0.536332</td>\n",
              "      <td>0</td>\n",
              "      <td>0.0</td>\n",
              "      <td>1.0</td>\n",
              "    </tr>\n",
              "    <tr>\n",
              "      <th>5</th>\n",
              "      <td>31148</td>\n",
              "      <td>0.184615</td>\n",
              "      <td>0</td>\n",
              "      <td>0.0</td>\n",
              "      <td>0.0</td>\n",
              "      <td>0.464139</td>\n",
              "      <td>0.311419</td>\n",
              "      <td>0</td>\n",
              "      <td>1.0</td>\n",
              "      <td>0.0</td>\n",
              "    </tr>\n",
              "  </tbody>\n",
              "</table>\n",
              "</div>"
            ],
            "text/plain": [
              "       id       Age Previously_Insured  ...  Response    0    1\n",
              "0  208442  0.046154                  1  ...         0  1.0  0.0\n",
              "1   93685  0.615385                  0  ...         1  1.0  0.0\n",
              "2  290052  0.276923                  1  ...         0  1.0  0.0\n",
              "4  186246  0.061538                  1  ...         0  0.0  1.0\n",
              "5   31148  0.184615                  0  ...         0  1.0  0.0\n",
              "\n",
              "[5 rows x 10 columns]"
            ]
          },
          "metadata": {
            "tags": []
          },
          "execution_count": 43
        }
      ]
    },
    {
      "cell_type": "code",
      "metadata": {
        "id": "6zljzzzKv2BL",
        "colab": {
          "base_uri": "https://localhost:8080/",
          "height": 203
        },
        "outputId": "5ecf6a41-c41e-4d3a-fd04-a7ba4ce263cc"
      },
      "source": [
        "df7.head()"
      ],
      "execution_count": 44,
      "outputs": [
        {
          "output_type": "execute_result",
          "data": {
            "text/html": [
              "<div>\n",
              "<style scoped>\n",
              "    .dataframe tbody tr th:only-of-type {\n",
              "        vertical-align: middle;\n",
              "    }\n",
              "\n",
              "    .dataframe tbody tr th {\n",
              "        vertical-align: top;\n",
              "    }\n",
              "\n",
              "    .dataframe thead th {\n",
              "        text-align: right;\n",
              "    }\n",
              "</style>\n",
              "<table border=\"1\" class=\"dataframe\">\n",
              "  <thead>\n",
              "    <tr style=\"text-align: right;\">\n",
              "      <th></th>\n",
              "      <th>id</th>\n",
              "      <th>Age</th>\n",
              "      <th>Previously_Insured</th>\n",
              "      <th>Vehicle_Age</th>\n",
              "      <th>Vehicle_Damage</th>\n",
              "      <th>Annual_Premium</th>\n",
              "      <th>Vintage</th>\n",
              "      <th>Response</th>\n",
              "      <th>0</th>\n",
              "      <th>1</th>\n",
              "    </tr>\n",
              "  </thead>\n",
              "  <tbody>\n",
              "    <tr>\n",
              "      <th>0</th>\n",
              "      <td>138389</td>\n",
              "      <td>0.415385</td>\n",
              "      <td>0</td>\n",
              "      <td>0.5</td>\n",
              "      <td>1.0</td>\n",
              "      <td>0.526802</td>\n",
              "      <td>0.560554</td>\n",
              "      <td>0</td>\n",
              "      <td>0.0</td>\n",
              "      <td>1.0</td>\n",
              "    </tr>\n",
              "    <tr>\n",
              "      <th>1</th>\n",
              "      <td>149691</td>\n",
              "      <td>0.384615</td>\n",
              "      <td>0</td>\n",
              "      <td>0.5</td>\n",
              "      <td>1.0</td>\n",
              "      <td>0.000000</td>\n",
              "      <td>0.024221</td>\n",
              "      <td>0</td>\n",
              "      <td>0.0</td>\n",
              "      <td>1.0</td>\n",
              "    </tr>\n",
              "    <tr>\n",
              "      <th>2</th>\n",
              "      <td>213565</td>\n",
              "      <td>0.046154</td>\n",
              "      <td>1</td>\n",
              "      <td>0.0</td>\n",
              "      <td>0.0</td>\n",
              "      <td>0.541090</td>\n",
              "      <td>0.401384</td>\n",
              "      <td>0</td>\n",
              "      <td>0.0</td>\n",
              "      <td>1.0</td>\n",
              "    </tr>\n",
              "    <tr>\n",
              "      <th>3</th>\n",
              "      <td>278877</td>\n",
              "      <td>0.046154</td>\n",
              "      <td>1</td>\n",
              "      <td>0.0</td>\n",
              "      <td>0.0</td>\n",
              "      <td>0.460329</td>\n",
              "      <td>0.197232</td>\n",
              "      <td>0</td>\n",
              "      <td>0.0</td>\n",
              "      <td>1.0</td>\n",
              "    </tr>\n",
              "    <tr>\n",
              "      <th>4</th>\n",
              "      <td>181394</td>\n",
              "      <td>0.292308</td>\n",
              "      <td>0</td>\n",
              "      <td>0.5</td>\n",
              "      <td>1.0</td>\n",
              "      <td>0.557421</td>\n",
              "      <td>0.020761</td>\n",
              "      <td>0</td>\n",
              "      <td>1.0</td>\n",
              "      <td>0.0</td>\n",
              "    </tr>\n",
              "  </tbody>\n",
              "</table>\n",
              "</div>"
            ],
            "text/plain": [
              "       id       Age Previously_Insured  ...  Response    0    1\n",
              "0  138389  0.415385                  0  ...         0  0.0  1.0\n",
              "1  149691  0.384615                  0  ...         0  0.0  1.0\n",
              "2  213565  0.046154                  1  ...         0  0.0  1.0\n",
              "3  278877  0.046154                  1  ...         0  0.0  1.0\n",
              "4  181394  0.292308                  0  ...         0  1.0  0.0\n",
              "\n",
              "[5 rows x 10 columns]"
            ]
          },
          "metadata": {
            "tags": []
          },
          "execution_count": 44
        }
      ]
    },
    {
      "cell_type": "code",
      "metadata": {
        "id": "q8tWFtEPwRnq"
      },
      "source": [
        "from google.colab import files\n",
        "df7.to_csv('dev_afterpreprocess.csv', index = False)\n",
        "df_test7.to_csv('test_afterpreprocess.csv', index = False)"
      ],
      "execution_count": 45,
      "outputs": []
    },
    {
      "cell_type": "code",
      "metadata": {
        "id": "iXGFi8pzwysf"
      },
      "source": [
        "files.download('dev_afterpreprocess.csv')\n",
        "files.download('test_afterpreprocess.csv')"
      ],
      "execution_count": null,
      "outputs": []
    }
  ]
}