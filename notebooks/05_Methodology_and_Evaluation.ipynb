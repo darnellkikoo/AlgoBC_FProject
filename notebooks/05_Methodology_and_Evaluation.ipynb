{
  "nbformat": 4,
  "nbformat_minor": 0,
  "metadata": {
    "colab": {
      "name": "05_Methodology_and_Evaluation",
      "provenance": []
    },
    "kernelspec": {
      "display_name": "Python 3",
      "name": "python3"
    },
    "language_info": {
      "name": "python"
    }
  },
  "cells": [
    {
      "cell_type": "code",
      "metadata": {
        "colab": {
          "base_uri": "https://localhost:8080/"
        },
        "id": "XqJiBXN-4jcs",
        "outputId": "35403a6a-a99c-44ca-f595-356b210dba39"
      },
      "source": [
        "pip install catboost"
      ],
      "execution_count": 2,
      "outputs": [
        {
          "output_type": "stream",
          "text": [
            "Collecting catboost\n",
            "  Downloading catboost-0.26.1-cp37-none-manylinux1_x86_64.whl (67.4 MB)\n",
            "\u001b[K     |████████████████████████████████| 67.4 MB 26 kB/s \n",
            "\u001b[?25hRequirement already satisfied: plotly in /usr/local/lib/python3.7/dist-packages (from catboost) (4.4.1)\n",
            "Requirement already satisfied: matplotlib in /usr/local/lib/python3.7/dist-packages (from catboost) (3.2.2)\n",
            "Requirement already satisfied: numpy>=1.16.0 in /usr/local/lib/python3.7/dist-packages (from catboost) (1.19.5)\n",
            "Requirement already satisfied: pandas>=0.24.0 in /usr/local/lib/python3.7/dist-packages (from catboost) (1.1.5)\n",
            "Requirement already satisfied: graphviz in /usr/local/lib/python3.7/dist-packages (from catboost) (0.10.1)\n",
            "Requirement already satisfied: scipy in /usr/local/lib/python3.7/dist-packages (from catboost) (1.4.1)\n",
            "Requirement already satisfied: six in /usr/local/lib/python3.7/dist-packages (from catboost) (1.15.0)\n",
            "Requirement already satisfied: python-dateutil>=2.7.3 in /usr/local/lib/python3.7/dist-packages (from pandas>=0.24.0->catboost) (2.8.2)\n",
            "Requirement already satisfied: pytz>=2017.2 in /usr/local/lib/python3.7/dist-packages (from pandas>=0.24.0->catboost) (2018.9)\n",
            "Requirement already satisfied: kiwisolver>=1.0.1 in /usr/local/lib/python3.7/dist-packages (from matplotlib->catboost) (1.3.1)\n",
            "Requirement already satisfied: pyparsing!=2.0.4,!=2.1.2,!=2.1.6,>=2.0.1 in /usr/local/lib/python3.7/dist-packages (from matplotlib->catboost) (2.4.7)\n",
            "Requirement already satisfied: cycler>=0.10 in /usr/local/lib/python3.7/dist-packages (from matplotlib->catboost) (0.10.0)\n",
            "Requirement already satisfied: retrying>=1.3.3 in /usr/local/lib/python3.7/dist-packages (from plotly->catboost) (1.3.3)\n",
            "Installing collected packages: catboost\n",
            "Successfully installed catboost-0.26.1\n"
          ],
          "name": "stdout"
        }
      ]
    },
    {
      "cell_type": "code",
      "metadata": {
        "colab": {
          "base_uri": "https://localhost:8080/"
        },
        "id": "jvVHpa5rBtmF",
        "outputId": "2761bd44-5895-4c93-9766-b9e05a36ffa7"
      },
      "source": [
        "pip install shap"
      ],
      "execution_count": 3,
      "outputs": [
        {
          "output_type": "stream",
          "text": [
            "Collecting shap\n",
            "  Downloading shap-0.39.0.tar.gz (356 kB)\n",
            "\u001b[?25l\r\u001b[K     |█                               | 10 kB 22.8 MB/s eta 0:00:01\r\u001b[K     |█▉                              | 20 kB 30.3 MB/s eta 0:00:01\r\u001b[K     |██▊                             | 30 kB 33.6 MB/s eta 0:00:01\r\u001b[K     |███▊                            | 40 kB 16.6 MB/s eta 0:00:01\r\u001b[K     |████▋                           | 51 kB 17.8 MB/s eta 0:00:01\r\u001b[K     |█████▌                          | 61 kB 13.0 MB/s eta 0:00:01\r\u001b[K     |██████▍                         | 71 kB 14.0 MB/s eta 0:00:01\r\u001b[K     |███████▍                        | 81 kB 15.5 MB/s eta 0:00:01\r\u001b[K     |████████▎                       | 92 kB 13.0 MB/s eta 0:00:01\r\u001b[K     |█████████▏                      | 102 kB 13.8 MB/s eta 0:00:01\r\u001b[K     |██████████▏                     | 112 kB 13.8 MB/s eta 0:00:01\r\u001b[K     |███████████                     | 122 kB 13.8 MB/s eta 0:00:01\r\u001b[K     |████████████                    | 133 kB 13.8 MB/s eta 0:00:01\r\u001b[K     |████████████▉                   | 143 kB 13.8 MB/s eta 0:00:01\r\u001b[K     |█████████████▉                  | 153 kB 13.8 MB/s eta 0:00:01\r\u001b[K     |██████████████▊                 | 163 kB 13.8 MB/s eta 0:00:01\r\u001b[K     |███████████████▋                | 174 kB 13.8 MB/s eta 0:00:01\r\u001b[K     |████████████████▋               | 184 kB 13.8 MB/s eta 0:00:01\r\u001b[K     |█████████████████▌              | 194 kB 13.8 MB/s eta 0:00:01\r\u001b[K     |██████████████████▍             | 204 kB 13.8 MB/s eta 0:00:01\r\u001b[K     |███████████████████▎            | 215 kB 13.8 MB/s eta 0:00:01\r\u001b[K     |████████████████████▎           | 225 kB 13.8 MB/s eta 0:00:01\r\u001b[K     |█████████████████████▏          | 235 kB 13.8 MB/s eta 0:00:01\r\u001b[K     |██████████████████████          | 245 kB 13.8 MB/s eta 0:00:01\r\u001b[K     |███████████████████████         | 256 kB 13.8 MB/s eta 0:00:01\r\u001b[K     |████████████████████████        | 266 kB 13.8 MB/s eta 0:00:01\r\u001b[K     |████████████████████████▉       | 276 kB 13.8 MB/s eta 0:00:01\r\u001b[K     |█████████████████████████▊      | 286 kB 13.8 MB/s eta 0:00:01\r\u001b[K     |██████████████████████████▊     | 296 kB 13.8 MB/s eta 0:00:01\r\u001b[K     |███████████████████████████▋    | 307 kB 13.8 MB/s eta 0:00:01\r\u001b[K     |████████████████████████████▌   | 317 kB 13.8 MB/s eta 0:00:01\r\u001b[K     |█████████████████████████████▍  | 327 kB 13.8 MB/s eta 0:00:01\r\u001b[K     |██████████████████████████████▍ | 337 kB 13.8 MB/s eta 0:00:01\r\u001b[K     |███████████████████████████████▎| 348 kB 13.8 MB/s eta 0:00:01\r\u001b[K     |████████████████████████████████| 356 kB 13.8 MB/s \n",
            "\u001b[?25hRequirement already satisfied: numpy in /usr/local/lib/python3.7/dist-packages (from shap) (1.19.5)\n",
            "Requirement already satisfied: scipy in /usr/local/lib/python3.7/dist-packages (from shap) (1.4.1)\n",
            "Requirement already satisfied: scikit-learn in /usr/local/lib/python3.7/dist-packages (from shap) (0.22.2.post1)\n",
            "Requirement already satisfied: pandas in /usr/local/lib/python3.7/dist-packages (from shap) (1.1.5)\n",
            "Requirement already satisfied: tqdm>4.25.0 in /usr/local/lib/python3.7/dist-packages (from shap) (4.62.0)\n",
            "Collecting slicer==0.0.7\n",
            "  Downloading slicer-0.0.7-py3-none-any.whl (14 kB)\n",
            "Requirement already satisfied: numba in /usr/local/lib/python3.7/dist-packages (from shap) (0.51.2)\n",
            "Requirement already satisfied: cloudpickle in /usr/local/lib/python3.7/dist-packages (from shap) (1.3.0)\n",
            "Requirement already satisfied: llvmlite<0.35,>=0.34.0.dev0 in /usr/local/lib/python3.7/dist-packages (from numba->shap) (0.34.0)\n",
            "Requirement already satisfied: setuptools in /usr/local/lib/python3.7/dist-packages (from numba->shap) (57.4.0)\n",
            "Requirement already satisfied: python-dateutil>=2.7.3 in /usr/local/lib/python3.7/dist-packages (from pandas->shap) (2.8.2)\n",
            "Requirement already satisfied: pytz>=2017.2 in /usr/local/lib/python3.7/dist-packages (from pandas->shap) (2018.9)\n",
            "Requirement already satisfied: six>=1.5 in /usr/local/lib/python3.7/dist-packages (from python-dateutil>=2.7.3->pandas->shap) (1.15.0)\n",
            "Requirement already satisfied: joblib>=0.11 in /usr/local/lib/python3.7/dist-packages (from scikit-learn->shap) (1.0.1)\n",
            "Building wheels for collected packages: shap\n",
            "  Building wheel for shap (setup.py) ... \u001b[?25l\u001b[?25hdone\n",
            "  Created wheel for shap: filename=shap-0.39.0-cp37-cp37m-linux_x86_64.whl size=491631 sha256=6e8e74f7c88db3af5c6f05b861eb63136b292d733bfb16e2bfd9d6d2bd83d47d\n",
            "  Stored in directory: /root/.cache/pip/wheels/ca/25/8f/6ae5df62c32651cd719e972e738a8aaa4a87414c4d2b14c9c0\n",
            "Successfully built shap\n",
            "Installing collected packages: slicer, shap\n",
            "Successfully installed shap-0.39.0 slicer-0.0.7\n"
          ],
          "name": "stdout"
        }
      ]
    },
    {
      "cell_type": "code",
      "metadata": {
        "id": "FxXCoj6oyS53"
      },
      "source": [
        "import pandas as pd\n",
        "import numpy as np\n",
        "import matplotlib.pyplot as plt\n",
        "import seaborn as sns\n",
        "\n",
        "from sklearn.metrics import classification_report\n",
        "from sklearn.model_selection import cross_val_score, train_test_split\n",
        "from sklearn.discriminant_analysis import LinearDiscriminantAnalysis\n",
        "from sklearn.linear_model import LogisticRegression\n",
        "from sklearn.neighbors import KNeighborsClassifier\n",
        "from sklearn.naive_bayes import GaussianNB\n",
        "from sklearn.svm import SVC\n",
        "from sklearn.tree import DecisionTreeClassifier\n",
        "from sklearn.linear_model import SGDClassifier\n",
        "from sklearn.ensemble import RandomForestClassifier\n",
        "from sklearn.ensemble import GradientBoostingClassifier\n",
        "from xgboost import XGBClassifier\n",
        "from catboost import CatBoostClassifier\n",
        "from lightgbm import LGBMClassifier, reset_parameter\n",
        "from sklearn.metrics import f1_score, recall_score, accuracy_score, roc_auc_score, precision_score, auc, roc_curve"
      ],
      "execution_count": 4,
      "outputs": []
    },
    {
      "cell_type": "code",
      "metadata": {
        "id": "ES_B-alAywDl"
      },
      "source": [
        "dev_file_path = 'https://raw.githubusercontent.com/darnellkikoo/AlgoBC_FProject/main/assets/dev_afterpreprocess.csv'\n",
        "test_file_path = 'https://raw.githubusercontent.com/darnellkikoo/AlgoBC_FProject/main/assets/test_afterpreprocess.csv'"
      ],
      "execution_count": 5,
      "outputs": []
    },
    {
      "cell_type": "code",
      "metadata": {
        "id": "kG-pIwPmzVz_"
      },
      "source": [
        "dev = pd.read_csv(dev_file_path)\n",
        "unseen = pd.read_csv(test_file_path)"
      ],
      "execution_count": 6,
      "outputs": []
    },
    {
      "cell_type": "code",
      "metadata": {
        "colab": {
          "base_uri": "https://localhost:8080/"
        },
        "id": "OmXd6N08zfIh",
        "outputId": "f19a313d-169f-41c0-a152-479b3262d51f"
      },
      "source": [
        "dev.shape"
      ],
      "execution_count": 7,
      "outputs": [
        {
          "output_type": "execute_result",
          "data": {
            "text/plain": [
              "(295972, 10)"
            ]
          },
          "metadata": {
            "tags": []
          },
          "execution_count": 7
        }
      ]
    },
    {
      "cell_type": "code",
      "metadata": {
        "colab": {
          "base_uri": "https://localhost:8080/"
        },
        "id": "hvsHY4qKzkFj",
        "outputId": "ff83946c-e34b-4341-87eb-41d005ddc550"
      },
      "source": [
        "unseen.shape"
      ],
      "execution_count": 8,
      "outputs": [
        {
          "output_type": "execute_result",
          "data": {
            "text/plain": [
              "(74034, 10)"
            ]
          },
          "metadata": {
            "tags": []
          },
          "execution_count": 8
        }
      ]
    },
    {
      "cell_type": "code",
      "metadata": {
        "id": "lMO3oAEx0NFh"
      },
      "source": [
        "dev.drop('id', axis = 1, inplace = True)\n",
        "unseen.drop('id', axis = 1, inplace = True)"
      ],
      "execution_count": 9,
      "outputs": []
    },
    {
      "cell_type": "code",
      "metadata": {
        "colab": {
          "base_uri": "https://localhost:8080/",
          "height": 326
        },
        "id": "5mMCsVSs0f3T",
        "outputId": "d06d96cc-210c-4159-a761-cf51e4837334"
      },
      "source": [
        "dev.describe().T"
      ],
      "execution_count": 10,
      "outputs": [
        {
          "output_type": "execute_result",
          "data": {
            "text/html": [
              "<div>\n",
              "<style scoped>\n",
              "    .dataframe tbody tr th:only-of-type {\n",
              "        vertical-align: middle;\n",
              "    }\n",
              "\n",
              "    .dataframe tbody tr th {\n",
              "        vertical-align: top;\n",
              "    }\n",
              "\n",
              "    .dataframe thead th {\n",
              "        text-align: right;\n",
              "    }\n",
              "</style>\n",
              "<table border=\"1\" class=\"dataframe\">\n",
              "  <thead>\n",
              "    <tr style=\"text-align: right;\">\n",
              "      <th></th>\n",
              "      <th>count</th>\n",
              "      <th>mean</th>\n",
              "      <th>std</th>\n",
              "      <th>min</th>\n",
              "      <th>25%</th>\n",
              "      <th>50%</th>\n",
              "      <th>75%</th>\n",
              "      <th>max</th>\n",
              "    </tr>\n",
              "  </thead>\n",
              "  <tbody>\n",
              "    <tr>\n",
              "      <th>Age</th>\n",
              "      <td>295972.0</td>\n",
              "      <td>0.286170</td>\n",
              "      <td>0.236756</td>\n",
              "      <td>0.0</td>\n",
              "      <td>0.076923</td>\n",
              "      <td>0.246154</td>\n",
              "      <td>0.446154</td>\n",
              "      <td>1.0</td>\n",
              "    </tr>\n",
              "    <tr>\n",
              "      <th>Previously_Insured</th>\n",
              "      <td>295972.0</td>\n",
              "      <td>0.459658</td>\n",
              "      <td>0.498371</td>\n",
              "      <td>0.0</td>\n",
              "      <td>0.000000</td>\n",
              "      <td>0.000000</td>\n",
              "      <td>1.000000</td>\n",
              "      <td>1.0</td>\n",
              "    </tr>\n",
              "    <tr>\n",
              "      <th>Vehicle_Age</th>\n",
              "      <td>295972.0</td>\n",
              "      <td>0.301794</td>\n",
              "      <td>0.282951</td>\n",
              "      <td>0.0</td>\n",
              "      <td>0.000000</td>\n",
              "      <td>0.500000</td>\n",
              "      <td>0.500000</td>\n",
              "      <td>1.0</td>\n",
              "    </tr>\n",
              "    <tr>\n",
              "      <th>Vehicle_Damage</th>\n",
              "      <td>295972.0</td>\n",
              "      <td>0.503385</td>\n",
              "      <td>0.499989</td>\n",
              "      <td>0.0</td>\n",
              "      <td>0.000000</td>\n",
              "      <td>1.000000</td>\n",
              "      <td>1.000000</td>\n",
              "      <td>1.0</td>\n",
              "    </tr>\n",
              "    <tr>\n",
              "      <th>Annual_Premium</th>\n",
              "      <td>295972.0</td>\n",
              "      <td>0.449585</td>\n",
              "      <td>0.248774</td>\n",
              "      <td>0.0</td>\n",
              "      <td>0.362562</td>\n",
              "      <td>0.484395</td>\n",
              "      <td>0.606972</td>\n",
              "      <td>1.0</td>\n",
              "    </tr>\n",
              "    <tr>\n",
              "      <th>Vintage</th>\n",
              "      <td>295972.0</td>\n",
              "      <td>0.499514</td>\n",
              "      <td>0.289591</td>\n",
              "      <td>0.0</td>\n",
              "      <td>0.249135</td>\n",
              "      <td>0.498270</td>\n",
              "      <td>0.750865</td>\n",
              "      <td>1.0</td>\n",
              "    </tr>\n",
              "    <tr>\n",
              "      <th>Response</th>\n",
              "      <td>295972.0</td>\n",
              "      <td>0.121927</td>\n",
              "      <td>0.327202</td>\n",
              "      <td>0.0</td>\n",
              "      <td>0.000000</td>\n",
              "      <td>0.000000</td>\n",
              "      <td>0.000000</td>\n",
              "      <td>1.0</td>\n",
              "    </tr>\n",
              "    <tr>\n",
              "      <th>0</th>\n",
              "      <td>295972.0</td>\n",
              "      <td>0.460067</td>\n",
              "      <td>0.498404</td>\n",
              "      <td>0.0</td>\n",
              "      <td>0.000000</td>\n",
              "      <td>0.000000</td>\n",
              "      <td>1.000000</td>\n",
              "      <td>1.0</td>\n",
              "    </tr>\n",
              "    <tr>\n",
              "      <th>1</th>\n",
              "      <td>295972.0</td>\n",
              "      <td>0.539933</td>\n",
              "      <td>0.498404</td>\n",
              "      <td>0.0</td>\n",
              "      <td>0.000000</td>\n",
              "      <td>1.000000</td>\n",
              "      <td>1.000000</td>\n",
              "      <td>1.0</td>\n",
              "    </tr>\n",
              "  </tbody>\n",
              "</table>\n",
              "</div>"
            ],
            "text/plain": [
              "                       count      mean       std  ...       50%       75%  max\n",
              "Age                 295972.0  0.286170  0.236756  ...  0.246154  0.446154  1.0\n",
              "Previously_Insured  295972.0  0.459658  0.498371  ...  0.000000  1.000000  1.0\n",
              "Vehicle_Age         295972.0  0.301794  0.282951  ...  0.500000  0.500000  1.0\n",
              "Vehicle_Damage      295972.0  0.503385  0.499989  ...  1.000000  1.000000  1.0\n",
              "Annual_Premium      295972.0  0.449585  0.248774  ...  0.484395  0.606972  1.0\n",
              "Vintage             295972.0  0.499514  0.289591  ...  0.498270  0.750865  1.0\n",
              "Response            295972.0  0.121927  0.327202  ...  0.000000  0.000000  1.0\n",
              "0                   295972.0  0.460067  0.498404  ...  0.000000  1.000000  1.0\n",
              "1                   295972.0  0.539933  0.498404  ...  1.000000  1.000000  1.0\n",
              "\n",
              "[9 rows x 8 columns]"
            ]
          },
          "metadata": {
            "tags": []
          },
          "execution_count": 10
        }
      ]
    },
    {
      "cell_type": "code",
      "metadata": {
        "colab": {
          "base_uri": "https://localhost:8080/"
        },
        "id": "_LDkzWNs0lTl",
        "outputId": "2d4a7235-23b6-4158-ad56-9a6f5a33df5f"
      },
      "source": [
        "dev.info()"
      ],
      "execution_count": 11,
      "outputs": [
        {
          "output_type": "stream",
          "text": [
            "<class 'pandas.core.frame.DataFrame'>\n",
            "RangeIndex: 295972 entries, 0 to 295971\n",
            "Data columns (total 9 columns):\n",
            " #   Column              Non-Null Count   Dtype  \n",
            "---  ------              --------------   -----  \n",
            " 0   Age                 295972 non-null  float64\n",
            " 1   Previously_Insured  295972 non-null  int64  \n",
            " 2   Vehicle_Age         295972 non-null  float64\n",
            " 3   Vehicle_Damage      295972 non-null  float64\n",
            " 4   Annual_Premium      295972 non-null  float64\n",
            " 5   Vintage             295972 non-null  float64\n",
            " 6   Response            295972 non-null  int64  \n",
            " 7   0                   295972 non-null  float64\n",
            " 8   1                   295972 non-null  float64\n",
            "dtypes: float64(7), int64(2)\n",
            "memory usage: 20.3 MB\n"
          ],
          "name": "stdout"
        }
      ]
    },
    {
      "cell_type": "code",
      "metadata": {
        "colab": {
          "base_uri": "https://localhost:8080/",
          "height": 203
        },
        "id": "8qM5MlW51d-p",
        "outputId": "83c38ef8-34d4-462f-e66d-e17d57deacce"
      },
      "source": [
        "dev.head()"
      ],
      "execution_count": 12,
      "outputs": [
        {
          "output_type": "execute_result",
          "data": {
            "text/html": [
              "<div>\n",
              "<style scoped>\n",
              "    .dataframe tbody tr th:only-of-type {\n",
              "        vertical-align: middle;\n",
              "    }\n",
              "\n",
              "    .dataframe tbody tr th {\n",
              "        vertical-align: top;\n",
              "    }\n",
              "\n",
              "    .dataframe thead th {\n",
              "        text-align: right;\n",
              "    }\n",
              "</style>\n",
              "<table border=\"1\" class=\"dataframe\">\n",
              "  <thead>\n",
              "    <tr style=\"text-align: right;\">\n",
              "      <th></th>\n",
              "      <th>Age</th>\n",
              "      <th>Previously_Insured</th>\n",
              "      <th>Vehicle_Age</th>\n",
              "      <th>Vehicle_Damage</th>\n",
              "      <th>Annual_Premium</th>\n",
              "      <th>Vintage</th>\n",
              "      <th>Response</th>\n",
              "      <th>0</th>\n",
              "      <th>1</th>\n",
              "    </tr>\n",
              "  </thead>\n",
              "  <tbody>\n",
              "    <tr>\n",
              "      <th>0</th>\n",
              "      <td>0.415385</td>\n",
              "      <td>0</td>\n",
              "      <td>0.5</td>\n",
              "      <td>1.0</td>\n",
              "      <td>0.526802</td>\n",
              "      <td>0.560554</td>\n",
              "      <td>0</td>\n",
              "      <td>0.0</td>\n",
              "      <td>1.0</td>\n",
              "    </tr>\n",
              "    <tr>\n",
              "      <th>1</th>\n",
              "      <td>0.384615</td>\n",
              "      <td>0</td>\n",
              "      <td>0.5</td>\n",
              "      <td>1.0</td>\n",
              "      <td>0.000000</td>\n",
              "      <td>0.024221</td>\n",
              "      <td>0</td>\n",
              "      <td>0.0</td>\n",
              "      <td>1.0</td>\n",
              "    </tr>\n",
              "    <tr>\n",
              "      <th>2</th>\n",
              "      <td>0.046154</td>\n",
              "      <td>1</td>\n",
              "      <td>0.0</td>\n",
              "      <td>0.0</td>\n",
              "      <td>0.541090</td>\n",
              "      <td>0.401384</td>\n",
              "      <td>0</td>\n",
              "      <td>0.0</td>\n",
              "      <td>1.0</td>\n",
              "    </tr>\n",
              "    <tr>\n",
              "      <th>3</th>\n",
              "      <td>0.046154</td>\n",
              "      <td>1</td>\n",
              "      <td>0.0</td>\n",
              "      <td>0.0</td>\n",
              "      <td>0.460329</td>\n",
              "      <td>0.197232</td>\n",
              "      <td>0</td>\n",
              "      <td>0.0</td>\n",
              "      <td>1.0</td>\n",
              "    </tr>\n",
              "    <tr>\n",
              "      <th>4</th>\n",
              "      <td>0.292308</td>\n",
              "      <td>0</td>\n",
              "      <td>0.5</td>\n",
              "      <td>1.0</td>\n",
              "      <td>0.557421</td>\n",
              "      <td>0.020761</td>\n",
              "      <td>0</td>\n",
              "      <td>1.0</td>\n",
              "      <td>0.0</td>\n",
              "    </tr>\n",
              "  </tbody>\n",
              "</table>\n",
              "</div>"
            ],
            "text/plain": [
              "        Age  Previously_Insured  Vehicle_Age  ...  Response    0    1\n",
              "0  0.415385                   0          0.5  ...         0  0.0  1.0\n",
              "1  0.384615                   0          0.5  ...         0  0.0  1.0\n",
              "2  0.046154                   1          0.0  ...         0  0.0  1.0\n",
              "3  0.046154                   1          0.0  ...         0  0.0  1.0\n",
              "4  0.292308                   0          0.5  ...         0  1.0  0.0\n",
              "\n",
              "[5 rows x 9 columns]"
            ]
          },
          "metadata": {
            "tags": []
          },
          "execution_count": 12
        }
      ]
    },
    {
      "cell_type": "code",
      "metadata": {
        "colab": {
          "base_uri": "https://localhost:8080/",
          "height": 326
        },
        "id": "EkvJ4km31SEI",
        "outputId": "1d7b633d-79a8-4ad9-ed59-3c9207f534ac"
      },
      "source": [
        "unseen.describe().T"
      ],
      "execution_count": 13,
      "outputs": [
        {
          "output_type": "execute_result",
          "data": {
            "text/html": [
              "<div>\n",
              "<style scoped>\n",
              "    .dataframe tbody tr th:only-of-type {\n",
              "        vertical-align: middle;\n",
              "    }\n",
              "\n",
              "    .dataframe tbody tr th {\n",
              "        vertical-align: top;\n",
              "    }\n",
              "\n",
              "    .dataframe thead th {\n",
              "        text-align: right;\n",
              "    }\n",
              "</style>\n",
              "<table border=\"1\" class=\"dataframe\">\n",
              "  <thead>\n",
              "    <tr style=\"text-align: right;\">\n",
              "      <th></th>\n",
              "      <th>count</th>\n",
              "      <th>mean</th>\n",
              "      <th>std</th>\n",
              "      <th>min</th>\n",
              "      <th>25%</th>\n",
              "      <th>50%</th>\n",
              "      <th>75%</th>\n",
              "      <th>max</th>\n",
              "    </tr>\n",
              "  </thead>\n",
              "  <tbody>\n",
              "    <tr>\n",
              "      <th>Age</th>\n",
              "      <td>74034.0</td>\n",
              "      <td>0.287206</td>\n",
              "      <td>0.237636</td>\n",
              "      <td>0.0</td>\n",
              "      <td>0.076923</td>\n",
              "      <td>0.246154</td>\n",
              "      <td>0.446154</td>\n",
              "      <td>1.0</td>\n",
              "    </tr>\n",
              "    <tr>\n",
              "      <th>Previously_Insured</th>\n",
              "      <td>74034.0</td>\n",
              "      <td>0.461288</td>\n",
              "      <td>0.498502</td>\n",
              "      <td>0.0</td>\n",
              "      <td>0.000000</td>\n",
              "      <td>0.000000</td>\n",
              "      <td>1.000000</td>\n",
              "      <td>1.0</td>\n",
              "    </tr>\n",
              "    <tr>\n",
              "      <th>Vehicle_Age</th>\n",
              "      <td>74034.0</td>\n",
              "      <td>0.302489</td>\n",
              "      <td>0.282736</td>\n",
              "      <td>0.0</td>\n",
              "      <td>0.000000</td>\n",
              "      <td>0.500000</td>\n",
              "      <td>0.500000</td>\n",
              "      <td>1.0</td>\n",
              "    </tr>\n",
              "    <tr>\n",
              "      <th>Vehicle_Damage</th>\n",
              "      <td>74034.0</td>\n",
              "      <td>0.500338</td>\n",
              "      <td>0.500003</td>\n",
              "      <td>0.0</td>\n",
              "      <td>0.000000</td>\n",
              "      <td>1.000000</td>\n",
              "      <td>1.000000</td>\n",
              "      <td>1.0</td>\n",
              "    </tr>\n",
              "    <tr>\n",
              "      <th>Annual_Premium</th>\n",
              "      <td>74034.0</td>\n",
              "      <td>0.449153</td>\n",
              "      <td>0.248927</td>\n",
              "      <td>0.0</td>\n",
              "      <td>0.361926</td>\n",
              "      <td>0.483616</td>\n",
              "      <td>0.606954</td>\n",
              "      <td>1.0</td>\n",
              "    </tr>\n",
              "    <tr>\n",
              "      <th>Vintage</th>\n",
              "      <td>74034.0</td>\n",
              "      <td>0.499202</td>\n",
              "      <td>0.289252</td>\n",
              "      <td>0.0</td>\n",
              "      <td>0.249135</td>\n",
              "      <td>0.498270</td>\n",
              "      <td>0.750865</td>\n",
              "      <td>1.0</td>\n",
              "    </tr>\n",
              "    <tr>\n",
              "      <th>Response</th>\n",
              "      <td>74034.0</td>\n",
              "      <td>0.121917</td>\n",
              "      <td>0.327192</td>\n",
              "      <td>0.0</td>\n",
              "      <td>0.000000</td>\n",
              "      <td>0.000000</td>\n",
              "      <td>0.000000</td>\n",
              "      <td>1.0</td>\n",
              "    </tr>\n",
              "    <tr>\n",
              "      <th>0</th>\n",
              "      <td>74034.0</td>\n",
              "      <td>0.460491</td>\n",
              "      <td>0.498440</td>\n",
              "      <td>0.0</td>\n",
              "      <td>0.000000</td>\n",
              "      <td>0.000000</td>\n",
              "      <td>1.000000</td>\n",
              "      <td>1.0</td>\n",
              "    </tr>\n",
              "    <tr>\n",
              "      <th>1</th>\n",
              "      <td>74034.0</td>\n",
              "      <td>0.539509</td>\n",
              "      <td>0.498440</td>\n",
              "      <td>0.0</td>\n",
              "      <td>0.000000</td>\n",
              "      <td>1.000000</td>\n",
              "      <td>1.000000</td>\n",
              "      <td>1.0</td>\n",
              "    </tr>\n",
              "  </tbody>\n",
              "</table>\n",
              "</div>"
            ],
            "text/plain": [
              "                      count      mean       std  ...       50%       75%  max\n",
              "Age                 74034.0  0.287206  0.237636  ...  0.246154  0.446154  1.0\n",
              "Previously_Insured  74034.0  0.461288  0.498502  ...  0.000000  1.000000  1.0\n",
              "Vehicle_Age         74034.0  0.302489  0.282736  ...  0.500000  0.500000  1.0\n",
              "Vehicle_Damage      74034.0  0.500338  0.500003  ...  1.000000  1.000000  1.0\n",
              "Annual_Premium      74034.0  0.449153  0.248927  ...  0.483616  0.606954  1.0\n",
              "Vintage             74034.0  0.499202  0.289252  ...  0.498270  0.750865  1.0\n",
              "Response            74034.0  0.121917  0.327192  ...  0.000000  0.000000  1.0\n",
              "0                   74034.0  0.460491  0.498440  ...  0.000000  1.000000  1.0\n",
              "1                   74034.0  0.539509  0.498440  ...  1.000000  1.000000  1.0\n",
              "\n",
              "[9 rows x 8 columns]"
            ]
          },
          "metadata": {
            "tags": []
          },
          "execution_count": 13
        }
      ]
    },
    {
      "cell_type": "code",
      "metadata": {
        "colab": {
          "base_uri": "https://localhost:8080/"
        },
        "id": "fNrhwZAc1baz",
        "outputId": "e44be955-318a-43c4-a6b7-affb3066b6b8"
      },
      "source": [
        "unseen.info()"
      ],
      "execution_count": 14,
      "outputs": [
        {
          "output_type": "stream",
          "text": [
            "<class 'pandas.core.frame.DataFrame'>\n",
            "RangeIndex: 74034 entries, 0 to 74033\n",
            "Data columns (total 9 columns):\n",
            " #   Column              Non-Null Count  Dtype  \n",
            "---  ------              --------------  -----  \n",
            " 0   Age                 74034 non-null  float64\n",
            " 1   Previously_Insured  74034 non-null  int64  \n",
            " 2   Vehicle_Age         74034 non-null  float64\n",
            " 3   Vehicle_Damage      74034 non-null  float64\n",
            " 4   Annual_Premium      74034 non-null  float64\n",
            " 5   Vintage             74034 non-null  float64\n",
            " 6   Response            74034 non-null  int64  \n",
            " 7   0                   74034 non-null  float64\n",
            " 8   1                   74034 non-null  float64\n",
            "dtypes: float64(7), int64(2)\n",
            "memory usage: 5.1 MB\n"
          ],
          "name": "stdout"
        }
      ]
    },
    {
      "cell_type": "code",
      "metadata": {
        "colab": {
          "base_uri": "https://localhost:8080/",
          "height": 203
        },
        "id": "h4PIH_Nj1-RD",
        "outputId": "45ab7c27-a4f7-4e24-badf-613cd8990809"
      },
      "source": [
        "unseen.head()"
      ],
      "execution_count": 15,
      "outputs": [
        {
          "output_type": "execute_result",
          "data": {
            "text/html": [
              "<div>\n",
              "<style scoped>\n",
              "    .dataframe tbody tr th:only-of-type {\n",
              "        vertical-align: middle;\n",
              "    }\n",
              "\n",
              "    .dataframe tbody tr th {\n",
              "        vertical-align: top;\n",
              "    }\n",
              "\n",
              "    .dataframe thead th {\n",
              "        text-align: right;\n",
              "    }\n",
              "</style>\n",
              "<table border=\"1\" class=\"dataframe\">\n",
              "  <thead>\n",
              "    <tr style=\"text-align: right;\">\n",
              "      <th></th>\n",
              "      <th>Age</th>\n",
              "      <th>Previously_Insured</th>\n",
              "      <th>Vehicle_Age</th>\n",
              "      <th>Vehicle_Damage</th>\n",
              "      <th>Annual_Premium</th>\n",
              "      <th>Vintage</th>\n",
              "      <th>Response</th>\n",
              "      <th>0</th>\n",
              "      <th>1</th>\n",
              "    </tr>\n",
              "  </thead>\n",
              "  <tbody>\n",
              "    <tr>\n",
              "      <th>0</th>\n",
              "      <td>0.046154</td>\n",
              "      <td>1</td>\n",
              "      <td>0.0</td>\n",
              "      <td>0.0</td>\n",
              "      <td>0.766160</td>\n",
              "      <td>0.726644</td>\n",
              "      <td>0</td>\n",
              "      <td>1.0</td>\n",
              "      <td>0.0</td>\n",
              "    </tr>\n",
              "    <tr>\n",
              "      <th>1</th>\n",
              "      <td>0.615385</td>\n",
              "      <td>0</td>\n",
              "      <td>0.5</td>\n",
              "      <td>1.0</td>\n",
              "      <td>0.532102</td>\n",
              "      <td>0.833910</td>\n",
              "      <td>1</td>\n",
              "      <td>1.0</td>\n",
              "      <td>0.0</td>\n",
              "    </tr>\n",
              "    <tr>\n",
              "      <th>2</th>\n",
              "      <td>0.276923</td>\n",
              "      <td>1</td>\n",
              "      <td>0.5</td>\n",
              "      <td>0.0</td>\n",
              "      <td>0.649013</td>\n",
              "      <td>0.228374</td>\n",
              "      <td>0</td>\n",
              "      <td>1.0</td>\n",
              "      <td>0.0</td>\n",
              "    </tr>\n",
              "    <tr>\n",
              "      <th>3</th>\n",
              "      <td>0.061538</td>\n",
              "      <td>1</td>\n",
              "      <td>0.0</td>\n",
              "      <td>1.0</td>\n",
              "      <td>0.695838</td>\n",
              "      <td>0.536332</td>\n",
              "      <td>0</td>\n",
              "      <td>0.0</td>\n",
              "      <td>1.0</td>\n",
              "    </tr>\n",
              "    <tr>\n",
              "      <th>4</th>\n",
              "      <td>0.184615</td>\n",
              "      <td>0</td>\n",
              "      <td>0.0</td>\n",
              "      <td>0.0</td>\n",
              "      <td>0.464139</td>\n",
              "      <td>0.311419</td>\n",
              "      <td>0</td>\n",
              "      <td>1.0</td>\n",
              "      <td>0.0</td>\n",
              "    </tr>\n",
              "  </tbody>\n",
              "</table>\n",
              "</div>"
            ],
            "text/plain": [
              "        Age  Previously_Insured  Vehicle_Age  ...  Response    0    1\n",
              "0  0.046154                   1          0.0  ...         0  1.0  0.0\n",
              "1  0.615385                   0          0.5  ...         1  1.0  0.0\n",
              "2  0.276923                   1          0.5  ...         0  1.0  0.0\n",
              "3  0.061538                   1          0.0  ...         0  0.0  1.0\n",
              "4  0.184615                   0          0.0  ...         0  1.0  0.0\n",
              "\n",
              "[5 rows x 9 columns]"
            ]
          },
          "metadata": {
            "tags": []
          },
          "execution_count": 15
        }
      ]
    },
    {
      "cell_type": "markdown",
      "metadata": {
        "id": "jQQEm0Ue3-H3"
      },
      "source": [
        "# Evaluate Baseline Model"
      ]
    },
    {
      "cell_type": "markdown",
      "metadata": {
        "id": "i0dUL9LH4OAH"
      },
      "source": [
        "When we evaluate a model's performance, it is important to have a baseline model, to see how much improvement we can make from other models. With a baseline model, we can also set a baseline score as the standard checking score. Experimenting with a baseline model is quite cheap in cost and time, as we would use simple algorithm model as our baseline"
      ]
    },
    {
      "cell_type": "code",
      "metadata": {
        "id": "ceLiOoSH5WJm"
      },
      "source": [
        "X = dev.drop('Response', axis = 1)\n",
        "y = dev['Response']"
      ],
      "execution_count": 19,
      "outputs": []
    },
    {
      "cell_type": "code",
      "metadata": {
        "colab": {
          "base_uri": "https://localhost:8080/"
        },
        "id": "fdpmQNwOCIpE",
        "outputId": "f8b9c9b2-a6a6-484f-9f9c-5547c7d43fbe"
      },
      "source": [
        "X.shape"
      ],
      "execution_count": 20,
      "outputs": [
        {
          "output_type": "execute_result",
          "data": {
            "text/plain": [
              "(295972, 8)"
            ]
          },
          "metadata": {
            "tags": []
          },
          "execution_count": 20
        }
      ]
    },
    {
      "cell_type": "code",
      "metadata": {
        "id": "6whDd2iLBYWB"
      },
      "source": [
        "def evaluate_baseline(model):\n",
        "     scores = cross_val_score(model, X, y, cv=5, scoring='roc_auc')\n",
        "     scores = scores.mean()\n",
        "     return scores\n",
        "     "
      ],
      "execution_count": 21,
      "outputs": []
    },
    {
      "cell_type": "code",
      "metadata": {
        "colab": {
          "base_uri": "https://localhost:8080/"
        },
        "id": "URzoJToqAbUJ",
        "outputId": "60af71db-78d2-4689-c426-3611e30b6b61"
      },
      "source": [
        "#No normalization with Annual_Premium outlier removal\n",
        "\n",
        "logisticModel = LogisticRegression()\n",
        "logisticModelScore = evaluate_baseline(logisticModel)\n",
        "print(\"Baseline LogisticRegression Model ROC-AUC Score: \" + str(logisticModelScore))"
      ],
      "execution_count": null,
      "outputs": [
        {
          "output_type": "stream",
          "text": [
            "/usr/local/lib/python3.7/dist-packages/sklearn/linear_model/_logistic.py:940: ConvergenceWarning: lbfgs failed to converge (status=1):\n",
            "STOP: TOTAL NO. of ITERATIONS REACHED LIMIT.\n",
            "\n",
            "Increase the number of iterations (max_iter) or scale the data as shown in:\n",
            "    https://scikit-learn.org/stable/modules/preprocessing.html\n",
            "Please also refer to the documentation for alternative solver options:\n",
            "    https://scikit-learn.org/stable/modules/linear_model.html#logistic-regression\n",
            "  extra_warning_msg=_LOGISTIC_SOLVER_CONVERGENCE_MSG)\n"
          ],
          "name": "stderr"
        },
        {
          "output_type": "stream",
          "text": [
            "Baseline LogisticRegression Model ROC-AUC Score: 0.6712248106072092\n"
          ],
          "name": "stdout"
        }
      ]
    },
    {
      "cell_type": "code",
      "metadata": {
        "colab": {
          "base_uri": "https://localhost:8080/"
        },
        "id": "ep0i7czy4ncH",
        "outputId": "9c036f7a-f5ac-4a4d-8785-ab0da2a59661"
      },
      "source": [
        "#Normalization with Annual_Premium outlier removal\n",
        "\n",
        "logisticModel = LogisticRegression()\n",
        "logisticModelScore = evaluate_baseline(logisticModel)\n",
        "print(\"Baseline LogisticRegression Model ROC-AUC Score: \" + str(logisticModelScore))"
      ],
      "execution_count": 22,
      "outputs": [
        {
          "output_type": "stream",
          "text": [
            "Baseline LogisticRegression Model ROC-AUC Score: 0.8305344294005266\n"
          ],
          "name": "stdout"
        }
      ]
    },
    {
      "cell_type": "markdown",
      "metadata": {
        "id": "4Tzt_8EtM4La"
      },
      "source": [
        "# Split data for development dataset and evaluation"
      ]
    },
    {
      "cell_type": "code",
      "metadata": {
        "id": "YJRKTt4956LW"
      },
      "source": [
        "X_train, X_test, y_train, y_test = train_test_split(X, y, stratify = y, test_size = 0.2, random_state = 19)"
      ],
      "execution_count": 23,
      "outputs": []
    },
    {
      "cell_type": "code",
      "metadata": {
        "id": "Q1gmkoWk5Q6M"
      },
      "source": [
        "models = {\n",
        "    \"Logistic Regression\" : LogisticRegression(),\n",
        "    \"Decision Tree\": DecisionTreeClassifier(),\n",
        "    \"LDA\" : LinearDiscriminantAnalysis(), \n",
        "    \"SGD\" : SGDClassifier(),\n",
        "    \"Gaussian\": GaussianNB(),\n",
        "    \"Random Forest\" : RandomForestClassifier(), \n",
        "    \"Gradient Boosting\" : GradientBoostingClassifier(),\n",
        "    \"XGBoost\" : XGBClassifier(),\n",
        "    \"CatBoost\" : CatBoostClassifier(),\n",
        "    \"LGBM\" : LGBMClassifier(),\n",
        "    \"KNN\" : KNeighborsClassifier(n_neighbors=3)\n",
        "        }"
      ],
      "execution_count": 16,
      "outputs": []
    },
    {
      "cell_type": "code",
      "metadata": {
        "colab": {
          "base_uri": "https://localhost:8080/"
        },
        "id": "8vTKn0bgezbg",
        "outputId": "6f3017ef-62d9-4b99-d680-455e708e8a13"
      },
      "source": [
        "scores = []\n",
        "probability = {}\n",
        "for model in models:\n",
        "  print(\"Model \"+model + \" score:\")\n",
        "  classifier = models[model]\n",
        "  classifier.fit(X_train, y_train)\n",
        "  predicts = classifier.predict(X_test)\n",
        "  try:\n",
        "    score = classifier.predict_proba(X_test)[:,1]\n",
        "    roc = roc_auc_score(y_test, score, average='weighted')\n",
        "    probability[model] = score\n",
        "  except:\n",
        "    roc = 0\n",
        "\n",
        "  scores.append([\n",
        "                 model,\n",
        "                 accuracy_score(y_test, predicts),\n",
        "                 f1_score(y_test, predicts, average ='weighted'),\n",
        "                 precision_score(y_test, predicts, average = 'weighted', zero_division = 1),\n",
        "                 recall_score(y_test, predicts, average= 'weighted'),\n",
        "                 roc\n",
        "  ])\n",
        "\n",
        "  print(\"Accuracy score : \", accuracy_score(y_test, predicts))\n",
        "  print(\"F1 score : \", f1_score(y_test, predicts, average = 'weighted'))\n",
        "  print(\"Precision score : \", precision_score(y_test, predicts, average = 'weighted', zero_division = 1))\n",
        "  print(\"Recall score : \", recall_score(y_test, predicts, average = 'weighted'))\n",
        "  print(\"ROC score : \", roc)\n",
        "  print()\n"
      ],
      "execution_count": 25,
      "outputs": [
        {
          "output_type": "stream",
          "text": [
            "Model Logistic Regression score:\n",
            "Accuracy score :  0.878013345721767\n",
            "F1 score :  0.8210450338480333\n",
            "Precision score :  0.7710188657722629\n",
            "Recall score :  0.878013345721767\n",
            "ROC score :  0.8299017459305709\n",
            "\n",
            "Model Decision Tree score:\n",
            "Accuracy score :  0.8220457808936565\n",
            "F1 score :  0.8229667516614396\n",
            "Precision score :  0.8239021341501664\n",
            "Recall score :  0.8220457808936565\n",
            "ROC score :  0.5959750931279678\n",
            "\n",
            "Model LDA score:\n",
            "Accuracy score :  0.8758003209730552\n",
            "F1 score :  0.825152274543422\n",
            "Precision score :  0.8163364339122435\n",
            "Recall score :  0.8758003209730552\n",
            "ROC score :  0.8289573199750636\n",
            "\n",
            "Model SGD score:\n",
            "Accuracy score :  0.8780809189965368\n",
            "F1 score :  0.8210786793124588\n",
            "Precision score :  0.8929451813092658\n",
            "Recall score :  0.8780809189965368\n",
            "ROC score :  0\n",
            "\n",
            "Model Gaussian score:\n",
            "Accuracy score :  0.6397161922459668\n",
            "F1 score :  0.7008953205594486\n",
            "Precision score :  0.9034551847267094\n",
            "Recall score :  0.6397161922459668\n",
            "ROC score :  0.8214104081606073\n",
            "\n",
            "Model Random Forest score:\n",
            "Accuracy score :  0.8543120195962497\n",
            "F1 score :  0.8326445663753199\n",
            "Precision score :  0.8189158516339117\n",
            "Recall score :  0.8543120195962497\n",
            "ROC score :  0.8106278235204584\n",
            "\n",
            "Model Gradient Boosting score:\n",
            "Accuracy score :  0.8780809189965368\n",
            "F1 score :  0.8210786793124588\n",
            "Precision score :  0.8929451813092658\n",
            "Recall score :  0.8780809189965368\n",
            "ROC score :  0.8461562033154231\n",
            "\n",
            "Model XGBoost score:\n",
            "Accuracy score :  0.8780809189965368\n",
            "F1 score :  0.8210786793124588\n",
            "Precision score :  0.8929451813092658\n",
            "Recall score :  0.8780809189965368\n",
            "ROC score :  0.846362413121212\n",
            "\n",
            "Model CatBoost score:\n"
          ],
          "name": "stdout"
        },
        {
          "output_type": "stream",
          "text": [
            "Custom logger is already specified. Specify more than one logger at same time is not thread safe."
          ],
          "name": "stderr"
        },
        {
          "output_type": "stream",
          "text": [
            "Learning rate set to 0.10636\n",
            "0:\tlearn: 0.5207319\ttotal: 61.2ms\tremaining: 1m 1s\n",
            "1:\tlearn: 0.4224050\ttotal: 129ms\tremaining: 1m 4s\n",
            "2:\tlearn: 0.3679691\ttotal: 197ms\tremaining: 1m 5s\n",
            "3:\tlearn: 0.3362036\ttotal: 260ms\tremaining: 1m 4s\n",
            "4:\tlearn: 0.3166347\ttotal: 322ms\tremaining: 1m 4s\n",
            "5:\tlearn: 0.3040315\ttotal: 384ms\tremaining: 1m 3s\n",
            "6:\tlearn: 0.2952674\ttotal: 448ms\tremaining: 1m 3s\n",
            "7:\tlearn: 0.2890309\ttotal: 512ms\tremaining: 1m 3s\n",
            "8:\tlearn: 0.2849325\ttotal: 575ms\tremaining: 1m 3s\n",
            "9:\tlearn: 0.2822863\ttotal: 638ms\tremaining: 1m 3s\n",
            "10:\tlearn: 0.2797538\ttotal: 706ms\tremaining: 1m 3s\n",
            "11:\tlearn: 0.2777852\ttotal: 770ms\tremaining: 1m 3s\n",
            "12:\tlearn: 0.2760077\ttotal: 836ms\tremaining: 1m 3s\n",
            "13:\tlearn: 0.2748393\ttotal: 899ms\tremaining: 1m 3s\n",
            "14:\tlearn: 0.2739160\ttotal: 969ms\tremaining: 1m 3s\n",
            "15:\tlearn: 0.2730110\ttotal: 1.03s\tremaining: 1m 3s\n",
            "16:\tlearn: 0.2723579\ttotal: 1.09s\tremaining: 1m 3s\n",
            "17:\tlearn: 0.2717665\ttotal: 1.15s\tremaining: 1m 3s\n",
            "18:\tlearn: 0.2713719\ttotal: 1.22s\tremaining: 1m 2s\n",
            "19:\tlearn: 0.2710559\ttotal: 1.29s\tremaining: 1m 3s\n",
            "20:\tlearn: 0.2707876\ttotal: 1.35s\tremaining: 1m 2s\n",
            "21:\tlearn: 0.2705809\ttotal: 1.41s\tremaining: 1m 2s\n",
            "22:\tlearn: 0.2702703\ttotal: 1.48s\tremaining: 1m 2s\n",
            "23:\tlearn: 0.2700622\ttotal: 1.54s\tremaining: 1m 2s\n",
            "24:\tlearn: 0.2699368\ttotal: 1.6s\tremaining: 1m 2s\n",
            "25:\tlearn: 0.2697637\ttotal: 1.67s\tremaining: 1m 2s\n",
            "26:\tlearn: 0.2695979\ttotal: 1.74s\tremaining: 1m 2s\n",
            "27:\tlearn: 0.2694927\ttotal: 1.8s\tremaining: 1m 2s\n",
            "28:\tlearn: 0.2693556\ttotal: 1.87s\tremaining: 1m 2s\n",
            "29:\tlearn: 0.2692547\ttotal: 1.94s\tremaining: 1m 2s\n",
            "30:\tlearn: 0.2691746\ttotal: 2s\tremaining: 1m 2s\n",
            "31:\tlearn: 0.2690974\ttotal: 2.07s\tremaining: 1m 2s\n",
            "32:\tlearn: 0.2690368\ttotal: 2.14s\tremaining: 1m 2s\n",
            "33:\tlearn: 0.2689872\ttotal: 2.2s\tremaining: 1m 2s\n",
            "34:\tlearn: 0.2689393\ttotal: 2.27s\tremaining: 1m 2s\n",
            "35:\tlearn: 0.2689154\ttotal: 2.32s\tremaining: 1m 2s\n",
            "36:\tlearn: 0.2688493\ttotal: 2.39s\tremaining: 1m 2s\n",
            "37:\tlearn: 0.2688011\ttotal: 2.44s\tremaining: 1m 1s\n",
            "38:\tlearn: 0.2687568\ttotal: 2.51s\tremaining: 1m 1s\n",
            "39:\tlearn: 0.2687169\ttotal: 2.58s\tremaining: 1m 1s\n",
            "40:\tlearn: 0.2686868\ttotal: 2.64s\tremaining: 1m 1s\n",
            "41:\tlearn: 0.2686476\ttotal: 2.7s\tremaining: 1m 1s\n",
            "42:\tlearn: 0.2686194\ttotal: 2.77s\tremaining: 1m 1s\n",
            "43:\tlearn: 0.2686028\ttotal: 2.83s\tremaining: 1m 1s\n",
            "44:\tlearn: 0.2685826\ttotal: 2.9s\tremaining: 1m 1s\n",
            "45:\tlearn: 0.2685656\ttotal: 2.96s\tremaining: 1m 1s\n",
            "46:\tlearn: 0.2685359\ttotal: 3.02s\tremaining: 1m 1s\n",
            "47:\tlearn: 0.2685155\ttotal: 3.09s\tremaining: 1m 1s\n",
            "48:\tlearn: 0.2684855\ttotal: 3.15s\tremaining: 1m 1s\n",
            "49:\tlearn: 0.2684504\ttotal: 3.22s\tremaining: 1m 1s\n",
            "50:\tlearn: 0.2684073\ttotal: 3.3s\tremaining: 1m 1s\n",
            "51:\tlearn: 0.2683949\ttotal: 3.37s\tremaining: 1m 1s\n",
            "52:\tlearn: 0.2683769\ttotal: 3.43s\tremaining: 1m 1s\n",
            "53:\tlearn: 0.2683444\ttotal: 3.49s\tremaining: 1m 1s\n",
            "54:\tlearn: 0.2683267\ttotal: 3.56s\tremaining: 1m 1s\n",
            "55:\tlearn: 0.2683036\ttotal: 3.63s\tremaining: 1m 1s\n",
            "56:\tlearn: 0.2682821\ttotal: 3.69s\tremaining: 1m 1s\n",
            "57:\tlearn: 0.2682633\ttotal: 3.76s\tremaining: 1m 1s\n",
            "58:\tlearn: 0.2682375\ttotal: 3.83s\tremaining: 1m 1s\n",
            "59:\tlearn: 0.2682194\ttotal: 3.89s\tremaining: 1m\n",
            "60:\tlearn: 0.2681977\ttotal: 3.96s\tremaining: 1m 1s\n",
            "61:\tlearn: 0.2681793\ttotal: 4.03s\tremaining: 1m\n",
            "62:\tlearn: 0.2681571\ttotal: 4.1s\tremaining: 1m\n",
            "63:\tlearn: 0.2681286\ttotal: 4.16s\tremaining: 1m\n",
            "64:\tlearn: 0.2681246\ttotal: 4.22s\tremaining: 1m\n",
            "65:\tlearn: 0.2680956\ttotal: 4.28s\tremaining: 1m\n",
            "66:\tlearn: 0.2680811\ttotal: 4.34s\tremaining: 1m\n",
            "67:\tlearn: 0.2680630\ttotal: 4.42s\tremaining: 1m\n",
            "68:\tlearn: 0.2680510\ttotal: 4.49s\tremaining: 1m\n",
            "69:\tlearn: 0.2680277\ttotal: 4.56s\tremaining: 1m\n",
            "70:\tlearn: 0.2680051\ttotal: 4.62s\tremaining: 1m\n",
            "71:\tlearn: 0.2679854\ttotal: 4.69s\tremaining: 1m\n",
            "72:\tlearn: 0.2679688\ttotal: 4.75s\tremaining: 1m\n",
            "73:\tlearn: 0.2679516\ttotal: 4.82s\tremaining: 1m\n",
            "74:\tlearn: 0.2679350\ttotal: 4.88s\tremaining: 1m\n",
            "75:\tlearn: 0.2679156\ttotal: 4.95s\tremaining: 1m\n",
            "76:\tlearn: 0.2678994\ttotal: 5.02s\tremaining: 1m\n",
            "77:\tlearn: 0.2678720\ttotal: 5.08s\tremaining: 1m\n",
            "78:\tlearn: 0.2678598\ttotal: 5.15s\tremaining: 1m\n",
            "79:\tlearn: 0.2678470\ttotal: 5.21s\tremaining: 59.9s\n",
            "80:\tlearn: 0.2678334\ttotal: 5.28s\tremaining: 59.9s\n",
            "81:\tlearn: 0.2678136\ttotal: 5.34s\tremaining: 59.8s\n",
            "82:\tlearn: 0.2678016\ttotal: 5.4s\tremaining: 59.7s\n",
            "83:\tlearn: 0.2677876\ttotal: 5.47s\tremaining: 59.6s\n",
            "84:\tlearn: 0.2677765\ttotal: 5.53s\tremaining: 59.6s\n",
            "85:\tlearn: 0.2677644\ttotal: 5.59s\tremaining: 59.4s\n",
            "86:\tlearn: 0.2677448\ttotal: 5.65s\tremaining: 59.3s\n",
            "87:\tlearn: 0.2677306\ttotal: 5.71s\tremaining: 59.2s\n",
            "88:\tlearn: 0.2677126\ttotal: 5.78s\tremaining: 59.2s\n",
            "89:\tlearn: 0.2676984\ttotal: 5.84s\tremaining: 59.1s\n",
            "90:\tlearn: 0.2676762\ttotal: 5.91s\tremaining: 59s\n",
            "91:\tlearn: 0.2676602\ttotal: 5.97s\tremaining: 59s\n",
            "92:\tlearn: 0.2676427\ttotal: 6.03s\tremaining: 58.8s\n",
            "93:\tlearn: 0.2676315\ttotal: 6.09s\tremaining: 58.7s\n",
            "94:\tlearn: 0.2676073\ttotal: 6.16s\tremaining: 58.7s\n",
            "95:\tlearn: 0.2675879\ttotal: 6.22s\tremaining: 58.6s\n",
            "96:\tlearn: 0.2675760\ttotal: 6.29s\tremaining: 58.6s\n",
            "97:\tlearn: 0.2675610\ttotal: 6.35s\tremaining: 58.4s\n",
            "98:\tlearn: 0.2675492\ttotal: 6.41s\tremaining: 58.3s\n",
            "99:\tlearn: 0.2675379\ttotal: 6.48s\tremaining: 58.3s\n",
            "100:\tlearn: 0.2675224\ttotal: 6.54s\tremaining: 58.2s\n",
            "101:\tlearn: 0.2675065\ttotal: 6.61s\tremaining: 58.2s\n",
            "102:\tlearn: 0.2674929\ttotal: 6.67s\tremaining: 58.1s\n",
            "103:\tlearn: 0.2674815\ttotal: 6.74s\tremaining: 58.1s\n",
            "104:\tlearn: 0.2674674\ttotal: 6.8s\tremaining: 58s\n",
            "105:\tlearn: 0.2674552\ttotal: 6.87s\tremaining: 57.9s\n",
            "106:\tlearn: 0.2674401\ttotal: 6.93s\tremaining: 57.8s\n",
            "107:\tlearn: 0.2674227\ttotal: 7s\tremaining: 57.8s\n",
            "108:\tlearn: 0.2674135\ttotal: 7.06s\tremaining: 57.7s\n",
            "109:\tlearn: 0.2673936\ttotal: 7.13s\tremaining: 57.7s\n",
            "110:\tlearn: 0.2673778\ttotal: 7.19s\tremaining: 57.6s\n",
            "111:\tlearn: 0.2673656\ttotal: 7.25s\tremaining: 57.5s\n",
            "112:\tlearn: 0.2673470\ttotal: 7.32s\tremaining: 57.4s\n",
            "113:\tlearn: 0.2673322\ttotal: 7.38s\tremaining: 57.4s\n",
            "114:\tlearn: 0.2673189\ttotal: 7.45s\tremaining: 57.3s\n",
            "115:\tlearn: 0.2673053\ttotal: 7.51s\tremaining: 57.2s\n",
            "116:\tlearn: 0.2672888\ttotal: 7.58s\tremaining: 57.2s\n",
            "117:\tlearn: 0.2672730\ttotal: 7.64s\tremaining: 57.1s\n",
            "118:\tlearn: 0.2672661\ttotal: 7.71s\tremaining: 57s\n",
            "119:\tlearn: 0.2672549\ttotal: 7.76s\tremaining: 56.9s\n",
            "120:\tlearn: 0.2672392\ttotal: 7.83s\tremaining: 56.9s\n",
            "121:\tlearn: 0.2672282\ttotal: 7.89s\tremaining: 56.8s\n",
            "122:\tlearn: 0.2672189\ttotal: 7.95s\tremaining: 56.7s\n",
            "123:\tlearn: 0.2672002\ttotal: 8.01s\tremaining: 56.6s\n",
            "124:\tlearn: 0.2671884\ttotal: 8.07s\tremaining: 56.5s\n",
            "125:\tlearn: 0.2671735\ttotal: 8.13s\tremaining: 56.4s\n",
            "126:\tlearn: 0.2671590\ttotal: 8.19s\tremaining: 56.3s\n",
            "127:\tlearn: 0.2671330\ttotal: 8.26s\tremaining: 56.2s\n",
            "128:\tlearn: 0.2671145\ttotal: 8.32s\tremaining: 56.2s\n",
            "129:\tlearn: 0.2670990\ttotal: 8.38s\tremaining: 56.1s\n",
            "130:\tlearn: 0.2670808\ttotal: 8.44s\tremaining: 56s\n",
            "131:\tlearn: 0.2670619\ttotal: 8.51s\tremaining: 56s\n",
            "132:\tlearn: 0.2670449\ttotal: 8.58s\tremaining: 55.9s\n",
            "133:\tlearn: 0.2670303\ttotal: 8.64s\tremaining: 55.8s\n",
            "134:\tlearn: 0.2670210\ttotal: 8.7s\tremaining: 55.7s\n",
            "135:\tlearn: 0.2670018\ttotal: 8.76s\tremaining: 55.6s\n",
            "136:\tlearn: 0.2669851\ttotal: 8.82s\tremaining: 55.6s\n",
            "137:\tlearn: 0.2669716\ttotal: 8.89s\tremaining: 55.5s\n",
            "138:\tlearn: 0.2669565\ttotal: 8.95s\tremaining: 55.4s\n",
            "139:\tlearn: 0.2669450\ttotal: 9.02s\tremaining: 55.4s\n",
            "140:\tlearn: 0.2669321\ttotal: 9.09s\tremaining: 55.4s\n",
            "141:\tlearn: 0.2669173\ttotal: 9.15s\tremaining: 55.3s\n",
            "142:\tlearn: 0.2669043\ttotal: 9.21s\tremaining: 55.2s\n",
            "143:\tlearn: 0.2668860\ttotal: 9.28s\tremaining: 55.1s\n",
            "144:\tlearn: 0.2668705\ttotal: 9.34s\tremaining: 55.1s\n",
            "145:\tlearn: 0.2668478\ttotal: 9.41s\tremaining: 55.1s\n",
            "146:\tlearn: 0.2668340\ttotal: 9.47s\tremaining: 55s\n",
            "147:\tlearn: 0.2668206\ttotal: 9.54s\tremaining: 54.9s\n",
            "148:\tlearn: 0.2668073\ttotal: 9.6s\tremaining: 54.8s\n",
            "149:\tlearn: 0.2667958\ttotal: 9.66s\tremaining: 54.8s\n",
            "150:\tlearn: 0.2667783\ttotal: 9.73s\tremaining: 54.7s\n",
            "151:\tlearn: 0.2667653\ttotal: 9.79s\tremaining: 54.6s\n",
            "152:\tlearn: 0.2667535\ttotal: 9.86s\tremaining: 54.6s\n",
            "153:\tlearn: 0.2667409\ttotal: 9.92s\tremaining: 54.5s\n",
            "154:\tlearn: 0.2667275\ttotal: 9.99s\tremaining: 54.5s\n",
            "155:\tlearn: 0.2667046\ttotal: 10s\tremaining: 54.4s\n",
            "156:\tlearn: 0.2666909\ttotal: 10.1s\tremaining: 54.3s\n",
            "157:\tlearn: 0.2666762\ttotal: 10.2s\tremaining: 54.2s\n",
            "158:\tlearn: 0.2666658\ttotal: 10.2s\tremaining: 54.2s\n",
            "159:\tlearn: 0.2666500\ttotal: 10.3s\tremaining: 54.1s\n",
            "160:\tlearn: 0.2666367\ttotal: 10.4s\tremaining: 54.1s\n",
            "161:\tlearn: 0.2666218\ttotal: 10.4s\tremaining: 54s\n",
            "162:\tlearn: 0.2666085\ttotal: 10.5s\tremaining: 53.9s\n",
            "163:\tlearn: 0.2665963\ttotal: 10.6s\tremaining: 53.9s\n",
            "164:\tlearn: 0.2665747\ttotal: 10.6s\tremaining: 53.8s\n",
            "165:\tlearn: 0.2665566\ttotal: 10.7s\tremaining: 53.8s\n",
            "166:\tlearn: 0.2665358\ttotal: 10.8s\tremaining: 53.7s\n",
            "167:\tlearn: 0.2665199\ttotal: 10.8s\tremaining: 53.6s\n",
            "168:\tlearn: 0.2665109\ttotal: 10.9s\tremaining: 53.6s\n",
            "169:\tlearn: 0.2664951\ttotal: 11s\tremaining: 53.5s\n",
            "170:\tlearn: 0.2664793\ttotal: 11s\tremaining: 53.5s\n",
            "171:\tlearn: 0.2664572\ttotal: 11.1s\tremaining: 53.4s\n",
            "172:\tlearn: 0.2664434\ttotal: 11.2s\tremaining: 53.4s\n",
            "173:\tlearn: 0.2664282\ttotal: 11.2s\tremaining: 53.3s\n",
            "174:\tlearn: 0.2664162\ttotal: 11.3s\tremaining: 53.3s\n",
            "175:\tlearn: 0.2663992\ttotal: 11.4s\tremaining: 53.3s\n",
            "176:\tlearn: 0.2663884\ttotal: 11.4s\tremaining: 53.2s\n",
            "177:\tlearn: 0.2663715\ttotal: 11.5s\tremaining: 53.1s\n",
            "178:\tlearn: 0.2663546\ttotal: 11.6s\tremaining: 53.1s\n",
            "179:\tlearn: 0.2663353\ttotal: 11.6s\tremaining: 53s\n",
            "180:\tlearn: 0.2663151\ttotal: 11.7s\tremaining: 53s\n",
            "181:\tlearn: 0.2663003\ttotal: 11.8s\tremaining: 52.9s\n",
            "182:\tlearn: 0.2662832\ttotal: 11.8s\tremaining: 52.9s\n",
            "183:\tlearn: 0.2662608\ttotal: 11.9s\tremaining: 52.8s\n",
            "184:\tlearn: 0.2662436\ttotal: 12s\tremaining: 52.7s\n",
            "185:\tlearn: 0.2662303\ttotal: 12s\tremaining: 52.7s\n",
            "186:\tlearn: 0.2662153\ttotal: 12.1s\tremaining: 52.7s\n",
            "187:\tlearn: 0.2662041\ttotal: 12.2s\tremaining: 52.7s\n",
            "188:\tlearn: 0.2661875\ttotal: 12.3s\tremaining: 52.6s\n",
            "189:\tlearn: 0.2661757\ttotal: 12.3s\tremaining: 52.5s\n",
            "190:\tlearn: 0.2661610\ttotal: 12.4s\tremaining: 52.5s\n",
            "191:\tlearn: 0.2661423\ttotal: 12.5s\tremaining: 52.4s\n",
            "192:\tlearn: 0.2661301\ttotal: 12.5s\tremaining: 52.3s\n",
            "193:\tlearn: 0.2661159\ttotal: 12.6s\tremaining: 52.3s\n",
            "194:\tlearn: 0.2661016\ttotal: 12.6s\tremaining: 52.2s\n",
            "195:\tlearn: 0.2660850\ttotal: 12.7s\tremaining: 52.2s\n",
            "196:\tlearn: 0.2660717\ttotal: 12.8s\tremaining: 52.1s\n",
            "197:\tlearn: 0.2660615\ttotal: 12.8s\tremaining: 52s\n",
            "198:\tlearn: 0.2660477\ttotal: 12.9s\tremaining: 52s\n",
            "199:\tlearn: 0.2660301\ttotal: 13s\tremaining: 51.9s\n",
            "200:\tlearn: 0.2660133\ttotal: 13.1s\tremaining: 51.9s\n",
            "201:\tlearn: 0.2659947\ttotal: 13.1s\tremaining: 51.8s\n",
            "202:\tlearn: 0.2659848\ttotal: 13.2s\tremaining: 51.7s\n",
            "203:\tlearn: 0.2659698\ttotal: 13.2s\tremaining: 51.7s\n",
            "204:\tlearn: 0.2659545\ttotal: 13.3s\tremaining: 51.6s\n",
            "205:\tlearn: 0.2659348\ttotal: 13.4s\tremaining: 51.6s\n",
            "206:\tlearn: 0.2659233\ttotal: 13.4s\tremaining: 51.5s\n",
            "207:\tlearn: 0.2659070\ttotal: 13.5s\tremaining: 51.5s\n",
            "208:\tlearn: 0.2658960\ttotal: 13.6s\tremaining: 51.4s\n",
            "209:\tlearn: 0.2658792\ttotal: 13.6s\tremaining: 51.3s\n",
            "210:\tlearn: 0.2658637\ttotal: 13.7s\tremaining: 51.3s\n",
            "211:\tlearn: 0.2658462\ttotal: 13.8s\tremaining: 51.2s\n",
            "212:\tlearn: 0.2658265\ttotal: 13.8s\tremaining: 51.2s\n",
            "213:\tlearn: 0.2658152\ttotal: 13.9s\tremaining: 51.1s\n",
            "214:\tlearn: 0.2658034\ttotal: 14s\tremaining: 51s\n",
            "215:\tlearn: 0.2657913\ttotal: 14s\tremaining: 51s\n",
            "216:\tlearn: 0.2657789\ttotal: 14.1s\tremaining: 50.9s\n",
            "217:\tlearn: 0.2657643\ttotal: 14.2s\tremaining: 50.8s\n",
            "218:\tlearn: 0.2657510\ttotal: 14.2s\tremaining: 50.8s\n",
            "219:\tlearn: 0.2657384\ttotal: 14.3s\tremaining: 50.7s\n",
            "220:\tlearn: 0.2657315\ttotal: 14.4s\tremaining: 50.7s\n",
            "221:\tlearn: 0.2657164\ttotal: 14.4s\tremaining: 50.6s\n",
            "222:\tlearn: 0.2657042\ttotal: 14.5s\tremaining: 50.5s\n",
            "223:\tlearn: 0.2656866\ttotal: 14.6s\tremaining: 50.5s\n",
            "224:\tlearn: 0.2656677\ttotal: 14.6s\tremaining: 50.4s\n",
            "225:\tlearn: 0.2656559\ttotal: 14.7s\tremaining: 50.3s\n",
            "226:\tlearn: 0.2656423\ttotal: 14.8s\tremaining: 50.3s\n",
            "227:\tlearn: 0.2656259\ttotal: 14.8s\tremaining: 50.2s\n",
            "228:\tlearn: 0.2656121\ttotal: 14.9s\tremaining: 50.1s\n",
            "229:\tlearn: 0.2655956\ttotal: 15s\tremaining: 50.1s\n",
            "230:\tlearn: 0.2655819\ttotal: 15s\tremaining: 50s\n",
            "231:\tlearn: 0.2655705\ttotal: 15.1s\tremaining: 50s\n",
            "232:\tlearn: 0.2655580\ttotal: 15.2s\tremaining: 49.9s\n",
            "233:\tlearn: 0.2655476\ttotal: 15.2s\tremaining: 49.8s\n",
            "234:\tlearn: 0.2655352\ttotal: 15.3s\tremaining: 49.8s\n",
            "235:\tlearn: 0.2655198\ttotal: 15.4s\tremaining: 49.7s\n",
            "236:\tlearn: 0.2655100\ttotal: 15.4s\tremaining: 49.7s\n",
            "237:\tlearn: 0.2654980\ttotal: 15.5s\tremaining: 49.6s\n",
            "238:\tlearn: 0.2654902\ttotal: 15.6s\tremaining: 49.5s\n",
            "239:\tlearn: 0.2654753\ttotal: 15.6s\tremaining: 49.5s\n",
            "240:\tlearn: 0.2654614\ttotal: 15.7s\tremaining: 49.4s\n",
            "241:\tlearn: 0.2654468\ttotal: 15.8s\tremaining: 49.3s\n",
            "242:\tlearn: 0.2654357\ttotal: 15.8s\tremaining: 49.3s\n",
            "243:\tlearn: 0.2654245\ttotal: 15.9s\tremaining: 49.2s\n",
            "244:\tlearn: 0.2654108\ttotal: 16s\tremaining: 49.2s\n",
            "245:\tlearn: 0.2653980\ttotal: 16s\tremaining: 49.1s\n",
            "246:\tlearn: 0.2653839\ttotal: 16.1s\tremaining: 49.1s\n",
            "247:\tlearn: 0.2653639\ttotal: 16.2s\tremaining: 49s\n",
            "248:\tlearn: 0.2653526\ttotal: 16.2s\tremaining: 48.9s\n",
            "249:\tlearn: 0.2653279\ttotal: 16.3s\tremaining: 48.9s\n",
            "250:\tlearn: 0.2653171\ttotal: 16.3s\tremaining: 48.8s\n",
            "251:\tlearn: 0.2653071\ttotal: 16.4s\tremaining: 48.7s\n",
            "252:\tlearn: 0.2652944\ttotal: 16.5s\tremaining: 48.7s\n",
            "253:\tlearn: 0.2652796\ttotal: 16.6s\tremaining: 48.6s\n",
            "254:\tlearn: 0.2652666\ttotal: 16.6s\tremaining: 48.6s\n",
            "255:\tlearn: 0.2652542\ttotal: 16.7s\tremaining: 48.5s\n",
            "256:\tlearn: 0.2652380\ttotal: 16.7s\tremaining: 48.4s\n",
            "257:\tlearn: 0.2652242\ttotal: 16.8s\tremaining: 48.4s\n",
            "258:\tlearn: 0.2652115\ttotal: 16.9s\tremaining: 48.3s\n",
            "259:\tlearn: 0.2652012\ttotal: 16.9s\tremaining: 48.2s\n",
            "260:\tlearn: 0.2651848\ttotal: 17s\tremaining: 48.2s\n",
            "261:\tlearn: 0.2651741\ttotal: 17.1s\tremaining: 48.1s\n",
            "262:\tlearn: 0.2651600\ttotal: 17.1s\tremaining: 48s\n",
            "263:\tlearn: 0.2651456\ttotal: 17.2s\tremaining: 48s\n",
            "264:\tlearn: 0.2651353\ttotal: 17.3s\tremaining: 47.9s\n",
            "265:\tlearn: 0.2651258\ttotal: 17.3s\tremaining: 47.9s\n",
            "266:\tlearn: 0.2651060\ttotal: 17.4s\tremaining: 47.8s\n",
            "267:\tlearn: 0.2650955\ttotal: 17.5s\tremaining: 47.7s\n",
            "268:\tlearn: 0.2650872\ttotal: 17.5s\tremaining: 47.7s\n",
            "269:\tlearn: 0.2650727\ttotal: 17.6s\tremaining: 47.6s\n",
            "270:\tlearn: 0.2650598\ttotal: 17.7s\tremaining: 47.5s\n",
            "271:\tlearn: 0.2650445\ttotal: 17.7s\tremaining: 47.5s\n",
            "272:\tlearn: 0.2650321\ttotal: 17.8s\tremaining: 47.4s\n",
            "273:\tlearn: 0.2650190\ttotal: 17.9s\tremaining: 47.3s\n",
            "274:\tlearn: 0.2650041\ttotal: 17.9s\tremaining: 47.3s\n",
            "275:\tlearn: 0.2649904\ttotal: 18s\tremaining: 47.2s\n",
            "276:\tlearn: 0.2649725\ttotal: 18.1s\tremaining: 47.2s\n",
            "277:\tlearn: 0.2649606\ttotal: 18.1s\tremaining: 47.1s\n",
            "278:\tlearn: 0.2649495\ttotal: 18.2s\tremaining: 47s\n",
            "279:\tlearn: 0.2649397\ttotal: 18.3s\tremaining: 47s\n",
            "280:\tlearn: 0.2649202\ttotal: 18.3s\tremaining: 46.9s\n",
            "281:\tlearn: 0.2649093\ttotal: 18.4s\tremaining: 46.8s\n",
            "282:\tlearn: 0.2648887\ttotal: 18.5s\tremaining: 46.8s\n",
            "283:\tlearn: 0.2648798\ttotal: 18.5s\tremaining: 46.7s\n",
            "284:\tlearn: 0.2648661\ttotal: 18.6s\tremaining: 46.6s\n",
            "285:\tlearn: 0.2648491\ttotal: 18.7s\tremaining: 46.6s\n",
            "286:\tlearn: 0.2648405\ttotal: 18.7s\tremaining: 46.5s\n",
            "287:\tlearn: 0.2648306\ttotal: 18.8s\tremaining: 46.5s\n",
            "288:\tlearn: 0.2648215\ttotal: 18.9s\tremaining: 46.4s\n",
            "289:\tlearn: 0.2648102\ttotal: 18.9s\tremaining: 46.4s\n",
            "290:\tlearn: 0.2647953\ttotal: 19s\tremaining: 46.3s\n",
            "291:\tlearn: 0.2647851\ttotal: 19.1s\tremaining: 46.3s\n",
            "292:\tlearn: 0.2647702\ttotal: 19.1s\tremaining: 46.2s\n",
            "293:\tlearn: 0.2647528\ttotal: 19.2s\tremaining: 46.2s\n",
            "294:\tlearn: 0.2647356\ttotal: 19.3s\tremaining: 46.1s\n",
            "295:\tlearn: 0.2647159\ttotal: 19.4s\tremaining: 46s\n",
            "296:\tlearn: 0.2647050\ttotal: 19.4s\tremaining: 46s\n",
            "297:\tlearn: 0.2646912\ttotal: 19.5s\tremaining: 45.9s\n",
            "298:\tlearn: 0.2646755\ttotal: 19.6s\tremaining: 45.9s\n",
            "299:\tlearn: 0.2646553\ttotal: 19.6s\tremaining: 45.8s\n",
            "300:\tlearn: 0.2646388\ttotal: 19.7s\tremaining: 45.8s\n",
            "301:\tlearn: 0.2646237\ttotal: 19.8s\tremaining: 45.7s\n",
            "302:\tlearn: 0.2646105\ttotal: 19.8s\tremaining: 45.7s\n",
            "303:\tlearn: 0.2645976\ttotal: 19.9s\tremaining: 45.6s\n",
            "304:\tlearn: 0.2645883\ttotal: 20s\tremaining: 45.5s\n",
            "305:\tlearn: 0.2645754\ttotal: 20s\tremaining: 45.5s\n",
            "306:\tlearn: 0.2645619\ttotal: 20.1s\tremaining: 45.4s\n",
            "307:\tlearn: 0.2645453\ttotal: 20.2s\tremaining: 45.3s\n",
            "308:\tlearn: 0.2645259\ttotal: 20.2s\tremaining: 45.3s\n",
            "309:\tlearn: 0.2645141\ttotal: 20.3s\tremaining: 45.2s\n",
            "310:\tlearn: 0.2644987\ttotal: 20.4s\tremaining: 45.1s\n",
            "311:\tlearn: 0.2644854\ttotal: 20.4s\tremaining: 45.1s\n",
            "312:\tlearn: 0.2644730\ttotal: 20.5s\tremaining: 45s\n",
            "313:\tlearn: 0.2644621\ttotal: 20.6s\tremaining: 45s\n",
            "314:\tlearn: 0.2644534\ttotal: 20.6s\tremaining: 44.9s\n",
            "315:\tlearn: 0.2644419\ttotal: 20.7s\tremaining: 44.8s\n",
            "316:\tlearn: 0.2644348\ttotal: 20.8s\tremaining: 44.8s\n",
            "317:\tlearn: 0.2644226\ttotal: 20.8s\tremaining: 44.7s\n",
            "318:\tlearn: 0.2644109\ttotal: 20.9s\tremaining: 44.6s\n",
            "319:\tlearn: 0.2643928\ttotal: 21s\tremaining: 44.6s\n",
            "320:\tlearn: 0.2643808\ttotal: 21s\tremaining: 44.5s\n",
            "321:\tlearn: 0.2643633\ttotal: 21.1s\tremaining: 44.5s\n",
            "322:\tlearn: 0.2643451\ttotal: 21.2s\tremaining: 44.4s\n",
            "323:\tlearn: 0.2643342\ttotal: 21.2s\tremaining: 44.3s\n",
            "324:\tlearn: 0.2643215\ttotal: 21.3s\tremaining: 44.3s\n",
            "325:\tlearn: 0.2643122\ttotal: 21.4s\tremaining: 44.2s\n",
            "326:\tlearn: 0.2643018\ttotal: 21.4s\tremaining: 44.1s\n",
            "327:\tlearn: 0.2642816\ttotal: 21.5s\tremaining: 44.1s\n",
            "328:\tlearn: 0.2642705\ttotal: 21.6s\tremaining: 44s\n",
            "329:\tlearn: 0.2642536\ttotal: 21.6s\tremaining: 43.9s\n",
            "330:\tlearn: 0.2642394\ttotal: 21.7s\tremaining: 43.9s\n",
            "331:\tlearn: 0.2642204\ttotal: 21.8s\tremaining: 43.8s\n",
            "332:\tlearn: 0.2642094\ttotal: 21.8s\tremaining: 43.8s\n",
            "333:\tlearn: 0.2642001\ttotal: 21.9s\tremaining: 43.7s\n",
            "334:\tlearn: 0.2641901\ttotal: 22s\tremaining: 43.6s\n",
            "335:\tlearn: 0.2641763\ttotal: 22s\tremaining: 43.5s\n",
            "336:\tlearn: 0.2641652\ttotal: 22.1s\tremaining: 43.5s\n",
            "337:\tlearn: 0.2641490\ttotal: 22.2s\tremaining: 43.4s\n",
            "338:\tlearn: 0.2641392\ttotal: 22.2s\tremaining: 43.4s\n",
            "339:\tlearn: 0.2641293\ttotal: 22.3s\tremaining: 43.3s\n",
            "340:\tlearn: 0.2641134\ttotal: 22.4s\tremaining: 43.2s\n",
            "341:\tlearn: 0.2641028\ttotal: 22.4s\tremaining: 43.2s\n",
            "342:\tlearn: 0.2640861\ttotal: 22.5s\tremaining: 43.1s\n",
            "343:\tlearn: 0.2640742\ttotal: 22.6s\tremaining: 43.1s\n",
            "344:\tlearn: 0.2640590\ttotal: 22.7s\tremaining: 43s\n",
            "345:\tlearn: 0.2640498\ttotal: 22.7s\tremaining: 42.9s\n",
            "346:\tlearn: 0.2640378\ttotal: 22.8s\tremaining: 42.9s\n",
            "347:\tlearn: 0.2640248\ttotal: 22.8s\tremaining: 42.8s\n",
            "348:\tlearn: 0.2640080\ttotal: 22.9s\tremaining: 42.7s\n",
            "349:\tlearn: 0.2639989\ttotal: 23s\tremaining: 42.7s\n",
            "350:\tlearn: 0.2639829\ttotal: 23s\tremaining: 42.6s\n",
            "351:\tlearn: 0.2639630\ttotal: 23.1s\tremaining: 42.5s\n",
            "352:\tlearn: 0.2639440\ttotal: 23.2s\tremaining: 42.5s\n",
            "353:\tlearn: 0.2639320\ttotal: 23.2s\tremaining: 42.4s\n",
            "354:\tlearn: 0.2639206\ttotal: 23.3s\tremaining: 42.3s\n",
            "355:\tlearn: 0.2639081\ttotal: 23.4s\tremaining: 42.3s\n",
            "356:\tlearn: 0.2638970\ttotal: 23.4s\tremaining: 42.2s\n",
            "357:\tlearn: 0.2638867\ttotal: 23.5s\tremaining: 42.1s\n",
            "358:\tlearn: 0.2638796\ttotal: 23.6s\tremaining: 42.1s\n",
            "359:\tlearn: 0.2638632\ttotal: 23.6s\tremaining: 42s\n",
            "360:\tlearn: 0.2638477\ttotal: 23.7s\tremaining: 42s\n",
            "361:\tlearn: 0.2638383\ttotal: 23.8s\tremaining: 41.9s\n",
            "362:\tlearn: 0.2638255\ttotal: 23.8s\tremaining: 41.8s\n",
            "363:\tlearn: 0.2638174\ttotal: 23.9s\tremaining: 41.8s\n",
            "364:\tlearn: 0.2638088\ttotal: 24s\tremaining: 41.7s\n",
            "365:\tlearn: 0.2637975\ttotal: 24s\tremaining: 41.6s\n",
            "366:\tlearn: 0.2637733\ttotal: 24.1s\tremaining: 41.6s\n",
            "367:\tlearn: 0.2637597\ttotal: 24.2s\tremaining: 41.5s\n",
            "368:\tlearn: 0.2637492\ttotal: 24.2s\tremaining: 41.5s\n",
            "369:\tlearn: 0.2637349\ttotal: 24.3s\tremaining: 41.4s\n",
            "370:\tlearn: 0.2637175\ttotal: 24.4s\tremaining: 41.3s\n",
            "371:\tlearn: 0.2637000\ttotal: 24.5s\tremaining: 41.3s\n",
            "372:\tlearn: 0.2636824\ttotal: 24.5s\tremaining: 41.2s\n",
            "373:\tlearn: 0.2636708\ttotal: 24.6s\tremaining: 41.1s\n",
            "374:\tlearn: 0.2636564\ttotal: 24.6s\tremaining: 41.1s\n",
            "375:\tlearn: 0.2636433\ttotal: 24.7s\tremaining: 41s\n",
            "376:\tlearn: 0.2636312\ttotal: 24.8s\tremaining: 40.9s\n",
            "377:\tlearn: 0.2636217\ttotal: 24.8s\tremaining: 40.9s\n",
            "378:\tlearn: 0.2636087\ttotal: 24.9s\tremaining: 40.8s\n",
            "379:\tlearn: 0.2635957\ttotal: 25s\tremaining: 40.7s\n",
            "380:\tlearn: 0.2635865\ttotal: 25s\tremaining: 40.7s\n",
            "381:\tlearn: 0.2635778\ttotal: 25.1s\tremaining: 40.6s\n",
            "382:\tlearn: 0.2635617\ttotal: 25.2s\tremaining: 40.5s\n",
            "383:\tlearn: 0.2635505\ttotal: 25.2s\tremaining: 40.5s\n",
            "384:\tlearn: 0.2635386\ttotal: 25.3s\tremaining: 40.4s\n",
            "385:\tlearn: 0.2635254\ttotal: 25.4s\tremaining: 40.3s\n",
            "386:\tlearn: 0.2635162\ttotal: 25.4s\tremaining: 40.3s\n",
            "387:\tlearn: 0.2635030\ttotal: 25.5s\tremaining: 40.2s\n",
            "388:\tlearn: 0.2634892\ttotal: 25.6s\tremaining: 40.1s\n",
            "389:\tlearn: 0.2634731\ttotal: 25.6s\tremaining: 40.1s\n",
            "390:\tlearn: 0.2634623\ttotal: 25.7s\tremaining: 40s\n",
            "391:\tlearn: 0.2634528\ttotal: 25.8s\tremaining: 39.9s\n",
            "392:\tlearn: 0.2634416\ttotal: 25.8s\tremaining: 39.9s\n",
            "393:\tlearn: 0.2634273\ttotal: 25.9s\tremaining: 39.8s\n",
            "394:\tlearn: 0.2634160\ttotal: 25.9s\tremaining: 39.7s\n",
            "395:\tlearn: 0.2634039\ttotal: 26s\tremaining: 39.7s\n",
            "396:\tlearn: 0.2633873\ttotal: 26.1s\tremaining: 39.6s\n",
            "397:\tlearn: 0.2633792\ttotal: 26.1s\tremaining: 39.5s\n",
            "398:\tlearn: 0.2633661\ttotal: 26.2s\tremaining: 39.5s\n",
            "399:\tlearn: 0.2633524\ttotal: 26.3s\tremaining: 39.4s\n",
            "400:\tlearn: 0.2633417\ttotal: 26.3s\tremaining: 39.4s\n",
            "401:\tlearn: 0.2633293\ttotal: 26.4s\tremaining: 39.3s\n",
            "402:\tlearn: 0.2633160\ttotal: 26.5s\tremaining: 39.2s\n",
            "403:\tlearn: 0.2633096\ttotal: 26.5s\tremaining: 39.2s\n",
            "404:\tlearn: 0.2632990\ttotal: 26.6s\tremaining: 39.1s\n",
            "405:\tlearn: 0.2632836\ttotal: 26.7s\tremaining: 39s\n",
            "406:\tlearn: 0.2632718\ttotal: 26.8s\tremaining: 39s\n",
            "407:\tlearn: 0.2632543\ttotal: 26.8s\tremaining: 38.9s\n",
            "408:\tlearn: 0.2632409\ttotal: 26.9s\tremaining: 38.9s\n",
            "409:\tlearn: 0.2632318\ttotal: 26.9s\tremaining: 38.8s\n",
            "410:\tlearn: 0.2632186\ttotal: 27s\tremaining: 38.7s\n",
            "411:\tlearn: 0.2632099\ttotal: 27.1s\tremaining: 38.7s\n",
            "412:\tlearn: 0.2631972\ttotal: 27.2s\tremaining: 38.6s\n",
            "413:\tlearn: 0.2631844\ttotal: 27.2s\tremaining: 38.5s\n",
            "414:\tlearn: 0.2631743\ttotal: 27.3s\tremaining: 38.5s\n",
            "415:\tlearn: 0.2631601\ttotal: 27.4s\tremaining: 38.4s\n",
            "416:\tlearn: 0.2631427\ttotal: 27.4s\tremaining: 38.3s\n",
            "417:\tlearn: 0.2631308\ttotal: 27.5s\tremaining: 38.3s\n",
            "418:\tlearn: 0.2631145\ttotal: 27.6s\tremaining: 38.2s\n",
            "419:\tlearn: 0.2631044\ttotal: 27.6s\tremaining: 38.2s\n",
            "420:\tlearn: 0.2630875\ttotal: 27.7s\tremaining: 38.1s\n",
            "421:\tlearn: 0.2630712\ttotal: 27.8s\tremaining: 38s\n",
            "422:\tlearn: 0.2630514\ttotal: 27.8s\tremaining: 38s\n",
            "423:\tlearn: 0.2630428\ttotal: 27.9s\tremaining: 37.9s\n",
            "424:\tlearn: 0.2630314\ttotal: 28s\tremaining: 37.8s\n",
            "425:\tlearn: 0.2630180\ttotal: 28s\tremaining: 37.8s\n",
            "426:\tlearn: 0.2630106\ttotal: 28.1s\tremaining: 37.7s\n",
            "427:\tlearn: 0.2629973\ttotal: 28.2s\tremaining: 37.6s\n",
            "428:\tlearn: 0.2629878\ttotal: 28.2s\tremaining: 37.6s\n",
            "429:\tlearn: 0.2629767\ttotal: 28.3s\tremaining: 37.5s\n",
            "430:\tlearn: 0.2629606\ttotal: 28.4s\tremaining: 37.4s\n",
            "431:\tlearn: 0.2629519\ttotal: 28.4s\tremaining: 37.4s\n",
            "432:\tlearn: 0.2629391\ttotal: 28.5s\tremaining: 37.3s\n",
            "433:\tlearn: 0.2629247\ttotal: 28.6s\tremaining: 37.2s\n",
            "434:\tlearn: 0.2629132\ttotal: 28.6s\tremaining: 37.2s\n",
            "435:\tlearn: 0.2629015\ttotal: 28.7s\tremaining: 37.1s\n",
            "436:\tlearn: 0.2628890\ttotal: 28.7s\tremaining: 37s\n",
            "437:\tlearn: 0.2628756\ttotal: 28.8s\tremaining: 37s\n",
            "438:\tlearn: 0.2628620\ttotal: 28.9s\tremaining: 36.9s\n",
            "439:\tlearn: 0.2628543\ttotal: 29s\tremaining: 36.8s\n",
            "440:\tlearn: 0.2628410\ttotal: 29s\tremaining: 36.8s\n",
            "441:\tlearn: 0.2628317\ttotal: 29.1s\tremaining: 36.7s\n",
            "442:\tlearn: 0.2628203\ttotal: 29.1s\tremaining: 36.6s\n",
            "443:\tlearn: 0.2628077\ttotal: 29.2s\tremaining: 36.6s\n",
            "444:\tlearn: 0.2627949\ttotal: 29.3s\tremaining: 36.5s\n",
            "445:\tlearn: 0.2627797\ttotal: 29.4s\tremaining: 36.5s\n",
            "446:\tlearn: 0.2627675\ttotal: 29.4s\tremaining: 36.4s\n",
            "447:\tlearn: 0.2627554\ttotal: 29.5s\tremaining: 36.3s\n",
            "448:\tlearn: 0.2627448\ttotal: 29.6s\tremaining: 36.3s\n",
            "449:\tlearn: 0.2627252\ttotal: 29.6s\tremaining: 36.2s\n",
            "450:\tlearn: 0.2627121\ttotal: 29.7s\tremaining: 36.1s\n",
            "451:\tlearn: 0.2627005\ttotal: 29.8s\tremaining: 36.1s\n",
            "452:\tlearn: 0.2626922\ttotal: 29.8s\tremaining: 36s\n",
            "453:\tlearn: 0.2626774\ttotal: 29.9s\tremaining: 36s\n",
            "454:\tlearn: 0.2626651\ttotal: 30s\tremaining: 35.9s\n",
            "455:\tlearn: 0.2626499\ttotal: 30s\tremaining: 35.8s\n",
            "456:\tlearn: 0.2626347\ttotal: 30.1s\tremaining: 35.8s\n",
            "457:\tlearn: 0.2626253\ttotal: 30.2s\tremaining: 35.7s\n",
            "458:\tlearn: 0.2626119\ttotal: 30.2s\tremaining: 35.6s\n",
            "459:\tlearn: 0.2626037\ttotal: 30.3s\tremaining: 35.6s\n",
            "460:\tlearn: 0.2625897\ttotal: 30.4s\tremaining: 35.5s\n",
            "461:\tlearn: 0.2625802\ttotal: 30.4s\tremaining: 35.4s\n",
            "462:\tlearn: 0.2625702\ttotal: 30.5s\tremaining: 35.4s\n",
            "463:\tlearn: 0.2625585\ttotal: 30.6s\tremaining: 35.3s\n",
            "464:\tlearn: 0.2625492\ttotal: 30.6s\tremaining: 35.2s\n",
            "465:\tlearn: 0.2625379\ttotal: 30.7s\tremaining: 35.2s\n",
            "466:\tlearn: 0.2625246\ttotal: 30.8s\tremaining: 35.1s\n",
            "467:\tlearn: 0.2625137\ttotal: 30.8s\tremaining: 35s\n",
            "468:\tlearn: 0.2624994\ttotal: 30.9s\tremaining: 35s\n",
            "469:\tlearn: 0.2624826\ttotal: 30.9s\tremaining: 34.9s\n",
            "470:\tlearn: 0.2624726\ttotal: 31s\tremaining: 34.8s\n",
            "471:\tlearn: 0.2624654\ttotal: 31.1s\tremaining: 34.8s\n",
            "472:\tlearn: 0.2624490\ttotal: 31.1s\tremaining: 34.7s\n",
            "473:\tlearn: 0.2624357\ttotal: 31.2s\tremaining: 34.6s\n",
            "474:\tlearn: 0.2624196\ttotal: 31.3s\tremaining: 34.6s\n",
            "475:\tlearn: 0.2624070\ttotal: 31.3s\tremaining: 34.5s\n",
            "476:\tlearn: 0.2623961\ttotal: 31.4s\tremaining: 34.4s\n",
            "477:\tlearn: 0.2623875\ttotal: 31.5s\tremaining: 34.4s\n",
            "478:\tlearn: 0.2623746\ttotal: 31.5s\tremaining: 34.3s\n",
            "479:\tlearn: 0.2623664\ttotal: 31.6s\tremaining: 34.2s\n",
            "480:\tlearn: 0.2623593\ttotal: 31.7s\tremaining: 34.2s\n",
            "481:\tlearn: 0.2623500\ttotal: 31.7s\tremaining: 34.1s\n",
            "482:\tlearn: 0.2623397\ttotal: 31.8s\tremaining: 34s\n",
            "483:\tlearn: 0.2623319\ttotal: 31.8s\tremaining: 34s\n",
            "484:\tlearn: 0.2623167\ttotal: 31.9s\tremaining: 33.9s\n",
            "485:\tlearn: 0.2623059\ttotal: 32s\tremaining: 33.8s\n",
            "486:\tlearn: 0.2622969\ttotal: 32s\tremaining: 33.8s\n",
            "487:\tlearn: 0.2622840\ttotal: 32.1s\tremaining: 33.7s\n",
            "488:\tlearn: 0.2622736\ttotal: 32.2s\tremaining: 33.6s\n",
            "489:\tlearn: 0.2622602\ttotal: 32.3s\tremaining: 33.6s\n",
            "490:\tlearn: 0.2622527\ttotal: 32.3s\tremaining: 33.5s\n",
            "491:\tlearn: 0.2622373\ttotal: 32.4s\tremaining: 33.4s\n",
            "492:\tlearn: 0.2622274\ttotal: 32.5s\tremaining: 33.4s\n",
            "493:\tlearn: 0.2622174\ttotal: 32.5s\tremaining: 33.3s\n",
            "494:\tlearn: 0.2622066\ttotal: 32.6s\tremaining: 33.2s\n",
            "495:\tlearn: 0.2621919\ttotal: 32.7s\tremaining: 33.2s\n",
            "496:\tlearn: 0.2621793\ttotal: 32.7s\tremaining: 33.1s\n",
            "497:\tlearn: 0.2621614\ttotal: 32.8s\tremaining: 33s\n",
            "498:\tlearn: 0.2621470\ttotal: 32.8s\tremaining: 33s\n",
            "499:\tlearn: 0.2621373\ttotal: 32.9s\tremaining: 32.9s\n",
            "500:\tlearn: 0.2621209\ttotal: 33s\tremaining: 32.8s\n",
            "501:\tlearn: 0.2621052\ttotal: 33s\tremaining: 32.8s\n",
            "502:\tlearn: 0.2620945\ttotal: 33.1s\tremaining: 32.7s\n",
            "503:\tlearn: 0.2620773\ttotal: 33.2s\tremaining: 32.7s\n",
            "504:\tlearn: 0.2620654\ttotal: 33.2s\tremaining: 32.6s\n",
            "505:\tlearn: 0.2620577\ttotal: 33.3s\tremaining: 32.5s\n",
            "506:\tlearn: 0.2620495\ttotal: 33.4s\tremaining: 32.5s\n",
            "507:\tlearn: 0.2620317\ttotal: 33.4s\tremaining: 32.4s\n",
            "508:\tlearn: 0.2620207\ttotal: 33.5s\tremaining: 32.3s\n",
            "509:\tlearn: 0.2620139\ttotal: 33.6s\tremaining: 32.3s\n",
            "510:\tlearn: 0.2620084\ttotal: 33.6s\tremaining: 32.2s\n",
            "511:\tlearn: 0.2619968\ttotal: 33.7s\tremaining: 32.1s\n",
            "512:\tlearn: 0.2619836\ttotal: 33.8s\tremaining: 32.1s\n",
            "513:\tlearn: 0.2619722\ttotal: 33.8s\tremaining: 32s\n",
            "514:\tlearn: 0.2619608\ttotal: 33.9s\tremaining: 31.9s\n",
            "515:\tlearn: 0.2619502\ttotal: 34s\tremaining: 31.9s\n",
            "516:\tlearn: 0.2619382\ttotal: 34s\tremaining: 31.8s\n",
            "517:\tlearn: 0.2619262\ttotal: 34.1s\tremaining: 31.7s\n",
            "518:\tlearn: 0.2619136\ttotal: 34.2s\tremaining: 31.7s\n",
            "519:\tlearn: 0.2618983\ttotal: 34.2s\tremaining: 31.6s\n",
            "520:\tlearn: 0.2618917\ttotal: 34.3s\tremaining: 31.5s\n",
            "521:\tlearn: 0.2618736\ttotal: 34.4s\tremaining: 31.5s\n",
            "522:\tlearn: 0.2618590\ttotal: 34.4s\tremaining: 31.4s\n",
            "523:\tlearn: 0.2618437\ttotal: 34.5s\tremaining: 31.3s\n",
            "524:\tlearn: 0.2618321\ttotal: 34.6s\tremaining: 31.3s\n",
            "525:\tlearn: 0.2618202\ttotal: 34.6s\tremaining: 31.2s\n",
            "526:\tlearn: 0.2618094\ttotal: 34.7s\tremaining: 31.1s\n",
            "527:\tlearn: 0.2618018\ttotal: 34.8s\tremaining: 31.1s\n",
            "528:\tlearn: 0.2617912\ttotal: 34.8s\tremaining: 31s\n",
            "529:\tlearn: 0.2617779\ttotal: 34.9s\tremaining: 30.9s\n",
            "530:\tlearn: 0.2617682\ttotal: 35s\tremaining: 30.9s\n",
            "531:\tlearn: 0.2617574\ttotal: 35s\tremaining: 30.8s\n",
            "532:\tlearn: 0.2617423\ttotal: 35.1s\tremaining: 30.7s\n",
            "533:\tlearn: 0.2617294\ttotal: 35.2s\tremaining: 30.7s\n",
            "534:\tlearn: 0.2617149\ttotal: 35.2s\tremaining: 30.6s\n",
            "535:\tlearn: 0.2617008\ttotal: 35.3s\tremaining: 30.5s\n",
            "536:\tlearn: 0.2616877\ttotal: 35.4s\tremaining: 30.5s\n",
            "537:\tlearn: 0.2616775\ttotal: 35.4s\tremaining: 30.4s\n",
            "538:\tlearn: 0.2616687\ttotal: 35.5s\tremaining: 30.3s\n",
            "539:\tlearn: 0.2616566\ttotal: 35.5s\tremaining: 30.3s\n",
            "540:\tlearn: 0.2616473\ttotal: 35.6s\tremaining: 30.2s\n",
            "541:\tlearn: 0.2616314\ttotal: 35.7s\tremaining: 30.1s\n",
            "542:\tlearn: 0.2616184\ttotal: 35.7s\tremaining: 30.1s\n",
            "543:\tlearn: 0.2616062\ttotal: 35.8s\tremaining: 30s\n",
            "544:\tlearn: 0.2615976\ttotal: 35.9s\tremaining: 30s\n",
            "545:\tlearn: 0.2615918\ttotal: 35.9s\tremaining: 29.9s\n",
            "546:\tlearn: 0.2615822\ttotal: 36s\tremaining: 29.8s\n",
            "547:\tlearn: 0.2615732\ttotal: 36.1s\tremaining: 29.8s\n",
            "548:\tlearn: 0.2615628\ttotal: 36.1s\tremaining: 29.7s\n",
            "549:\tlearn: 0.2615489\ttotal: 36.2s\tremaining: 29.6s\n",
            "550:\tlearn: 0.2615337\ttotal: 36.3s\tremaining: 29.6s\n",
            "551:\tlearn: 0.2615245\ttotal: 36.3s\tremaining: 29.5s\n",
            "552:\tlearn: 0.2615156\ttotal: 36.4s\tremaining: 29.4s\n",
            "553:\tlearn: 0.2615049\ttotal: 36.5s\tremaining: 29.4s\n",
            "554:\tlearn: 0.2614956\ttotal: 36.5s\tremaining: 29.3s\n",
            "555:\tlearn: 0.2614822\ttotal: 36.6s\tremaining: 29.2s\n",
            "556:\tlearn: 0.2614714\ttotal: 36.7s\tremaining: 29.2s\n",
            "557:\tlearn: 0.2614623\ttotal: 36.7s\tremaining: 29.1s\n",
            "558:\tlearn: 0.2614524\ttotal: 36.8s\tremaining: 29s\n",
            "559:\tlearn: 0.2614440\ttotal: 36.9s\tremaining: 29s\n",
            "560:\tlearn: 0.2614330\ttotal: 36.9s\tremaining: 28.9s\n",
            "561:\tlearn: 0.2614269\ttotal: 37s\tremaining: 28.8s\n",
            "562:\tlearn: 0.2614159\ttotal: 37s\tremaining: 28.8s\n",
            "563:\tlearn: 0.2614038\ttotal: 37.1s\tremaining: 28.7s\n",
            "564:\tlearn: 0.2613918\ttotal: 37.2s\tremaining: 28.6s\n",
            "565:\tlearn: 0.2613794\ttotal: 37.2s\tremaining: 28.6s\n",
            "566:\tlearn: 0.2613679\ttotal: 37.3s\tremaining: 28.5s\n",
            "567:\tlearn: 0.2613531\ttotal: 37.4s\tremaining: 28.4s\n",
            "568:\tlearn: 0.2613347\ttotal: 37.4s\tremaining: 28.4s\n",
            "569:\tlearn: 0.2613257\ttotal: 37.5s\tremaining: 28.3s\n",
            "570:\tlearn: 0.2613121\ttotal: 37.6s\tremaining: 28.2s\n",
            "571:\tlearn: 0.2612990\ttotal: 37.7s\tremaining: 28.2s\n",
            "572:\tlearn: 0.2612873\ttotal: 37.7s\tremaining: 28.1s\n",
            "573:\tlearn: 0.2612740\ttotal: 37.8s\tremaining: 28s\n",
            "574:\tlearn: 0.2612682\ttotal: 37.9s\tremaining: 28s\n",
            "575:\tlearn: 0.2612548\ttotal: 37.9s\tremaining: 27.9s\n",
            "576:\tlearn: 0.2612474\ttotal: 38s\tremaining: 27.8s\n",
            "577:\tlearn: 0.2612384\ttotal: 38s\tremaining: 27.8s\n",
            "578:\tlearn: 0.2612218\ttotal: 38.1s\tremaining: 27.7s\n",
            "579:\tlearn: 0.2612126\ttotal: 38.2s\tremaining: 27.6s\n",
            "580:\tlearn: 0.2612029\ttotal: 38.2s\tremaining: 27.6s\n",
            "581:\tlearn: 0.2611891\ttotal: 38.3s\tremaining: 27.5s\n",
            "582:\tlearn: 0.2611752\ttotal: 38.4s\tremaining: 27.4s\n",
            "583:\tlearn: 0.2611641\ttotal: 38.4s\tremaining: 27.4s\n",
            "584:\tlearn: 0.2611554\ttotal: 38.5s\tremaining: 27.3s\n",
            "585:\tlearn: 0.2611364\ttotal: 38.6s\tremaining: 27.2s\n",
            "586:\tlearn: 0.2611276\ttotal: 38.6s\tremaining: 27.2s\n",
            "587:\tlearn: 0.2611126\ttotal: 38.7s\tremaining: 27.1s\n",
            "588:\tlearn: 0.2610998\ttotal: 38.8s\tremaining: 27s\n",
            "589:\tlearn: 0.2610892\ttotal: 38.8s\tremaining: 27s\n",
            "590:\tlearn: 0.2610787\ttotal: 38.9s\tremaining: 26.9s\n",
            "591:\tlearn: 0.2610715\ttotal: 39s\tremaining: 26.8s\n",
            "592:\tlearn: 0.2610620\ttotal: 39s\tremaining: 26.8s\n",
            "593:\tlearn: 0.2610502\ttotal: 39.1s\tremaining: 26.7s\n",
            "594:\tlearn: 0.2610410\ttotal: 39.2s\tremaining: 26.7s\n",
            "595:\tlearn: 0.2610287\ttotal: 39.2s\tremaining: 26.6s\n",
            "596:\tlearn: 0.2610194\ttotal: 39.3s\tremaining: 26.5s\n",
            "597:\tlearn: 0.2610057\ttotal: 39.4s\tremaining: 26.5s\n",
            "598:\tlearn: 0.2609956\ttotal: 39.4s\tremaining: 26.4s\n",
            "599:\tlearn: 0.2609860\ttotal: 39.5s\tremaining: 26.3s\n",
            "600:\tlearn: 0.2609718\ttotal: 39.6s\tremaining: 26.3s\n",
            "601:\tlearn: 0.2609586\ttotal: 39.6s\tremaining: 26.2s\n",
            "602:\tlearn: 0.2609494\ttotal: 39.7s\tremaining: 26.1s\n",
            "603:\tlearn: 0.2609386\ttotal: 39.7s\tremaining: 26.1s\n",
            "604:\tlearn: 0.2609243\ttotal: 39.8s\tremaining: 26s\n",
            "605:\tlearn: 0.2609176\ttotal: 39.9s\tremaining: 25.9s\n",
            "606:\tlearn: 0.2609094\ttotal: 39.9s\tremaining: 25.9s\n",
            "607:\tlearn: 0.2609004\ttotal: 40s\tremaining: 25.8s\n",
            "608:\tlearn: 0.2608867\ttotal: 40.1s\tremaining: 25.7s\n",
            "609:\tlearn: 0.2608763\ttotal: 40.1s\tremaining: 25.7s\n",
            "610:\tlearn: 0.2608679\ttotal: 40.2s\tremaining: 25.6s\n",
            "611:\tlearn: 0.2608608\ttotal: 40.3s\tremaining: 25.5s\n",
            "612:\tlearn: 0.2608474\ttotal: 40.3s\tremaining: 25.5s\n",
            "613:\tlearn: 0.2608363\ttotal: 40.4s\tremaining: 25.4s\n",
            "614:\tlearn: 0.2608234\ttotal: 40.5s\tremaining: 25.3s\n",
            "615:\tlearn: 0.2608125\ttotal: 40.5s\tremaining: 25.3s\n",
            "616:\tlearn: 0.2608058\ttotal: 40.6s\tremaining: 25.2s\n",
            "617:\tlearn: 0.2607945\ttotal: 40.7s\tremaining: 25.1s\n",
            "618:\tlearn: 0.2607838\ttotal: 40.7s\tremaining: 25.1s\n",
            "619:\tlearn: 0.2607718\ttotal: 40.8s\tremaining: 25s\n",
            "620:\tlearn: 0.2607596\ttotal: 40.9s\tremaining: 24.9s\n",
            "621:\tlearn: 0.2607504\ttotal: 40.9s\tremaining: 24.9s\n",
            "622:\tlearn: 0.2607352\ttotal: 41s\tremaining: 24.8s\n",
            "623:\tlearn: 0.2607234\ttotal: 41.1s\tremaining: 24.7s\n",
            "624:\tlearn: 0.2607092\ttotal: 41.1s\tremaining: 24.7s\n",
            "625:\tlearn: 0.2606958\ttotal: 41.2s\tremaining: 24.6s\n",
            "626:\tlearn: 0.2606910\ttotal: 41.3s\tremaining: 24.5s\n",
            "627:\tlearn: 0.2606776\ttotal: 41.3s\tremaining: 24.5s\n",
            "628:\tlearn: 0.2606691\ttotal: 41.4s\tremaining: 24.4s\n",
            "629:\tlearn: 0.2606605\ttotal: 41.5s\tremaining: 24.3s\n",
            "630:\tlearn: 0.2606455\ttotal: 41.5s\tremaining: 24.3s\n",
            "631:\tlearn: 0.2606328\ttotal: 41.6s\tremaining: 24.2s\n",
            "632:\tlearn: 0.2606208\ttotal: 41.7s\tremaining: 24.2s\n",
            "633:\tlearn: 0.2606098\ttotal: 41.7s\tremaining: 24.1s\n",
            "634:\tlearn: 0.2606007\ttotal: 41.8s\tremaining: 24s\n",
            "635:\tlearn: 0.2605915\ttotal: 41.9s\tremaining: 24s\n",
            "636:\tlearn: 0.2605815\ttotal: 41.9s\tremaining: 23.9s\n",
            "637:\tlearn: 0.2605733\ttotal: 42s\tremaining: 23.8s\n",
            "638:\tlearn: 0.2605664\ttotal: 42s\tremaining: 23.8s\n",
            "639:\tlearn: 0.2605554\ttotal: 42.1s\tremaining: 23.7s\n",
            "640:\tlearn: 0.2605446\ttotal: 42.2s\tremaining: 23.6s\n",
            "641:\tlearn: 0.2605331\ttotal: 42.3s\tremaining: 23.6s\n",
            "642:\tlearn: 0.2605248\ttotal: 42.3s\tremaining: 23.5s\n",
            "643:\tlearn: 0.2605180\ttotal: 42.4s\tremaining: 23.4s\n",
            "644:\tlearn: 0.2605138\ttotal: 42.4s\tremaining: 23.4s\n",
            "645:\tlearn: 0.2605081\ttotal: 42.5s\tremaining: 23.3s\n",
            "646:\tlearn: 0.2604965\ttotal: 42.6s\tremaining: 23.2s\n",
            "647:\tlearn: 0.2604862\ttotal: 42.6s\tremaining: 23.2s\n",
            "648:\tlearn: 0.2604746\ttotal: 42.7s\tremaining: 23.1s\n",
            "649:\tlearn: 0.2604631\ttotal: 42.8s\tremaining: 23s\n",
            "650:\tlearn: 0.2604496\ttotal: 42.8s\tremaining: 23s\n",
            "651:\tlearn: 0.2604349\ttotal: 42.9s\tremaining: 22.9s\n",
            "652:\tlearn: 0.2604248\ttotal: 43s\tremaining: 22.8s\n",
            "653:\tlearn: 0.2604179\ttotal: 43s\tremaining: 22.8s\n",
            "654:\tlearn: 0.2604039\ttotal: 43.1s\tremaining: 22.7s\n",
            "655:\tlearn: 0.2603913\ttotal: 43.2s\tremaining: 22.6s\n",
            "656:\tlearn: 0.2603824\ttotal: 43.2s\tremaining: 22.6s\n",
            "657:\tlearn: 0.2603664\ttotal: 43.3s\tremaining: 22.5s\n",
            "658:\tlearn: 0.2603556\ttotal: 43.4s\tremaining: 22.4s\n",
            "659:\tlearn: 0.2603426\ttotal: 43.4s\tremaining: 22.4s\n",
            "660:\tlearn: 0.2603368\ttotal: 43.5s\tremaining: 22.3s\n",
            "661:\tlearn: 0.2603250\ttotal: 43.6s\tremaining: 22.2s\n",
            "662:\tlearn: 0.2603096\ttotal: 43.6s\tremaining: 22.2s\n",
            "663:\tlearn: 0.2602939\ttotal: 43.7s\tremaining: 22.1s\n",
            "664:\tlearn: 0.2602830\ttotal: 43.7s\tremaining: 22s\n",
            "665:\tlearn: 0.2602745\ttotal: 43.8s\tremaining: 22s\n",
            "666:\tlearn: 0.2602568\ttotal: 43.9s\tremaining: 21.9s\n",
            "667:\tlearn: 0.2602431\ttotal: 43.9s\tremaining: 21.8s\n",
            "668:\tlearn: 0.2602314\ttotal: 44s\tremaining: 21.8s\n",
            "669:\tlearn: 0.2602236\ttotal: 44.1s\tremaining: 21.7s\n",
            "670:\tlearn: 0.2602099\ttotal: 44.1s\tremaining: 21.6s\n",
            "671:\tlearn: 0.2601989\ttotal: 44.2s\tremaining: 21.6s\n",
            "672:\tlearn: 0.2601845\ttotal: 44.3s\tremaining: 21.5s\n",
            "673:\tlearn: 0.2601701\ttotal: 44.4s\tremaining: 21.5s\n",
            "674:\tlearn: 0.2601642\ttotal: 44.4s\tremaining: 21.4s\n",
            "675:\tlearn: 0.2601563\ttotal: 44.5s\tremaining: 21.3s\n",
            "676:\tlearn: 0.2601455\ttotal: 44.5s\tremaining: 21.3s\n",
            "677:\tlearn: 0.2601340\ttotal: 44.6s\tremaining: 21.2s\n",
            "678:\tlearn: 0.2601240\ttotal: 44.7s\tremaining: 21.1s\n",
            "679:\tlearn: 0.2601165\ttotal: 44.7s\tremaining: 21.1s\n",
            "680:\tlearn: 0.2601069\ttotal: 44.8s\tremaining: 21s\n",
            "681:\tlearn: 0.2600959\ttotal: 44.9s\tremaining: 20.9s\n",
            "682:\tlearn: 0.2600839\ttotal: 44.9s\tremaining: 20.9s\n",
            "683:\tlearn: 0.2600712\ttotal: 45s\tremaining: 20.8s\n",
            "684:\tlearn: 0.2600587\ttotal: 45.1s\tremaining: 20.7s\n",
            "685:\tlearn: 0.2600455\ttotal: 45.1s\tremaining: 20.7s\n",
            "686:\tlearn: 0.2600217\ttotal: 45.2s\tremaining: 20.6s\n",
            "687:\tlearn: 0.2600120\ttotal: 45.3s\tremaining: 20.5s\n",
            "688:\tlearn: 0.2600041\ttotal: 45.4s\tremaining: 20.5s\n",
            "689:\tlearn: 0.2599898\ttotal: 45.4s\tremaining: 20.4s\n",
            "690:\tlearn: 0.2599799\ttotal: 45.5s\tremaining: 20.3s\n",
            "691:\tlearn: 0.2599708\ttotal: 45.6s\tremaining: 20.3s\n",
            "692:\tlearn: 0.2599599\ttotal: 45.6s\tremaining: 20.2s\n",
            "693:\tlearn: 0.2599510\ttotal: 45.7s\tremaining: 20.1s\n",
            "694:\tlearn: 0.2599395\ttotal: 45.8s\tremaining: 20.1s\n",
            "695:\tlearn: 0.2599303\ttotal: 45.8s\tremaining: 20s\n",
            "696:\tlearn: 0.2599148\ttotal: 45.9s\tremaining: 19.9s\n",
            "697:\tlearn: 0.2599039\ttotal: 45.9s\tremaining: 19.9s\n",
            "698:\tlearn: 0.2598964\ttotal: 46s\tremaining: 19.8s\n",
            "699:\tlearn: 0.2598917\ttotal: 46.1s\tremaining: 19.7s\n",
            "700:\tlearn: 0.2598817\ttotal: 46.1s\tremaining: 19.7s\n",
            "701:\tlearn: 0.2598665\ttotal: 46.2s\tremaining: 19.6s\n",
            "702:\tlearn: 0.2598529\ttotal: 46.3s\tremaining: 19.5s\n",
            "703:\tlearn: 0.2598440\ttotal: 46.3s\tremaining: 19.5s\n",
            "704:\tlearn: 0.2598290\ttotal: 46.4s\tremaining: 19.4s\n",
            "705:\tlearn: 0.2598171\ttotal: 46.5s\tremaining: 19.3s\n",
            "706:\tlearn: 0.2598088\ttotal: 46.5s\tremaining: 19.3s\n",
            "707:\tlearn: 0.2598017\ttotal: 46.6s\tremaining: 19.2s\n",
            "708:\tlearn: 0.2597809\ttotal: 46.7s\tremaining: 19.1s\n",
            "709:\tlearn: 0.2597673\ttotal: 46.7s\tremaining: 19.1s\n",
            "710:\tlearn: 0.2597542\ttotal: 46.8s\tremaining: 19s\n",
            "711:\tlearn: 0.2597407\ttotal: 46.9s\tremaining: 19s\n",
            "712:\tlearn: 0.2597313\ttotal: 46.9s\tremaining: 18.9s\n",
            "713:\tlearn: 0.2597183\ttotal: 47s\tremaining: 18.8s\n",
            "714:\tlearn: 0.2597082\ttotal: 47s\tremaining: 18.8s\n",
            "715:\tlearn: 0.2596951\ttotal: 47.1s\tremaining: 18.7s\n",
            "716:\tlearn: 0.2596839\ttotal: 47.2s\tremaining: 18.6s\n",
            "717:\tlearn: 0.2596722\ttotal: 47.3s\tremaining: 18.6s\n",
            "718:\tlearn: 0.2596611\ttotal: 47.3s\tremaining: 18.5s\n",
            "719:\tlearn: 0.2596500\ttotal: 47.4s\tremaining: 18.4s\n",
            "720:\tlearn: 0.2596411\ttotal: 47.4s\tremaining: 18.4s\n",
            "721:\tlearn: 0.2596288\ttotal: 47.5s\tremaining: 18.3s\n",
            "722:\tlearn: 0.2596098\ttotal: 47.6s\tremaining: 18.2s\n",
            "723:\tlearn: 0.2596009\ttotal: 47.6s\tremaining: 18.2s\n",
            "724:\tlearn: 0.2595922\ttotal: 47.7s\tremaining: 18.1s\n",
            "725:\tlearn: 0.2595816\ttotal: 47.8s\tremaining: 18s\n",
            "726:\tlearn: 0.2595699\ttotal: 47.8s\tremaining: 18s\n",
            "727:\tlearn: 0.2595597\ttotal: 47.9s\tremaining: 17.9s\n",
            "728:\tlearn: 0.2595478\ttotal: 48s\tremaining: 17.8s\n",
            "729:\tlearn: 0.2595335\ttotal: 48s\tremaining: 17.8s\n",
            "730:\tlearn: 0.2595211\ttotal: 48.1s\tremaining: 17.7s\n",
            "731:\tlearn: 0.2595141\ttotal: 48.2s\tremaining: 17.6s\n",
            "732:\tlearn: 0.2595029\ttotal: 48.2s\tremaining: 17.6s\n",
            "733:\tlearn: 0.2594944\ttotal: 48.3s\tremaining: 17.5s\n",
            "734:\tlearn: 0.2594855\ttotal: 48.4s\tremaining: 17.4s\n",
            "735:\tlearn: 0.2594741\ttotal: 48.4s\tremaining: 17.4s\n",
            "736:\tlearn: 0.2594578\ttotal: 48.5s\tremaining: 17.3s\n",
            "737:\tlearn: 0.2594470\ttotal: 48.6s\tremaining: 17.2s\n",
            "738:\tlearn: 0.2594388\ttotal: 48.6s\tremaining: 17.2s\n",
            "739:\tlearn: 0.2594325\ttotal: 48.7s\tremaining: 17.1s\n",
            "740:\tlearn: 0.2594223\ttotal: 48.8s\tremaining: 17s\n",
            "741:\tlearn: 0.2594141\ttotal: 48.8s\tremaining: 17s\n",
            "742:\tlearn: 0.2594063\ttotal: 48.9s\tremaining: 16.9s\n",
            "743:\tlearn: 0.2593971\ttotal: 49s\tremaining: 16.8s\n",
            "744:\tlearn: 0.2593885\ttotal: 49s\tremaining: 16.8s\n",
            "745:\tlearn: 0.2593815\ttotal: 49.1s\tremaining: 16.7s\n",
            "746:\tlearn: 0.2593639\ttotal: 49.2s\tremaining: 16.7s\n",
            "747:\tlearn: 0.2593523\ttotal: 49.2s\tremaining: 16.6s\n",
            "748:\tlearn: 0.2593372\ttotal: 49.3s\tremaining: 16.5s\n",
            "749:\tlearn: 0.2593239\ttotal: 49.4s\tremaining: 16.5s\n",
            "750:\tlearn: 0.2593178\ttotal: 49.5s\tremaining: 16.4s\n",
            "751:\tlearn: 0.2593067\ttotal: 49.5s\tremaining: 16.3s\n",
            "752:\tlearn: 0.2592979\ttotal: 49.6s\tremaining: 16.3s\n",
            "753:\tlearn: 0.2592862\ttotal: 49.6s\tremaining: 16.2s\n",
            "754:\tlearn: 0.2592781\ttotal: 49.7s\tremaining: 16.1s\n",
            "755:\tlearn: 0.2592685\ttotal: 49.8s\tremaining: 16.1s\n",
            "756:\tlearn: 0.2592550\ttotal: 49.8s\tremaining: 16s\n",
            "757:\tlearn: 0.2592441\ttotal: 49.9s\tremaining: 15.9s\n",
            "758:\tlearn: 0.2592322\ttotal: 50s\tremaining: 15.9s\n",
            "759:\tlearn: 0.2592220\ttotal: 50s\tremaining: 15.8s\n",
            "760:\tlearn: 0.2592096\ttotal: 50.1s\tremaining: 15.7s\n",
            "761:\tlearn: 0.2591961\ttotal: 50.2s\tremaining: 15.7s\n",
            "762:\tlearn: 0.2591870\ttotal: 50.2s\tremaining: 15.6s\n",
            "763:\tlearn: 0.2591772\ttotal: 50.3s\tremaining: 15.5s\n",
            "764:\tlearn: 0.2591658\ttotal: 50.4s\tremaining: 15.5s\n",
            "765:\tlearn: 0.2591550\ttotal: 50.4s\tremaining: 15.4s\n",
            "766:\tlearn: 0.2591530\ttotal: 50.5s\tremaining: 15.3s\n",
            "767:\tlearn: 0.2591415\ttotal: 50.6s\tremaining: 15.3s\n",
            "768:\tlearn: 0.2591288\ttotal: 50.6s\tremaining: 15.2s\n",
            "769:\tlearn: 0.2591176\ttotal: 50.7s\tremaining: 15.1s\n",
            "770:\tlearn: 0.2591052\ttotal: 50.8s\tremaining: 15.1s\n",
            "771:\tlearn: 0.2590954\ttotal: 50.8s\tremaining: 15s\n",
            "772:\tlearn: 0.2590820\ttotal: 50.9s\tremaining: 14.9s\n",
            "773:\tlearn: 0.2590722\ttotal: 51s\tremaining: 14.9s\n",
            "774:\tlearn: 0.2590618\ttotal: 51s\tremaining: 14.8s\n",
            "775:\tlearn: 0.2590525\ttotal: 51.1s\tremaining: 14.7s\n",
            "776:\tlearn: 0.2590386\ttotal: 51.2s\tremaining: 14.7s\n",
            "777:\tlearn: 0.2590277\ttotal: 51.2s\tremaining: 14.6s\n",
            "778:\tlearn: 0.2590175\ttotal: 51.3s\tremaining: 14.6s\n",
            "779:\tlearn: 0.2590070\ttotal: 51.4s\tremaining: 14.5s\n",
            "780:\tlearn: 0.2590008\ttotal: 51.4s\tremaining: 14.4s\n",
            "781:\tlearn: 0.2589881\ttotal: 51.5s\tremaining: 14.4s\n",
            "782:\tlearn: 0.2589804\ttotal: 51.6s\tremaining: 14.3s\n",
            "783:\tlearn: 0.2589712\ttotal: 51.6s\tremaining: 14.2s\n",
            "784:\tlearn: 0.2589536\ttotal: 51.7s\tremaining: 14.2s\n",
            "785:\tlearn: 0.2589399\ttotal: 51.8s\tremaining: 14.1s\n",
            "786:\tlearn: 0.2589264\ttotal: 51.8s\tremaining: 14s\n",
            "787:\tlearn: 0.2589191\ttotal: 51.9s\tremaining: 14s\n",
            "788:\tlearn: 0.2589114\ttotal: 51.9s\tremaining: 13.9s\n",
            "789:\tlearn: 0.2589005\ttotal: 52s\tremaining: 13.8s\n",
            "790:\tlearn: 0.2588821\ttotal: 52.1s\tremaining: 13.8s\n",
            "791:\tlearn: 0.2588757\ttotal: 52.1s\tremaining: 13.7s\n",
            "792:\tlearn: 0.2588624\ttotal: 52.2s\tremaining: 13.6s\n",
            "793:\tlearn: 0.2588548\ttotal: 52.3s\tremaining: 13.6s\n",
            "794:\tlearn: 0.2588425\ttotal: 52.4s\tremaining: 13.5s\n",
            "795:\tlearn: 0.2588284\ttotal: 52.4s\tremaining: 13.4s\n",
            "796:\tlearn: 0.2588165\ttotal: 52.5s\tremaining: 13.4s\n",
            "797:\tlearn: 0.2588088\ttotal: 52.5s\tremaining: 13.3s\n",
            "798:\tlearn: 0.2587968\ttotal: 52.6s\tremaining: 13.2s\n",
            "799:\tlearn: 0.2587901\ttotal: 52.7s\tremaining: 13.2s\n",
            "800:\tlearn: 0.2587785\ttotal: 52.7s\tremaining: 13.1s\n",
            "801:\tlearn: 0.2587700\ttotal: 52.8s\tremaining: 13s\n",
            "802:\tlearn: 0.2587582\ttotal: 52.9s\tremaining: 13s\n",
            "803:\tlearn: 0.2587469\ttotal: 52.9s\tremaining: 12.9s\n",
            "804:\tlearn: 0.2587289\ttotal: 53s\tremaining: 12.8s\n",
            "805:\tlearn: 0.2587201\ttotal: 53.1s\tremaining: 12.8s\n",
            "806:\tlearn: 0.2587059\ttotal: 53.1s\tremaining: 12.7s\n",
            "807:\tlearn: 0.2586963\ttotal: 53.2s\tremaining: 12.6s\n",
            "808:\tlearn: 0.2586883\ttotal: 53.3s\tremaining: 12.6s\n",
            "809:\tlearn: 0.2586783\ttotal: 53.3s\tremaining: 12.5s\n",
            "810:\tlearn: 0.2586656\ttotal: 53.4s\tremaining: 12.4s\n",
            "811:\tlearn: 0.2586492\ttotal: 53.5s\tremaining: 12.4s\n",
            "812:\tlearn: 0.2586418\ttotal: 53.5s\tremaining: 12.3s\n",
            "813:\tlearn: 0.2586270\ttotal: 53.6s\tremaining: 12.2s\n",
            "814:\tlearn: 0.2586180\ttotal: 53.7s\tremaining: 12.2s\n",
            "815:\tlearn: 0.2586055\ttotal: 53.7s\tremaining: 12.1s\n",
            "816:\tlearn: 0.2585953\ttotal: 53.8s\tremaining: 12s\n",
            "817:\tlearn: 0.2585847\ttotal: 53.9s\tremaining: 12s\n",
            "818:\tlearn: 0.2585756\ttotal: 53.9s\tremaining: 11.9s\n",
            "819:\tlearn: 0.2585642\ttotal: 54s\tremaining: 11.9s\n",
            "820:\tlearn: 0.2585560\ttotal: 54.1s\tremaining: 11.8s\n",
            "821:\tlearn: 0.2585450\ttotal: 54.1s\tremaining: 11.7s\n",
            "822:\tlearn: 0.2585286\ttotal: 54.2s\tremaining: 11.7s\n",
            "823:\tlearn: 0.2585129\ttotal: 54.3s\tremaining: 11.6s\n",
            "824:\tlearn: 0.2585010\ttotal: 54.3s\tremaining: 11.5s\n",
            "825:\tlearn: 0.2584870\ttotal: 54.4s\tremaining: 11.5s\n",
            "826:\tlearn: 0.2584771\ttotal: 54.5s\tremaining: 11.4s\n",
            "827:\tlearn: 0.2584682\ttotal: 54.5s\tremaining: 11.3s\n",
            "828:\tlearn: 0.2584564\ttotal: 54.6s\tremaining: 11.3s\n",
            "829:\tlearn: 0.2584490\ttotal: 54.7s\tremaining: 11.2s\n",
            "830:\tlearn: 0.2584360\ttotal: 54.7s\tremaining: 11.1s\n",
            "831:\tlearn: 0.2584302\ttotal: 54.8s\tremaining: 11.1s\n",
            "832:\tlearn: 0.2584240\ttotal: 54.9s\tremaining: 11s\n",
            "833:\tlearn: 0.2584074\ttotal: 54.9s\tremaining: 10.9s\n",
            "834:\tlearn: 0.2583969\ttotal: 55s\tremaining: 10.9s\n",
            "835:\tlearn: 0.2583914\ttotal: 55s\tremaining: 10.8s\n",
            "836:\tlearn: 0.2583789\ttotal: 55.1s\tremaining: 10.7s\n",
            "837:\tlearn: 0.2583646\ttotal: 55.2s\tremaining: 10.7s\n",
            "838:\tlearn: 0.2583563\ttotal: 55.2s\tremaining: 10.6s\n",
            "839:\tlearn: 0.2583491\ttotal: 55.3s\tremaining: 10.5s\n",
            "840:\tlearn: 0.2583337\ttotal: 55.4s\tremaining: 10.5s\n",
            "841:\tlearn: 0.2583215\ttotal: 55.4s\tremaining: 10.4s\n",
            "842:\tlearn: 0.2583132\ttotal: 55.5s\tremaining: 10.3s\n",
            "843:\tlearn: 0.2583019\ttotal: 55.6s\tremaining: 10.3s\n",
            "844:\tlearn: 0.2582910\ttotal: 55.6s\tremaining: 10.2s\n",
            "845:\tlearn: 0.2582812\ttotal: 55.7s\tremaining: 10.1s\n",
            "846:\tlearn: 0.2582696\ttotal: 55.8s\tremaining: 10.1s\n",
            "847:\tlearn: 0.2582625\ttotal: 55.9s\tremaining: 10s\n",
            "848:\tlearn: 0.2582536\ttotal: 55.9s\tremaining: 9.95s\n",
            "849:\tlearn: 0.2582457\ttotal: 56s\tremaining: 9.88s\n",
            "850:\tlearn: 0.2582360\ttotal: 56.1s\tremaining: 9.81s\n",
            "851:\tlearn: 0.2582262\ttotal: 56.1s\tremaining: 9.75s\n",
            "852:\tlearn: 0.2582128\ttotal: 56.2s\tremaining: 9.68s\n",
            "853:\tlearn: 0.2582075\ttotal: 56.3s\tremaining: 9.62s\n",
            "854:\tlearn: 0.2581985\ttotal: 56.3s\tremaining: 9.55s\n",
            "855:\tlearn: 0.2581870\ttotal: 56.4s\tremaining: 9.49s\n",
            "856:\tlearn: 0.2581781\ttotal: 56.5s\tremaining: 9.42s\n",
            "857:\tlearn: 0.2581653\ttotal: 56.5s\tremaining: 9.36s\n",
            "858:\tlearn: 0.2581549\ttotal: 56.6s\tremaining: 9.29s\n",
            "859:\tlearn: 0.2581396\ttotal: 56.7s\tremaining: 9.22s\n",
            "860:\tlearn: 0.2581267\ttotal: 56.7s\tremaining: 9.16s\n",
            "861:\tlearn: 0.2581141\ttotal: 56.8s\tremaining: 9.09s\n",
            "862:\tlearn: 0.2581045\ttotal: 56.9s\tremaining: 9.03s\n",
            "863:\tlearn: 0.2580958\ttotal: 56.9s\tremaining: 8.96s\n",
            "864:\tlearn: 0.2580897\ttotal: 57s\tremaining: 8.89s\n",
            "865:\tlearn: 0.2580779\ttotal: 57s\tremaining: 8.83s\n",
            "866:\tlearn: 0.2580666\ttotal: 57.1s\tremaining: 8.76s\n",
            "867:\tlearn: 0.2580531\ttotal: 57.2s\tremaining: 8.69s\n",
            "868:\tlearn: 0.2580470\ttotal: 57.2s\tremaining: 8.63s\n",
            "869:\tlearn: 0.2580365\ttotal: 57.3s\tremaining: 8.56s\n",
            "870:\tlearn: 0.2580284\ttotal: 57.4s\tremaining: 8.5s\n",
            "871:\tlearn: 0.2580123\ttotal: 57.4s\tremaining: 8.43s\n",
            "872:\tlearn: 0.2580000\ttotal: 57.5s\tremaining: 8.37s\n",
            "873:\tlearn: 0.2579914\ttotal: 57.6s\tremaining: 8.3s\n",
            "874:\tlearn: 0.2579849\ttotal: 57.6s\tremaining: 8.23s\n",
            "875:\tlearn: 0.2579706\ttotal: 57.7s\tremaining: 8.17s\n",
            "876:\tlearn: 0.2579597\ttotal: 57.8s\tremaining: 8.1s\n",
            "877:\tlearn: 0.2579502\ttotal: 57.8s\tremaining: 8.04s\n",
            "878:\tlearn: 0.2579419\ttotal: 57.9s\tremaining: 7.97s\n",
            "879:\tlearn: 0.2579296\ttotal: 58s\tremaining: 7.9s\n",
            "880:\tlearn: 0.2579243\ttotal: 58s\tremaining: 7.84s\n",
            "881:\tlearn: 0.2579113\ttotal: 58.1s\tremaining: 7.77s\n",
            "882:\tlearn: 0.2579071\ttotal: 58.2s\tremaining: 7.71s\n",
            "883:\tlearn: 0.2578942\ttotal: 58.2s\tremaining: 7.64s\n",
            "884:\tlearn: 0.2578851\ttotal: 58.3s\tremaining: 7.57s\n",
            "885:\tlearn: 0.2578763\ttotal: 58.4s\tremaining: 7.51s\n",
            "886:\tlearn: 0.2578685\ttotal: 58.4s\tremaining: 7.44s\n",
            "887:\tlearn: 0.2578594\ttotal: 58.5s\tremaining: 7.38s\n",
            "888:\tlearn: 0.2578453\ttotal: 58.6s\tremaining: 7.31s\n",
            "889:\tlearn: 0.2578398\ttotal: 58.6s\tremaining: 7.25s\n",
            "890:\tlearn: 0.2578326\ttotal: 58.7s\tremaining: 7.18s\n",
            "891:\tlearn: 0.2578281\ttotal: 58.8s\tremaining: 7.12s\n",
            "892:\tlearn: 0.2578141\ttotal: 58.8s\tremaining: 7.05s\n",
            "893:\tlearn: 0.2578026\ttotal: 58.9s\tremaining: 6.98s\n",
            "894:\tlearn: 0.2577933\ttotal: 59s\tremaining: 6.92s\n",
            "895:\tlearn: 0.2577820\ttotal: 59s\tremaining: 6.85s\n",
            "896:\tlearn: 0.2577707\ttotal: 59.1s\tremaining: 6.79s\n",
            "897:\tlearn: 0.2577628\ttotal: 59.2s\tremaining: 6.72s\n",
            "898:\tlearn: 0.2577424\ttotal: 59.2s\tremaining: 6.66s\n",
            "899:\tlearn: 0.2577286\ttotal: 59.3s\tremaining: 6.59s\n",
            "900:\tlearn: 0.2577158\ttotal: 59.4s\tremaining: 6.52s\n",
            "901:\tlearn: 0.2577064\ttotal: 59.4s\tremaining: 6.46s\n",
            "902:\tlearn: 0.2576967\ttotal: 59.5s\tremaining: 6.39s\n",
            "903:\tlearn: 0.2576866\ttotal: 59.6s\tremaining: 6.33s\n",
            "904:\tlearn: 0.2576801\ttotal: 59.6s\tremaining: 6.26s\n",
            "905:\tlearn: 0.2576764\ttotal: 59.7s\tremaining: 6.19s\n",
            "906:\tlearn: 0.2576675\ttotal: 59.8s\tremaining: 6.13s\n",
            "907:\tlearn: 0.2576633\ttotal: 59.8s\tremaining: 6.06s\n",
            "908:\tlearn: 0.2576543\ttotal: 59.9s\tremaining: 6s\n",
            "909:\tlearn: 0.2576467\ttotal: 60s\tremaining: 5.93s\n",
            "910:\tlearn: 0.2576310\ttotal: 1m\tremaining: 5.86s\n",
            "911:\tlearn: 0.2576222\ttotal: 1m\tremaining: 5.8s\n",
            "912:\tlearn: 0.2576118\ttotal: 1m\tremaining: 5.73s\n",
            "913:\tlearn: 0.2576031\ttotal: 1m\tremaining: 5.67s\n",
            "914:\tlearn: 0.2575892\ttotal: 1m\tremaining: 5.6s\n",
            "915:\tlearn: 0.2575810\ttotal: 1m\tremaining: 5.53s\n",
            "916:\tlearn: 0.2575707\ttotal: 1m\tremaining: 5.47s\n",
            "917:\tlearn: 0.2575581\ttotal: 1m\tremaining: 5.4s\n",
            "918:\tlearn: 0.2575513\ttotal: 1m\tremaining: 5.33s\n",
            "919:\tlearn: 0.2575447\ttotal: 1m\tremaining: 5.27s\n",
            "920:\tlearn: 0.2575333\ttotal: 1m\tremaining: 5.2s\n",
            "921:\tlearn: 0.2575219\ttotal: 1m\tremaining: 5.14s\n",
            "922:\tlearn: 0.2575110\ttotal: 1m\tremaining: 5.07s\n",
            "923:\tlearn: 0.2575046\ttotal: 1m\tremaining: 5s\n",
            "924:\tlearn: 0.2574931\ttotal: 1m\tremaining: 4.94s\n",
            "925:\tlearn: 0.2574823\ttotal: 1m\tremaining: 4.87s\n",
            "926:\tlearn: 0.2574737\ttotal: 1m 1s\tremaining: 4.81s\n",
            "927:\tlearn: 0.2574633\ttotal: 1m 1s\tremaining: 4.74s\n",
            "928:\tlearn: 0.2574539\ttotal: 1m 1s\tremaining: 4.68s\n",
            "929:\tlearn: 0.2574484\ttotal: 1m 1s\tremaining: 4.61s\n",
            "930:\tlearn: 0.2574396\ttotal: 1m 1s\tremaining: 4.54s\n",
            "931:\tlearn: 0.2574286\ttotal: 1m 1s\tremaining: 4.48s\n",
            "932:\tlearn: 0.2574192\ttotal: 1m 1s\tremaining: 4.41s\n",
            "933:\tlearn: 0.2574098\ttotal: 1m 1s\tremaining: 4.35s\n",
            "934:\tlearn: 0.2574017\ttotal: 1m 1s\tremaining: 4.28s\n",
            "935:\tlearn: 0.2573914\ttotal: 1m 1s\tremaining: 4.21s\n",
            "936:\tlearn: 0.2573827\ttotal: 1m 1s\tremaining: 4.15s\n",
            "937:\tlearn: 0.2573673\ttotal: 1m 1s\tremaining: 4.08s\n",
            "938:\tlearn: 0.2573590\ttotal: 1m 1s\tremaining: 4.02s\n",
            "939:\tlearn: 0.2573456\ttotal: 1m 1s\tremaining: 3.95s\n",
            "940:\tlearn: 0.2573380\ttotal: 1m 1s\tremaining: 3.89s\n",
            "941:\tlearn: 0.2573304\ttotal: 1m 2s\tremaining: 3.82s\n",
            "942:\tlearn: 0.2573186\ttotal: 1m 2s\tremaining: 3.75s\n",
            "943:\tlearn: 0.2573037\ttotal: 1m 2s\tremaining: 3.69s\n",
            "944:\tlearn: 0.2572930\ttotal: 1m 2s\tremaining: 3.62s\n",
            "945:\tlearn: 0.2572817\ttotal: 1m 2s\tremaining: 3.56s\n",
            "946:\tlearn: 0.2572732\ttotal: 1m 2s\tremaining: 3.49s\n",
            "947:\tlearn: 0.2572670\ttotal: 1m 2s\tremaining: 3.42s\n",
            "948:\tlearn: 0.2572580\ttotal: 1m 2s\tremaining: 3.36s\n",
            "949:\tlearn: 0.2572509\ttotal: 1m 2s\tremaining: 3.29s\n",
            "950:\tlearn: 0.2572432\ttotal: 1m 2s\tremaining: 3.23s\n",
            "951:\tlearn: 0.2572315\ttotal: 1m 2s\tremaining: 3.16s\n",
            "952:\tlearn: 0.2572220\ttotal: 1m 2s\tremaining: 3.1s\n",
            "953:\tlearn: 0.2572151\ttotal: 1m 2s\tremaining: 3.03s\n",
            "954:\tlearn: 0.2572048\ttotal: 1m 2s\tremaining: 2.96s\n",
            "955:\tlearn: 0.2571940\ttotal: 1m 2s\tremaining: 2.9s\n",
            "956:\tlearn: 0.2571802\ttotal: 1m 3s\tremaining: 2.83s\n",
            "957:\tlearn: 0.2571722\ttotal: 1m 3s\tremaining: 2.77s\n",
            "958:\tlearn: 0.2571619\ttotal: 1m 3s\tremaining: 2.7s\n",
            "959:\tlearn: 0.2571538\ttotal: 1m 3s\tremaining: 2.63s\n",
            "960:\tlearn: 0.2571480\ttotal: 1m 3s\tremaining: 2.57s\n",
            "961:\tlearn: 0.2571416\ttotal: 1m 3s\tremaining: 2.5s\n",
            "962:\tlearn: 0.2571356\ttotal: 1m 3s\tremaining: 2.44s\n",
            "963:\tlearn: 0.2571303\ttotal: 1m 3s\tremaining: 2.37s\n",
            "964:\tlearn: 0.2571239\ttotal: 1m 3s\tremaining: 2.31s\n",
            "965:\tlearn: 0.2571160\ttotal: 1m 3s\tremaining: 2.24s\n",
            "966:\tlearn: 0.2571045\ttotal: 1m 3s\tremaining: 2.17s\n",
            "967:\tlearn: 0.2570952\ttotal: 1m 3s\tremaining: 2.11s\n",
            "968:\tlearn: 0.2570791\ttotal: 1m 3s\tremaining: 2.04s\n",
            "969:\tlearn: 0.2570665\ttotal: 1m 3s\tremaining: 1.98s\n",
            "970:\tlearn: 0.2570549\ttotal: 1m 3s\tremaining: 1.91s\n",
            "971:\tlearn: 0.2570482\ttotal: 1m 4s\tremaining: 1.84s\n",
            "972:\tlearn: 0.2570370\ttotal: 1m 4s\tremaining: 1.78s\n",
            "973:\tlearn: 0.2570309\ttotal: 1m 4s\tremaining: 1.71s\n",
            "974:\tlearn: 0.2570189\ttotal: 1m 4s\tremaining: 1.65s\n",
            "975:\tlearn: 0.2570121\ttotal: 1m 4s\tremaining: 1.58s\n",
            "976:\tlearn: 0.2569971\ttotal: 1m 4s\tremaining: 1.51s\n",
            "977:\tlearn: 0.2569851\ttotal: 1m 4s\tremaining: 1.45s\n",
            "978:\tlearn: 0.2569747\ttotal: 1m 4s\tremaining: 1.38s\n",
            "979:\tlearn: 0.2569668\ttotal: 1m 4s\tremaining: 1.32s\n",
            "980:\tlearn: 0.2569593\ttotal: 1m 4s\tremaining: 1.25s\n",
            "981:\tlearn: 0.2569495\ttotal: 1m 4s\tremaining: 1.19s\n",
            "982:\tlearn: 0.2569455\ttotal: 1m 4s\tremaining: 1.12s\n",
            "983:\tlearn: 0.2569341\ttotal: 1m 4s\tremaining: 1.05s\n",
            "984:\tlearn: 0.2569228\ttotal: 1m 4s\tremaining: 988ms\n",
            "985:\tlearn: 0.2569114\ttotal: 1m 4s\tremaining: 922ms\n",
            "986:\tlearn: 0.2569010\ttotal: 1m 5s\tremaining: 856ms\n",
            "987:\tlearn: 0.2568930\ttotal: 1m 5s\tremaining: 791ms\n",
            "988:\tlearn: 0.2568831\ttotal: 1m 5s\tremaining: 725ms\n",
            "989:\tlearn: 0.2568740\ttotal: 1m 5s\tremaining: 659ms\n",
            "990:\tlearn: 0.2568651\ttotal: 1m 5s\tremaining: 593ms\n",
            "991:\tlearn: 0.2568557\ttotal: 1m 5s\tremaining: 527ms\n",
            "992:\tlearn: 0.2568444\ttotal: 1m 5s\tremaining: 461ms\n",
            "993:\tlearn: 0.2568316\ttotal: 1m 5s\tremaining: 395ms\n",
            "994:\tlearn: 0.2568167\ttotal: 1m 5s\tremaining: 329ms\n",
            "995:\tlearn: 0.2568096\ttotal: 1m 5s\tremaining: 263ms\n",
            "996:\tlearn: 0.2568006\ttotal: 1m 5s\tremaining: 198ms\n",
            "997:\tlearn: 0.2567934\ttotal: 1m 5s\tremaining: 132ms\n",
            "998:\tlearn: 0.2567822\ttotal: 1m 5s\tremaining: 65.9ms\n",
            "999:\tlearn: 0.2567712\ttotal: 1m 5s\tremaining: 0us\n",
            "Accuracy score :  0.8774051862488386\n",
            "F1 score :  0.8229146573979262\n",
            "Precision score :  0.8188236522895762\n",
            "Recall score :  0.8774051862488386\n",
            "ROC score :  0.8429394615013175\n",
            "\n",
            "Model LGBM score:\n",
            "Accuracy score :  0.8781147056339218\n",
            "F1 score :  0.8214548481960271\n",
            "Precision score :  0.8382086382668354\n",
            "Recall score :  0.8781147056339218\n",
            "ROC score :  0.8461318034634119\n",
            "\n",
            "Model KNN score:\n",
            "Accuracy score :  0.8448517611284737\n",
            "F1 score :  0.8313412728141781\n",
            "Precision score :  0.820965085601783\n",
            "Recall score :  0.8448517611284737\n",
            "ROC score :  0.6939380357747523\n",
            "\n"
          ],
          "name": "stdout"
        }
      ]
    },
    {
      "cell_type": "code",
      "metadata": {
        "colab": {
          "base_uri": "https://localhost:8080/",
          "height": 388
        },
        "id": "s0Z7aEUyf0u5",
        "outputId": "e22164f6-5812-44fe-e7ab-92f25cded46e"
      },
      "source": [
        "b = pd.DataFrame(scores)\n",
        "b = b.rename({0:'Model', 1: 'Accuracy', 2: 'F1', 3: 'Precision', 4: 'Recall', 5: 'ROC'}, axis = 1)\n",
        "b = b.sort_values('ROC', ascending=False).reset_index(). drop('index', axis = 1)\n",
        "b"
      ],
      "execution_count": 26,
      "outputs": [
        {
          "output_type": "execute_result",
          "data": {
            "text/html": [
              "<div>\n",
              "<style scoped>\n",
              "    .dataframe tbody tr th:only-of-type {\n",
              "        vertical-align: middle;\n",
              "    }\n",
              "\n",
              "    .dataframe tbody tr th {\n",
              "        vertical-align: top;\n",
              "    }\n",
              "\n",
              "    .dataframe thead th {\n",
              "        text-align: right;\n",
              "    }\n",
              "</style>\n",
              "<table border=\"1\" class=\"dataframe\">\n",
              "  <thead>\n",
              "    <tr style=\"text-align: right;\">\n",
              "      <th></th>\n",
              "      <th>Model</th>\n",
              "      <th>Accuracy</th>\n",
              "      <th>F1</th>\n",
              "      <th>Precision</th>\n",
              "      <th>Recall</th>\n",
              "      <th>ROC</th>\n",
              "    </tr>\n",
              "  </thead>\n",
              "  <tbody>\n",
              "    <tr>\n",
              "      <th>0</th>\n",
              "      <td>XGBoost</td>\n",
              "      <td>0.878081</td>\n",
              "      <td>0.821079</td>\n",
              "      <td>0.892945</td>\n",
              "      <td>0.878081</td>\n",
              "      <td>0.846362</td>\n",
              "    </tr>\n",
              "    <tr>\n",
              "      <th>1</th>\n",
              "      <td>Gradient Boosting</td>\n",
              "      <td>0.878081</td>\n",
              "      <td>0.821079</td>\n",
              "      <td>0.892945</td>\n",
              "      <td>0.878081</td>\n",
              "      <td>0.846156</td>\n",
              "    </tr>\n",
              "    <tr>\n",
              "      <th>2</th>\n",
              "      <td>LGBM</td>\n",
              "      <td>0.878115</td>\n",
              "      <td>0.821455</td>\n",
              "      <td>0.838209</td>\n",
              "      <td>0.878115</td>\n",
              "      <td>0.846132</td>\n",
              "    </tr>\n",
              "    <tr>\n",
              "      <th>3</th>\n",
              "      <td>CatBoost</td>\n",
              "      <td>0.877405</td>\n",
              "      <td>0.822915</td>\n",
              "      <td>0.818824</td>\n",
              "      <td>0.877405</td>\n",
              "      <td>0.842939</td>\n",
              "    </tr>\n",
              "    <tr>\n",
              "      <th>4</th>\n",
              "      <td>Logistic Regression</td>\n",
              "      <td>0.878013</td>\n",
              "      <td>0.821045</td>\n",
              "      <td>0.771019</td>\n",
              "      <td>0.878013</td>\n",
              "      <td>0.829902</td>\n",
              "    </tr>\n",
              "    <tr>\n",
              "      <th>5</th>\n",
              "      <td>LDA</td>\n",
              "      <td>0.875800</td>\n",
              "      <td>0.825152</td>\n",
              "      <td>0.816336</td>\n",
              "      <td>0.875800</td>\n",
              "      <td>0.828957</td>\n",
              "    </tr>\n",
              "    <tr>\n",
              "      <th>6</th>\n",
              "      <td>Gaussian</td>\n",
              "      <td>0.639716</td>\n",
              "      <td>0.700895</td>\n",
              "      <td>0.903455</td>\n",
              "      <td>0.639716</td>\n",
              "      <td>0.821410</td>\n",
              "    </tr>\n",
              "    <tr>\n",
              "      <th>7</th>\n",
              "      <td>Random Forest</td>\n",
              "      <td>0.854312</td>\n",
              "      <td>0.832645</td>\n",
              "      <td>0.818916</td>\n",
              "      <td>0.854312</td>\n",
              "      <td>0.810628</td>\n",
              "    </tr>\n",
              "    <tr>\n",
              "      <th>8</th>\n",
              "      <td>KNN</td>\n",
              "      <td>0.844852</td>\n",
              "      <td>0.831341</td>\n",
              "      <td>0.820965</td>\n",
              "      <td>0.844852</td>\n",
              "      <td>0.693938</td>\n",
              "    </tr>\n",
              "    <tr>\n",
              "      <th>9</th>\n",
              "      <td>Decision Tree</td>\n",
              "      <td>0.822046</td>\n",
              "      <td>0.822967</td>\n",
              "      <td>0.823902</td>\n",
              "      <td>0.822046</td>\n",
              "      <td>0.595975</td>\n",
              "    </tr>\n",
              "    <tr>\n",
              "      <th>10</th>\n",
              "      <td>SGD</td>\n",
              "      <td>0.878081</td>\n",
              "      <td>0.821079</td>\n",
              "      <td>0.892945</td>\n",
              "      <td>0.878081</td>\n",
              "      <td>0.000000</td>\n",
              "    </tr>\n",
              "  </tbody>\n",
              "</table>\n",
              "</div>"
            ],
            "text/plain": [
              "                  Model  Accuracy        F1  Precision    Recall       ROC\n",
              "0               XGBoost  0.878081  0.821079   0.892945  0.878081  0.846362\n",
              "1     Gradient Boosting  0.878081  0.821079   0.892945  0.878081  0.846156\n",
              "2                  LGBM  0.878115  0.821455   0.838209  0.878115  0.846132\n",
              "3              CatBoost  0.877405  0.822915   0.818824  0.877405  0.842939\n",
              "4   Logistic Regression  0.878013  0.821045   0.771019  0.878013  0.829902\n",
              "5                   LDA  0.875800  0.825152   0.816336  0.875800  0.828957\n",
              "6              Gaussian  0.639716  0.700895   0.903455  0.639716  0.821410\n",
              "7         Random Forest  0.854312  0.832645   0.818916  0.854312  0.810628\n",
              "8                   KNN  0.844852  0.831341   0.820965  0.844852  0.693938\n",
              "9         Decision Tree  0.822046  0.822967   0.823902  0.822046  0.595975\n",
              "10                  SGD  0.878081  0.821079   0.892945  0.878081  0.000000"
            ]
          },
          "metadata": {
            "tags": []
          },
          "execution_count": 26
        }
      ]
    },
    {
      "cell_type": "markdown",
      "metadata": {
        "id": "es5X8QsORkWm"
      },
      "source": [
        "# Model Evaluation"
      ]
    },
    {
      "cell_type": "markdown",
      "metadata": {
        "id": "mT0e8ocog3-F"
      },
      "source": [
        "We will take the dataset after outlier removal and decided to use XGBoost, as it gets the highest score for ROC, Recall and Accuracy"
      ]
    },
    {
      "cell_type": "markdown",
      "metadata": {
        "id": "hOWunxoigW4k"
      },
      "source": [
        "## Parameter Tuning\n",
        "\n",
        "Parameter tuning is useful tu boost our model into getting a better performance. Hence, we tune the model based on the reccomendation from GridSearchCV, a library used to determine better hyperparameter for parameter tunings."
      ]
    },
    {
      "cell_type": "code",
      "metadata": {
        "id": "1UAJFPwEx4Wt"
      },
      "source": [
        "params = {\n",
        "    'n_estimators' : [1000, 1500, 2000],\n",
        "    'max_depth' :[4, 6, 7],\n",
        "    'reg_alpha': [ 0.5, 1, 1.5],  \n",
        "    'reg_lambda':[0.9, 1.5, 2],\n",
        "    'learning_rate': [0.01, 0.5, 0.1],\n",
        "    'col_sample_bytree': [0.7, 0.9, 1.5]\n",
        "}"
      ],
      "execution_count": null,
      "outputs": []
    },
    {
      "cell_type": "code",
      "metadata": {
        "colab": {
          "base_uri": "https://localhost:8080/"
        },
        "id": "XX8nieUl9fkN",
        "outputId": "3f03a731-b825-4c1f-a736-79720579b95e"
      },
      "source": [
        "from sklearn.model_selection import GridSearchCV\n",
        "final_model = XGBClassifier(n_jobs = 4)\n",
        "gs = GridSearchCV(\n",
        "    final_model, params,\n",
        "    scoring='roc_auc',\n",
        "    cv=3,\n",
        "    verbose=True)\n",
        "gs.fit(X_train, y_train)"
      ],
      "execution_count": null,
      "outputs": [
        {
          "output_type": "stream",
          "text": [
            "Fitting 3 folds for each of 9 candidates, totalling 27 fits\n"
          ],
          "name": "stdout"
        },
        {
          "output_type": "stream",
          "text": [
            "[Parallel(n_jobs=1)]: Using backend SequentialBackend with 1 concurrent workers.\n",
            "[Parallel(n_jobs=1)]: Done  27 out of  27 | elapsed: 70.1min finished\n"
          ],
          "name": "stderr"
        },
        {
          "output_type": "execute_result",
          "data": {
            "text/plain": [
              "GridSearchCV(cv=3, error_score=nan,\n",
              "             estimator=XGBClassifier(base_score=0.5, booster='gbtree',\n",
              "                                     colsample_bylevel=1, colsample_bynode=1,\n",
              "                                     colsample_bytree=1, gamma=0,\n",
              "                                     learning_rate=0.1, max_delta_step=0,\n",
              "                                     max_depth=3, min_child_weight=1,\n",
              "                                     missing=None, n_estimators=100, n_jobs=4,\n",
              "                                     nthread=None, objective='binary:logistic',\n",
              "                                     random_state=0, reg_alpha=0, reg_lambda=1,\n",
              "                                     scale_pos_weight=1, seed=None, silent=None,\n",
              "                                     subsample=1, verbosity=1),\n",
              "             iid='deprecated', n_jobs=None,\n",
              "             param_grid={'max_depth': [4, 6, 7],\n",
              "                         'n_estimators': [1000, 1500, 2000]},\n",
              "             pre_dispatch='2*n_jobs', refit=True, return_train_score=False,\n",
              "             scoring='roc_auc', verbose=True)"
            ]
          },
          "metadata": {
            "tags": []
          },
          "execution_count": 130
        }
      ]
    },
    {
      "cell_type": "code",
      "metadata": {
        "colab": {
          "base_uri": "https://localhost:8080/"
        },
        "id": "ZsgJKnpq_wC6",
        "outputId": "62ccfbbe-9416-42d1-d630-ad16c58c87c4"
      },
      "source": [
        "# {'max_depth': 5, 'n_estimators': 1000}\n",
        "# {'reg_alpha': 0.5, 'reg_lambda': 0.9}\n",
        "# {'col_sample_bytree': 0.7, 'learning_rate': 0.1}\n",
        "print(gs.best_params_)"
      ],
      "execution_count": null,
      "outputs": [
        {
          "output_type": "stream",
          "text": [
            "{'max_depth': 4, 'n_estimators': 1000}\n"
          ],
          "name": "stdout"
        }
      ]
    },
    {
      "cell_type": "markdown",
      "metadata": {
        "id": "D2CXCATkgmcI"
      },
      "source": [
        "Now we can start tuning the model and train it"
      ]
    },
    {
      "cell_type": "code",
      "metadata": {
        "id": "12JAd2nUgxgU"
      },
      "source": [
        "new_XGB = XGBClassifier(\n",
        "    max_depth = 4,\n",
        "    n_estimators = 1000,\n",
        "    reg_alpha = 0.5,\n",
        "    reg_lambda = 0.9,\n",
        "    learning_rate = 0.01,\n",
        "    n_jobs = 3\n",
        ")"
      ],
      "execution_count": 27,
      "outputs": []
    },
    {
      "cell_type": "code",
      "metadata": {
        "colab": {
          "base_uri": "https://localhost:8080/"
        },
        "id": "V3qjcV1LhHFh",
        "outputId": "f7657d6e-569d-48da-bd85-400804cdcc0c"
      },
      "source": [
        "new_XGB.fit(X_train, y_train)"
      ],
      "execution_count": 28,
      "outputs": [
        {
          "output_type": "execute_result",
          "data": {
            "text/plain": [
              "XGBClassifier(base_score=0.5, booster='gbtree', colsample_bylevel=1,\n",
              "              colsample_bynode=1, colsample_bytree=1, gamma=0,\n",
              "              learning_rate=0.01, max_delta_step=0, max_depth=4,\n",
              "              min_child_weight=1, missing=None, n_estimators=1000, n_jobs=3,\n",
              "              nthread=None, objective='binary:logistic', random_state=0,\n",
              "              reg_alpha=0.5, reg_lambda=0.9, scale_pos_weight=1, seed=None,\n",
              "              silent=None, subsample=1, verbosity=1)"
            ]
          },
          "metadata": {
            "tags": []
          },
          "execution_count": 28
        }
      ]
    },
    {
      "cell_type": "code",
      "metadata": {
        "id": "e-gE5HZAj2RE"
      },
      "source": [
        "def printScore(model):\n",
        "  score = model.predict_proba(X_test)[:, 1]\n",
        "  pred = model.predict(X_test)\n",
        "  roc = roc_auc_score(y_test, score, average = 'weighted')\n",
        "  print(\"Accuracy score : \", accuracy_score(y_test, pred))\n",
        "  print(\"F1 score : \", f1_score(y_test, pred, average = 'weighted'))\n",
        "  print(\"Precision score : \", precision_score(y_test, pred, average = 'weighted', zero_division=1))\n",
        "  print(\"Recall score : \", recall_score(y_test, pred, average = 'weighted',zero_division=1))\n",
        "  print(\"ROC score : \", roc)\n",
        "  print(classification_report(pred, y_test))  "
      ],
      "execution_count": 29,
      "outputs": []
    },
    {
      "cell_type": "code",
      "metadata": {
        "colab": {
          "base_uri": "https://localhost:8080/"
        },
        "id": "nniy99f7kU6i",
        "outputId": "71ff60cb-5de4-4095-c566-07de95b1366a"
      },
      "source": [
        "printScore(new_XGB) #First try"
      ],
      "execution_count": 30,
      "outputs": [
        {
          "output_type": "stream",
          "text": [
            "Accuracy score :  0.8780809189965368\n",
            "F1 score :  0.8210786793124588\n",
            "Precision score :  0.8929451813092658\n",
            "Recall score :  0.8780809189965368\n",
            "ROC score :  0.8467748807167663\n",
            "              precision    recall  f1-score   support\n",
            "\n",
            "           0       1.00      0.88      0.94     59195\n",
            "           1       0.00      0.00      0.00         0\n",
            "\n",
            "    accuracy                           0.88     59195\n",
            "   macro avg       0.50      0.44      0.47     59195\n",
            "weighted avg       1.00      0.88      0.94     59195\n",
            "\n"
          ],
          "name": "stdout"
        },
        {
          "output_type": "stream",
          "text": [
            "/usr/local/lib/python3.7/dist-packages/sklearn/metrics/_classification.py:1272: UndefinedMetricWarning: Recall and F-score are ill-defined and being set to 0.0 in labels with no true samples. Use `zero_division` parameter to control this behavior.\n",
            "  _warn_prf(average, modifier, msg_start, len(result))\n"
          ],
          "name": "stderr"
        }
      ]
    },
    {
      "cell_type": "markdown",
      "metadata": {
        "id": "JqCyH8NWPaoF"
      },
      "source": [
        "The precision, recall and f1-score for \"1\" in Response showed that there are 0 prediction that predicted \"1\". This is caused by the default treshold which is 0.5. We will later use ROC_AUC as the new treshold to increase the True Positive Rate"
      ]
    },
    {
      "cell_type": "code",
      "metadata": {
        "id": "-q5Bt79FBOlk",
        "colab": {
          "base_uri": "https://localhost:8080/",
          "height": 320
        },
        "outputId": "75d022ae-5b6c-470f-a1bd-b9a93eac2e05"
      },
      "source": [
        "import shap  # package used to calculate Shap values\n",
        "\n",
        "# Create object that can calculate shap values\n",
        "explainer = shap.TreeExplainer(new_XGB)\n",
        "\n",
        "shap_values = shap.TreeExplainer(new_XGB).shap_values(X_test)\n",
        "\n",
        "#plot shap_summary\n",
        "shap.summary_plot(shap_values, X_train, plot_type=\"bar\")"
      ],
      "execution_count": 31,
      "outputs": [
        {
          "output_type": "display_data",
          "data": {
            "image/png": "[encoded data removed]",
            "text/plain": [
              "<Figure size 576x338.4 with 1 Axes>"
            ]
          },
          "metadata": {
            "tags": [],
            "needs_background": "light"
          }
        }
      ]
    },
    {
      "cell_type": "markdown",
      "metadata": {
        "id": "UQYLVP7zP42f"
      },
      "source": [
        "The mean barplot SHAP value showed that Previously_Insured and Vehicle_Damage have the biggest impact in determining response"
      ]
    },
    {
      "cell_type": "code",
      "metadata": {
        "colab": {
          "base_uri": "https://localhost:8080/",
          "height": 324
        },
        "id": "m5iwZZwoDM3g",
        "outputId": "6cb78220-1891-4e55-f428-59ad54f40ee4"
      },
      "source": [
        "plt.figure(figsize = (10,10))\n",
        "shap.summary_plot(shap_values, X_test)"
      ],
      "execution_count": 32,
      "outputs": [
        {
          "output_type": "display_data",
          "data": {
            "image/png": "[encoded data removed]",
            "text/plain": [
              "<Figure size 576x338.4 with 2 Axes>"
            ]
          },
          "metadata": {
            "tags": [],
            "needs_background": "light"
          }
        }
      ]
    },
    {
      "cell_type": "markdown",
      "metadata": {
        "id": "Jt2XQdpmQI1J"
      },
      "source": [
        "It is also explained from feature importance this chart that both Previously_Insured and Vehicle_Age was the most important feature"
      ]
    },
    {
      "cell_type": "markdown",
      "metadata": {
        "id": "adVNeXDLJHPZ"
      },
      "source": [
        "# Predicting on Unseen Datasets\n",
        "\n",
        "Now is the real challenge, we gonna use our model to predict the unseen datasets that we have preprocessed before"
      ]
    },
    {
      "cell_type": "code",
      "metadata": {
        "id": "g1utrdeeJ4zi"
      },
      "source": [
        "X_unseen = unseen.drop('Response', axis = 1)\n",
        "y_unseen = unseen['Response']"
      ],
      "execution_count": 33,
      "outputs": []
    },
    {
      "cell_type": "code",
      "metadata": {
        "colab": {
          "base_uri": "https://localhost:8080/"
        },
        "id": "X_lvp7LLK65P",
        "outputId": "35b0d7e3-57de-43d7-bbe4-3c30d80f9e87"
      },
      "source": [
        "X_train.shape"
      ],
      "execution_count": 34,
      "outputs": [
        {
          "output_type": "execute_result",
          "data": {
            "text/plain": [
              "(236777, 8)"
            ]
          },
          "metadata": {
            "tags": []
          },
          "execution_count": 34
        }
      ]
    },
    {
      "cell_type": "code",
      "metadata": {
        "colab": {
          "base_uri": "https://localhost:8080/"
        },
        "id": "PSiQHaOgK8pg",
        "outputId": "ec80fba3-0cc9-42ba-90b5-e87a981f2e00"
      },
      "source": [
        "X_unseen.shape"
      ],
      "execution_count": 35,
      "outputs": [
        {
          "output_type": "execute_result",
          "data": {
            "text/plain": [
              "(74034, 8)"
            ]
          },
          "metadata": {
            "tags": []
          },
          "execution_count": 35
        }
      ]
    },
    {
      "cell_type": "code",
      "metadata": {
        "colab": {
          "base_uri": "https://localhost:8080/"
        },
        "id": "49T7kwkVK3Bt",
        "outputId": "1a66ccfa-d4a7-4bb5-c514-e4dd51ea1089"
      },
      "source": [
        "y_unseen.shape"
      ],
      "execution_count": 36,
      "outputs": [
        {
          "output_type": "execute_result",
          "data": {
            "text/plain": [
              "(74034,)"
            ]
          },
          "metadata": {
            "tags": []
          },
          "execution_count": 36
        }
      ]
    },
    {
      "cell_type": "code",
      "metadata": {
        "id": "3gXj8ENxKG7J"
      },
      "source": [
        "def predictUnseenValues(model, X_unseen, y_unseen):\n",
        "  score = model.predict_proba(X_unseen)[:, 1]\n",
        "  pred = model.predict(X_unseen)\n",
        "  roc = roc_auc_score(y_unseen, score, average = 'weighted')\n",
        "  print(\"Accuracy score : \", accuracy_score(y_unseen, pred))\n",
        "  print(\"F1 score : \", f1_score(y_unseen, pred, average = 'weighted'))\n",
        "  print(\"Precision score : \", precision_score(y_unseen, pred, average = 'weighted', zero_division = 1))\n",
        "  print(\"Recall score : \", recall_score(y_unseen, pred, average = 'weighted', zero_division = 1))\n",
        "  print(\"ROC score : \", roc)\n",
        "  return score, pred, roc"
      ],
      "execution_count": 37,
      "outputs": []
    },
    {
      "cell_type": "code",
      "metadata": {
        "colab": {
          "base_uri": "https://localhost:8080/"
        },
        "id": "FXCk6xODKOhz",
        "outputId": "2f4263ed-adff-48f9-cb11-990ec2755593"
      },
      "source": [
        "final_score, final_pred, final_roc = predictUnseenValues(new_XGB, X_unseen, y_unseen)"
      ],
      "execution_count": 38,
      "outputs": [
        {
          "output_type": "stream",
          "text": [
            "Accuracy score :  0.8780830429262231\n",
            "F1 score :  0.8210817228542153\n",
            "Precision score :  0.8929467873483522\n",
            "Recall score :  0.8780830429262231\n",
            "ROC score :  0.8482817855576683\n"
          ],
          "name": "stdout"
        }
      ]
    },
    {
      "cell_type": "code",
      "metadata": {
        "colab": {
          "base_uri": "https://localhost:8080/",
          "height": 296
        },
        "id": "6eqfWF1COMFR",
        "outputId": "ee3c8c74-7a9b-46ea-fb54-61cf86f7140b"
      },
      "source": [
        "from sklearn import metrics\n",
        "metrics.plot_roc_curve(new_XGB, X_unseen, y_unseen)"
      ],
      "execution_count": 39,
      "outputs": [
        {
          "output_type": "execute_result",
          "data": {
            "text/plain": [
              "<sklearn.metrics._plot.roc_curve.RocCurveDisplay at 0x7f5373a44dd0>"
            ]
          },
          "metadata": {
            "tags": []
          },
          "execution_count": 39
        },
        {
          "output_type": "display_data",
          "data": {
            "image/png": "[encoded data removed]",
            "text/plain": [
              "<Figure size 432x288 with 1 Axes>"
            ]
          },
          "metadata": {
            "tags": [],
            "needs_background": "light"
          }
        }
      ]
    },
    {
      "cell_type": "code",
      "metadata": {
        "id": "OXemnDDoOotd"
      },
      "source": [
        "from sklearn.metrics import confusion_matrix"
      ],
      "execution_count": 40,
      "outputs": []
    },
    {
      "cell_type": "code",
      "metadata": {
        "colab": {
          "base_uri": "https://localhost:8080/"
        },
        "id": "q9KmIhSIUkPQ",
        "outputId": "5c1583f2-1aef-4a53-ae30-08129df1ff8b"
      },
      "source": [
        "confusion_matrix(y_unseen, final_pred, labels =[0, 1])"
      ],
      "execution_count": 41,
      "outputs": [
        {
          "output_type": "execute_result",
          "data": {
            "text/plain": [
              "array([[65008,     0],\n",
              "       [ 9026,     0]])"
            ]
          },
          "metadata": {
            "tags": []
          },
          "execution_count": 41
        }
      ]
    },
    {
      "cell_type": "code",
      "metadata": {
        "id": "093J8RjEPzhg"
      },
      "source": [
        "result = []\n",
        "for i in final_score:\n",
        "  if i > 0.15:\n",
        "    result.append(1)\n",
        "  else:\n",
        "    result.append(0)"
      ],
      "execution_count": 43,
      "outputs": []
    },
    {
      "cell_type": "code",
      "metadata": {
        "colab": {
          "base_uri": "https://localhost:8080/"
        },
        "id": "GLSf-IvWQQkS",
        "outputId": "56d8099d-c4d0-4384-b03c-092e7c5e4fac"
      },
      "source": [
        "confusion_matrix(y_unseen, result)"
      ],
      "execution_count": 45,
      "outputs": [
        {
          "output_type": "execute_result",
          "data": {
            "text/plain": [
              "array([[45300, 19708],\n",
              "       [ 1015,  8011]])"
            ]
          },
          "metadata": {
            "tags": []
          },
          "execution_count": 45
        }
      ]
    },
    {
      "cell_type": "code",
      "metadata": {
        "colab": {
          "base_uri": "https://localhost:8080/"
        },
        "id": "HmxM0DchcZFD",
        "outputId": "2d9d773f-6e4f-4e06-d02a-a228ea560b01"
      },
      "source": [
        "Predicted1 = 8011+19708\n",
        "Predicted0 = 1015+45300\n",
        "Total = len(result)\n",
        "SavedTarget = (Total-Predicted1) / Total * 100\n",
        "print(\"The amount of expenses saved using machine learning: \" + str(round(SavedTarget,2)) + \"%\")"
      ],
      "execution_count": 44,
      "outputs": [
        {
          "output_type": "stream",
          "text": [
            "The amount of expenses saved using machine learning: 62.56%\n"
          ],
          "name": "stdout"
        }
      ]
    },
    {
      "cell_type": "code",
      "metadata": {
        "colab": {
          "base_uri": "https://localhost:8080/"
        },
        "id": "a_YkO21-To45",
        "outputId": "62f7d6fb-3da0-4f42-874e-5b09710cb538"
      },
      "source": [
        "print(classification_report(y_unseen, result, labels=[0,1], zero_division=1))"
      ],
      "execution_count": 46,
      "outputs": [
        {
          "output_type": "stream",
          "text": [
            "              precision    recall  f1-score   support\n",
            "\n",
            "           0       0.98      0.70      0.81     65008\n",
            "           1       0.29      0.89      0.44      9026\n",
            "\n",
            "    accuracy                           0.72     74034\n",
            "   macro avg       0.63      0.79      0.62     74034\n",
            "weighted avg       0.89      0.72      0.77     74034\n",
            "\n"
          ],
          "name": "stdout"
        }
      ]
    },
    {
      "cell_type": "markdown",
      "metadata": {
        "id": "rPf1fwfvRcF9"
      },
      "source": [
        "# Downloading model weight (pickle)"
      ]
    },
    {
      "cell_type": "code",
      "metadata": {
        "id": "RbJWFzKORe7I"
      },
      "source": [
        "import pickle\n",
        "\n",
        "filename = 'finalized_model.sav'\n",
        "pickle.dump(new_XGB, open(filename, 'wb'))\n",
        "loaded_model = pickle.load(open(filename, 'rb'))"
      ],
      "execution_count": 49,
      "outputs": []
    },
    {
      "cell_type": "markdown",
      "metadata": {
        "id": "EL3ahgiXk9g-"
      },
      "source": [
        "Downloading the file in .sav"
      ]
    },
    {
      "cell_type": "code",
      "metadata": {
        "colab": {
          "base_uri": "https://localhost:8080/",
          "height": 17
        },
        "id": "bjBpd2sjSNYt",
        "outputId": "17f68994-2c96-46af-8e3b-0ae73cd91a7e"
      },
      "source": [
        "from google.colab import files\n",
        "files.download('finalized_model.sav')"
      ],
      "execution_count": 50,
      "outputs": [
        {
          "output_type": "display_data",
          "data": {
            "application/javascript": [
              "\n",
              "    async function download(id, filename, size) {\n",
              "      if (!google.colab.kernel.accessAllowed) {\n",
              "        return;\n",
              "      }\n",
              "      const div = document.createElement('div');\n",
              "      const label = document.createElement('label');\n",
              "      label.textContent = `Downloading \"${filename}\": `;\n",
              "      div.appendChild(label);\n",
              "      const progress = document.createElement('progress');\n",
              "      progress.max = size;\n",
              "      div.appendChild(progress);\n",
              "      document.body.appendChild(div);\n",
              "\n",
              "      const buffers = [];\n",
              "      let downloaded = 0;\n",
              "\n",
              "      const channel = await google.colab.kernel.comms.open(id);\n",
              "      // Send a message to notify the kernel that we're ready.\n",
              "      channel.send({})\n",
              "\n",
              "      for await (const message of channel.messages) {\n",
              "        // Send a message to notify the kernel that we're ready.\n",
              "        channel.send({})\n",
              "        if (message.buffers) {\n",
              "          for (const buffer of message.buffers) {\n",
              "            buffers.push(buffer);\n",
              "            downloaded += buffer.byteLength;\n",
              "            progress.value = downloaded;\n",
              "          }\n",
              "        }\n",
              "      }\n",
              "      const blob = new Blob(buffers, {type: 'application/binary'});\n",
              "      const a = document.createElement('a');\n",
              "      a.href = window.URL.createObjectURL(blob);\n",
              "      a.download = filename;\n",
              "      div.appendChild(a);\n",
              "      a.click();\n",
              "      div.remove();\n",
              "    }\n",
              "  "
            ],
            "text/plain": [
              "<IPython.core.display.Javascript object>"
            ]
          },
          "metadata": {
            "tags": []
          }
        },
        {
          "output_type": "display_data",
          "data": {
            "application/javascript": [
              "download(\"download_9bfd1536-dcfc-4461-b852-cd249d164d9b\", \"finalized_model.sav\", 1086299)"
            ],
            "text/plain": [
              "<IPython.core.display.Javascript object>"
            ]
          },
          "metadata": {
            "tags": []
          }
        }
      ]
    },
    {
      "cell_type": "markdown",
      "metadata": {
        "id": "CqiOIWhQk5oN"
      },
      "source": [
        "Downloading the model in .pkl"
      ]
    },
    {
      "cell_type": "code",
      "metadata": {
        "colab": {
          "base_uri": "https://localhost:8080/"
        },
        "id": "bCJRR6YzklsG",
        "outputId": "62dadc72-b2e6-4b0b-9497-a11840606b23"
      },
      "source": [
        "from sklearn.externals import joblib\n",
        "joblib.dump(new_XGB, \"finalized_model.pkl\")"
      ],
      "execution_count": 53,
      "outputs": [
        {
          "output_type": "execute_result",
          "data": {
            "text/plain": [
              "['finalized_model.pkl']"
            ]
          },
          "metadata": {
            "tags": []
          },
          "execution_count": 53
        }
      ]
    },
    {
      "cell_type": "code",
      "metadata": {
        "colab": {
          "base_uri": "https://localhost:8080/",
          "height": 17
        },
        "id": "F8AxnbLckvgC",
        "outputId": "971795d2-6fd9-4351-a1b9-47b1c5434800"
      },
      "source": [
        "files.download('finalized_model.pkl')"
      ],
      "execution_count": 54,
      "outputs": [
        {
          "output_type": "display_data",
          "data": {
            "application/javascript": [
              "\n",
              "    async function download(id, filename, size) {\n",
              "      if (!google.colab.kernel.accessAllowed) {\n",
              "        return;\n",
              "      }\n",
              "      const div = document.createElement('div');\n",
              "      const label = document.createElement('label');\n",
              "      label.textContent = `Downloading \"${filename}\": `;\n",
              "      div.appendChild(label);\n",
              "      const progress = document.createElement('progress');\n",
              "      progress.max = size;\n",
              "      div.appendChild(progress);\n",
              "      document.body.appendChild(div);\n",
              "\n",
              "      const buffers = [];\n",
              "      let downloaded = 0;\n",
              "\n",
              "      const channel = await google.colab.kernel.comms.open(id);\n",
              "      // Send a message to notify the kernel that we're ready.\n",
              "      channel.send({})\n",
              "\n",
              "      for await (const message of channel.messages) {\n",
              "        // Send a message to notify the kernel that we're ready.\n",
              "        channel.send({})\n",
              "        if (message.buffers) {\n",
              "          for (const buffer of message.buffers) {\n",
              "            buffers.push(buffer);\n",
              "            downloaded += buffer.byteLength;\n",
              "            progress.value = downloaded;\n",
              "          }\n",
              "        }\n",
              "      }\n",
              "      const blob = new Blob(buffers, {type: 'application/binary'});\n",
              "      const a = document.createElement('a');\n",
              "      a.href = window.URL.createObjectURL(blob);\n",
              "      a.download = filename;\n",
              "      div.appendChild(a);\n",
              "      a.click();\n",
              "      div.remove();\n",
              "    }\n",
              "  "
            ],
            "text/plain": [
              "<IPython.core.display.Javascript object>"
            ]
          },
          "metadata": {
            "tags": []
          }
        },
        {
          "output_type": "display_data",
          "data": {
            "application/javascript": [
              "download(\"download_8c2ca481-c790-4b38-a17d-0762a8559e21\", \"finalized_model.pkl\", 1086359)"
            ],
            "text/plain": [
              "<IPython.core.display.Javascript object>"
            ]
          },
          "metadata": {
            "tags": []
          }
        }
      ]
    }
  ]
}